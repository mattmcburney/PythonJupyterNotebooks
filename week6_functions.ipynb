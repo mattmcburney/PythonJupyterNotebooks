{
 "cells": [
  {
   "cell_type": "markdown",
   "metadata": {
    "collapsed": true
   },
   "source": [
    "# Functions"
   ]
  },
  {
   "cell_type": "markdown",
   "metadata": {},
   "source": [
    "We have looked at several different methods of affecting our programs' _control flow,_ including conditionals (`if`/`elif`/`else`) and repetition structures (`for`/`while`). Functions represent our third control flow manipulation mechanism, giving us the power to jump from place to place in our program and to repeat code blocks with even more finesse than loops allowed.\n",
    "\n",
    "We have already used **built-in** functions like `min()` and `max()` &mdash; they take in a bunch of numbers as **arguments,** and they **return** the smallest or largest number (respectively) that they were given. Whenever you call `min()`, `max()`, or any other built-in function, you are using a piece of code that someone else has written. The difference in what we're doing now is that we will be **defining our own functions,** in addition to using Python's built-in functions. \n",
    "\n",
    "Let's start with some vocabulary. Seeing these definitions may not be incredibly helpful just yet, until you've got a little more context, but after we've looked at some concrete examples, it'll be good for you to have them to refer back to.\n",
    "\n",
    "* __define a function__:  this is where you define the name, parameters, and code for your functions.  You do this with your `def` block.  E.g. `def function_name():`\n",
    "* __call a function__:  this is when you actually call the function to execute, and you do this via `function_name()` somewhere else in your code\n",
    "* __parameters/arguments__:  these are the values you want to give the function when you call it; you can have 0 parameters/arguments (technically, \"parameters\" are what you create when you define the function, and \"arguments\" are what you use when you call it, but only really frustrating people will ever give you trouble for using the terms interchangeably)\n",
    "* __'passing' values__: this is how you give the function the arguments it needs to give you values back; \"passing\" means that the value is handed off in the system such that it can be saved and processed.  This is different from printing values, which just spits the value out to the console and you can capture and save that value.\n",
    "* __`return`__: this is how you pass a value out of a function\n",
    "\n",
    "Here's what that looks like:\n",
    "\n",
    "```python\n",
    "# function definition\n",
    "def function_name(parameter1, parameter2):\n",
    "    # this is the function's code block\n",
    "    # anything indented here is part of the function\n",
    "    return a_return_value\n",
    ".\n",
    ".\n",
    ".\n",
    "# function call - passing the values of argument1 and argument2 into the function\n",
    "some_value = function_name(argument1, argument2)\n",
    "```"
   ]
  },
  {
   "cell_type": "code",
   "execution_count": null,
   "metadata": {},
   "outputs": [],
   "source": [
    "# here is a concrete function definition and call\n",
    "# it won't make a whole ton of sense, just yet\n",
    "\n",
    "def first_vowel(a_string):\n",
    "    '''returns the first vowel to show up in a string, or an empty string if there are no vowels'''\n",
    "    for letter in a_string:\n",
    "        if letter in 'aeiouAEIOU':\n",
    "            return letter\n",
    "    return ''\n",
    "\n",
    "print(\"first vowel in 'hope is the thing with feathers':\", first_vowel(\"hope is the thing with feathers\"))\n",
    "print(\"first vowel in 'xyz'\", first_vowel(\"xyz\"))\n",
    "print(\"first vowel in 'Sphinx of black quartz, judge my vow'\", first_vowel(\"Sphinx of black quartz, judge my vow\"))"
   ]
  },
  {
   "cell_type": "markdown",
   "metadata": {},
   "source": [
    "\n",
    "Functions capture and host a select chunk of code that can be repeatedly called. They are widely used to help keep the flow of longer programs clear, because you can modularize the processing elsewhere. There are also modules with specialized functions that we import and use for specific tasks as we need them.\n",
    "\n",
    "So, a function is an element you can add into your program to make the structure of the program **more organized** or **cleaner to understand**, and less something that is _necessary_ to help solve a problem.\n",
    "\n",
    "Functions can theoretically contain any piece of code, which means that people use them in a wide variety of styles and purposes. \n",
    "\n",
    "When starting out with functions, **1) think about elements that you might want to repeat over and over.**  You can put all that code into a function, and then you just have to call the function every time you need to do the thing.\n",
    "\n",
    "If you start to write the same (or very, very similar) code over again, stop and ask yourself, \"could I write a function and only have to write this code once?\" (Concept: \"Don't Repeat Yourself\")\n",
    "\n",
    "You might also want to use a function **2) when your code is getting very long and you are having a hard time following what is going on in your program.** This is particularly useful when you have many levels of granularity, and thus your program is starting to have many levels of indents. For example:\n",
    "\n",
    "```\n",
    "for file in files:\n",
    "    for record in file:\n",
    "        for line in record:\n",
    "            for word in line:\n",
    "                # do a thing with the word\n",
    "            # do a thing with the line\n",
    "        # do a thing with the record\n",
    "    # do a thing with the file            \n",
    "```\n",
    "\n",
    "This is getting pretty unreadable even with no code under any of these things. If you were writing this kind of processing script, with multiple files that have multiple records and so on inside them, each of these `for` loops would have _multiple_ lines of processing code inside them. Imagine what that would look like, all in one place, inside a set of nested `for` loops. You'd have a really hard time reading (let alone debugging!) the code and understanding which `for` loop each piece of code belongs to.\n",
    "\n",
    "In this kind of case, we can first try to snip out the longest chunk of processing code and put that into a function. You could also consider making each of these a separate function, processing each level of granularity.\n",
    "\n",
    "It might start to look something like this:\n",
    "\n",
    "```\n",
    "for file in files:\n",
    "    records = get_records(file)\n",
    "    for record in records:\n",
    "        data = process_record(record)\n",
    "```\n",
    "\n",
    "This is still very abstract, but imagine that the multiple lines of processing of all of those lines and words was sent off to live in the `process_record()` function.  In this case, all the processing work has been sent out to `get_records()` and `process_record()`, so this might be all the code there is in the main processing section of our program.  This can make the whole program easier to understand, because all the processing and data manipulation elements have been isolated. \n",
    "\n",
    "There are many nuanced pieces to understanding functions, so it is best to start with small examples where we can explore each piece independently."
   ]
  },
  {
   "cell_type": "markdown",
   "metadata": {},
   "source": [
    "# The life of a function\n",
    "\n",
    "This is a quick life cycle of how a function will appear in your code.\n",
    "\n",
    "A function will have three phases in your code.  This doesn't mean that these phases are traversed in order and never revisited, but this is how your code will be structured.\n",
    "\n",
    "1. _Thinking_ phase (for the humans)\n",
    "    * This is another 'hands off the keyboard' phase where you sit and think through everything about the function. You need to think about the purpose of the function, names, inputs, outputs, and intended actions. Write down your thoughts in your plan.<br><br>\n",
    "2. _Defining_ phase\n",
    "    * This is where the function is defined in your code (how exactly we do that is the next section). You're going to write code according to the specifications that you determined in phase 1. Your plans may change as you start implementing&mdash;this is normal&mdash;but planning ahead is still important. You can revise your plan!\n",
    "    * Once a function is defined, Python only knows what's there. **If all you've done is define a function, none of the code inside of it has been executed yet.** <br><br>\n",
    "3.  _Calling_ phase\n",
    "    * Now that Python has learned about the function, you can make it actually execute the code. You do this by calling the function. This is the part we'll talk about next, because it's already somewhat familiar."
   ]
  },
  {
   "cell_type": "markdown",
   "metadata": {},
   "source": [
    "# Function call anatomy\n",
    "\n",
    "We've already been using functions -- hopefully, we're all pretty comfortable with `input()` and `print()`, and we're getting there with `len()` and `range()`. We know that these functions exist because we've been using them, but we've never actually seen them defined. They are built into Python's standard library and have already been implemented for us by the creators of the Python language.\n",
    "\n",
    "Remember that when we call functions, we do so by stating the name of the function, followed by `()`, and then we sometimes need to place parameters inside the `()` to give it something to act on.\n",
    "\n",
    "**So the anatomy of a function _call_ is:**\n",
    "\n",
    "``` python\n",
    "function_name(arguments)  # notice: no space before the parentheses\n",
    "```\n",
    "\n",
    "There may be multiple arguments separated by commas, just one, or no arguments at all.  \n",
    "\n",
    "The functions that we'll be doing next are our own home-grown ones.  We decide what we want the functions to do, what their name is, the parameters, and what they return back to us."
   ]
  },
  {
   "cell_type": "code",
   "execution_count": null,
   "metadata": {},
   "outputs": [],
   "source": [
    "# but let's do a concrete example of a function call with\n",
    "# some built-in functions we've seen before\n",
    "\n",
    "# max() is a function; it returns a value;\n",
    "# we can assign that value to a variable\n",
    "the_biggest = max(2, 4, 8, 3.14, 42, 5)\n",
    "\n",
    "# print() is also a function\n",
    "print(the_biggest)"
   ]
  },
  {
   "cell_type": "markdown",
   "metadata": {},
   "source": [
    "# The function definition anatomy\n",
    "\n",
    "**The anatomy of a function _definition_ is:**\n",
    "\n",
    "``` python\n",
    "def function_name(parameters): # define\n",
    "    ''' a docstring that says what the function does'''\n",
    "    result = ??parameters?? # do stuff; what you do here will vary\n",
    "    return result # return only one thing\n",
    "    \n",
    "# and then, somewhere outside the function, you'll call it\n",
    "# otherwise, it never runs\n",
    "```\n",
    "\n",
    "There are the excruciatingly detailed steps to creating a function:\n",
    "\n",
    "1. **Design/Planning phase** (remember that these are thinking tasks here, so you can answer phase 1 items in your own natural language)\n",
    "    1. what do you want to name the function?\n",
    "        * follow normal variable naming protocols\n",
    "        * consider maybe using verbs (action words) for your function names\n",
    "    2. what should the function take as input, if anything?\n",
    "        * Inputs (parameters) are optional, but you could have one or many coming in. There's other nuance here, but we're going to start with the most generic form.\n",
    "    3. what does the function need to do? (this answer may be very abstract when starting out)\n",
    "        * This is your 'do stuff' step.\n",
    "    4. what should the function return? or: what should the function give back to you\n",
    "        * While you _can_ choose not to return something, we won't usually be doing that.\n",
    "            - If you don't return something, your function probably has some other kind of **side effect** (fancy CS term for \"something happened, but it wasn't a return value\"), like changing a global variable (no, _don't do this_) or printing something to the console.\n",
    "        * You must pick _one and only one object_ to return. I know the book talked about returning multiple things, but we'll generally be sticking to returning a single string or number or Boolean value for the time being.\n",
    "            - yes, functions can absolutely return `True` or `False` \n",
    "2. **Defining phase** (remember that this phase only teaches Python about your function. None of the code in the body of the function is executed during this phase)\n",
    "    1. Add the `def` block line in, providing the function name you chose.\n",
    "        * So you'll have `def my_function():` thus far\n",
    "    2. Add the parameter variables into the `()` of the def block\n",
    "        * Give these sensible names that you'll remember later.\n",
    "        * You will provide these **in the order that they should be provided when calling the function**, with the variable names separated by commas. Leave the `()` empty if you aren't requiring that the function take any input.\n",
    "        * So you'll have `def my_function(thing1, thing2):` at this point\n",
    "    3. Inside the function definition block (so indented under the `def` line), add your do stuff items.\n",
    "        * So you'll have \n",
    "        ```python \n",
    "        def my_function(thing1, thing2):\n",
    "            some_local_variable = some operation involving thing1 & thing2, probably\n",
    "        ```\n",
    "    4. Add your return statement (probably)\n",
    "        * this is a separate step because it will always be the last thing to happen in your function.\n",
    "        * it should come last because your function execution will immediately stop as soon as Python hits a `return` statement.\n",
    "        * `return` is a keyword and not a function, so there aren't any `()`.  Provide the single object that you want to return after the keyword. Do not actually add multiple items after this separated by commas; it wasn't nice of the book to show you that right now.   \n",
    "        * So you'll have \n",
    "        ```python \n",
    "        def my_function(thing1, thing2):\n",
    "            '''here is the docstring, which says what the function does'''\n",
    "            some_local_variable = some operation involving thing1 & thing2, probably\n",
    "            return some_local_variable # see? no ()!\n",
    "        ```\n",
    "     5. **Your function is not finished unless there is a docstring** saying what it does and, ideally, describing what its inputs (parameters) and outputs (return value or side effects) should be.\n",
    "3. **Calling phase** (now is the time to make the code actually work. When you call the function, you are finally asking Python to execute the code in that function).\n",
    "    1. Somewhere later in your code, you'll call the function with the function's name and `()`.  You'll add this inside `main()` (more on that in a bit), and not inside your function definition. \n",
    "    2. Provide the arguments in the `()` according to how you defined it.  So if you said `def student(name, age):`, then you must provide those values in that order, a name _then_ an age. \n",
    "    3.  Choose where you want the returned results to go. Right now, you essentially have two choices:  print it or save it to a variable. I suggest saving it to a variable; that way you have the value to mess with later.\n",
    "        * So you'll have \n",
    "            ```python \n",
    "            def my_function(thing1, thing2):\n",
    "                ''' docstring that describes what the function does'''\n",
    "                some_local_variable = some operation involving thing1 & thing2, probably\n",
    "                return some_local_variable\n",
    "                \n",
    "            my_result = my_function(\"fizzy\", \"pop\")\n",
    "            print(my_result)\n",
    "            \n",
    "            # or, if you prefer:\n",
    "            # print(my_function(\"fizzy\", \"pop\"))\n",
    "            ```\n",
    "\n",
    "\n",
    "We're going to tackle these one at a time with small examples."
   ]
  },
  {
   "cell_type": "markdown",
   "metadata": {},
   "source": [
    "\n",
    "# Let's work through an example\n",
    "We're going to explore each of these elements one at a time.  Don't be afraid to use the steps/checklist.\n",
    "\n",
    "We're going to write a [madlib](http://www.madlibs.com/) creation function. It'll take a singular and plural noun and put them into a sentence together. \n",
    "\n",
    "Let's follow the steps.\n",
    "\n",
    "# Design\n",
    "\n",
    "1. What is the name? \n",
    "    * make_madlib\n",
    "2.  What should it take as input?\n",
    "    * we need two things:  a singular and plural version of the same noun\n",
    "    * in code terms, we're expecting two strings\n",
    "3. What does it need to do?\n",
    "    * craft the madlib using the words provided.\n",
    "    * it will concatenate the strings passed into it into a larger string\n",
    "4. What should the function return?\n",
    "    * the final string of our fully formed madlib.\n",
    "   \n",
    "\n",
    "# Define\n",
    "\n",
    "Let's use the information we determined to fill in our function definition.\n",
    "\n",
    "## 1. def block\n",
    "\n",
    "Python in general doesn't care about, nor is it aware of, the content of your function names. The usual restrictions of variable names apply, but everything else is up to personal style choice.  Like variable names, remember that calling something `letter` doesn't mean that Python knows anything about letters or the content. These names are for human consumption.\n",
    "\n",
    "The formal Python style guidelines say this about how to format function names:\n",
    "\n",
    "```\n",
    "Function names should be lowercase, with words separated by underscores as necessary to improve readability.\n",
    "\n",
    "mixedCase is allowed only in contexts where that's already the prevailing style (e.g. threading.py), to retain backwards compatibility.\n",
    "```\n",
    "From PEP8: https://www.python.org/dev/peps/pep-0008/#function-names\n",
    "\n",
    "So the format should be lowercase, but the content is more up to you. As with other variables, clarity is the most important. You will need to type them in, so it needs to be of a reasonable length. Usually functions do something, so I tend to use verbs in my function names.  \n",
    "\n",
    "This one is a short and silly function we can use to explore the syntax.\n",
    "\n",
    "We're also just going to put a `print` statement in there to make it syntactically valid. We also know that we're going to add parameters, but let's just get it working first.\n",
    "\n",
    "In general, when writing functions, we want to follow two-phased development process: The first phase is simply hooking the function into the code and checking that the input/output is working correctly&mdash;just print or return something, to make sure the function is getting called where you think it should be. This can be a the hardest thing to get right when you are learning functions, so isolating it from the actual problem to solve can help keep your mind on track. \n",
    "\n",
    "Only once you've gotten all the plumbing sorted out should you turn your attention to whatever the code should be within your function."
   ]
  },
  {
   "cell_type": "code",
   "execution_count": null,
   "metadata": {},
   "outputs": [],
   "source": [
    "# our function definition\n",
    "def make_madlib(test):\n",
    "    return test\n",
    "\n",
    "# our function call\n",
    "print(make_madlib(\"hello, just testing\"))"
   ]
  },
  {
   "cell_type": "markdown",
   "metadata": {},
   "source": [
    "Things to note:\n",
    "\n",
    "* this was opened with a `def` block\n",
    "* the `()` are absolutely required, even if there are no parameters to pass\n",
    "* the code you want to run in the function is indented under the `def` opening line\n",
    "\n",
    "**Common problem!!!**  Remember that we need to call our function to actually make it run.  Again, we just want to see it working.\n",
    "\n",
    "Let's see what happens if we forget it:"
   ]
  },
  {
   "cell_type": "code",
   "execution_count": null,
   "metadata": {},
   "outputs": [],
   "source": [
    "def make_madlib(test):\n",
    "    return test"
   ]
  },
  {
   "cell_type": "markdown",
   "metadata": {},
   "source": [
    "This has executed, but nothing has happened. The code inside the function has been 'learned' by Python, but not actually executed.\n",
    "\n",
    "**Common problem!!**\n",
    "Let's see what happens if we run this, but forget that `print` statement."
   ]
  },
  {
   "cell_type": "code",
   "execution_count": null,
   "metadata": {},
   "outputs": [],
   "source": [
    "def make_madlib(test):\n",
    "    return test\n",
    "\n",
    "make_madlib(\"hello, just testing\")"
   ]
  },
  {
   "cell_type": "markdown",
   "metadata": {},
   "source": [
    "OK, in a Jupyter notebook, we still seem to get output, but if we put this into Spyder, not so much.\n",
    "\n",
    "`return` != `print()`"
   ]
  },
  {
   "cell_type": "code",
   "execution_count": null,
   "metadata": {},
   "outputs": [],
   "source": [
    "# just repeating the properly-structured test, here...\n",
    "\n",
    "def make_madlib(test):\n",
    "    return test\n",
    "\n",
    "print(make_madlib(\"hello, just testing\"))"
   ]
  },
  {
   "cell_type": "markdown",
   "metadata": {},
   "source": [
    "Once you have the plumbing phase sorted out, now you can add useful things.\n",
    "\n",
    "When you are approaching this phase, don't forget that good variable names are so important for understanding what's going on with your code.\n",
    "\n",
    "You should know exactly what you want to send your function, and put that in the variable name.\n",
    "\n",
    "## 2. add parameters\n",
    "\n",
    "Recall our definitions:\n",
    "\n",
    "* pass a value: we're going to tell our function that it will take a value in \n",
    "\n",
    "Parameters are the heart of the power of functions.  They allow us not just to make repeatable code, but they allow us to have that code operate on arbitary values.  We can do a little madlib here.\n",
    "\n",
    "Remember our definition?  We want to take in a noun, but need it in a singular and plural form.  Let's call these `singular` and `plural`.  I'll add them into the parameter area and try running it.\n",
    "\n",
    "**Common problem!!!** You're getting an error about missing positional arguments."
   ]
  },
  {
   "cell_type": "code",
   "execution_count": null,
   "metadata": {},
   "outputs": [],
   "source": [
    "def make_madlib(singular, plural):\n",
    "    return singular\n",
    "\n",
    "print(make_madlib())"
   ]
  },
  {
   "cell_type": "markdown",
   "metadata": {},
   "source": [
    "See that error?  What's happened here is that we've defined our function as requiring two inputs, but then didn't provide any when we called it."
   ]
  },
  {
   "cell_type": "code",
   "execution_count": null,
   "metadata": {},
   "outputs": [],
   "source": [
    "def make_madlib(singular, plural):\n",
    "    return singular\n",
    "\n",
    "print(make_madlib(\"lizard\", \"lizards\"))"
   ]
  },
  {
   "cell_type": "markdown",
   "metadata": {},
   "source": [
    "Well, now it works(!), but it's still printing out what we put in. Now is the time to do stuff!\n",
    "\n",
    "## 3. Do stuff!!!\n",
    "\n",
    "What do we want our madlib to say?\n",
    "\n",
    "\"Nice `____` you have there. Where can I get some `____`?\"\n",
    "\n",
    "Let's also explore the meaning of using `print()` and `return` statements.\n",
    "\n",
    "So in the following code we've got a print statement using the values in a larger thing and a return statement using just one of the input values. \n",
    "\n",
    "You may absolutely use print statements within your functions! Be mindful that they can trip you up, but they can be an excellent tool for viewing what's going on within your function. (I use them for debugging my own functions, sometimes.)\n",
    "\n",
    "Pay careful attention to the `return` statement needing to be the last thing happening in your function."
   ]
  },
  {
   "cell_type": "code",
   "execution_count": null,
   "metadata": {},
   "outputs": [],
   "source": [
    "def make_madlib(singular, plural):\n",
    "    # print the sentence\n",
    "    print(\"Nice\", singular, \"you have there. Where can I get some\", plural + \"?\")\n",
    "    # return one of the parameters\n",
    "    return singular\n",
    "\n",
    "# call our function inside a print statement\n",
    "print(make_madlib(\"lizard\", \"lizards\"))"
   ]
  },
  {
   "cell_type": "markdown",
   "metadata": {},
   "source": [
    "Let's stop and think here for a second. \n",
    "\n",
    "We can just throw in that print statement and see the results. But what if we don't want just to print things later? Often, we will want a string we can use!\n",
    "\n",
    "So.\n",
    "\n",
    "Instead of using the `print` statement to make it, I'm going to do some string concatenation to make everything into one string. Note that I'll need to add the spaces in explicitly, because I was previously depending on the print() function to add them for me.\n",
    "\n",
    "As you develop a function, you might start by printing values for testing, but you should quickly come back to the return statement."
   ]
  },
  {
   "cell_type": "code",
   "execution_count": null,
   "metadata": {},
   "outputs": [],
   "source": [
    "def make_madlib(singular, plural):\n",
    "    sentence = \"Nice \" + singular +  \" you have there. Where can I get some \" + plural + \"?\"\n",
    "\n",
    "make_madlib(\"lizard\", \"lizards\")"
   ]
  },
  {
   "cell_type": "markdown",
   "metadata": {},
   "source": [
    "Ohhh!  So I've run it but nothing has happened! Why is that?  "
   ]
  },
  {
   "cell_type": "code",
   "execution_count": null,
   "metadata": {},
   "outputs": [],
   "source": [
    "def make_madlib(singular, plural):\n",
    "    sentence = \"Nice \" + singular +  \" you have there. Where can I get some \" + plural + \"?\"\n",
    "    \n",
    "print(make_madlib(\"lizard\", \"lizards\"))"
   ]
  },
  {
   "cell_type": "markdown",
   "metadata": {},
   "source": [
    "**Common problem!!!** What is this `None` crap?  This happens when you print the results of a function that has no return expression.  By default, functions return something.  So when you don't say what you want returned, it'll give you a `None` object.\n",
    "\n",
    "You can largely ignore what exactly `None` is for now, but **the solution to getting rid of `None` is often adding a return expression.**\n",
    "\n",
    "## What `return` is for\n",
    "\n",
    "Return tells the function what to pass back after execution.  Remember in the plumbing setup you were printing the value of the parameter?\n",
    "\n",
    "So instead of printing a value for our human eyes via `print()`, we can return back the value so that we can capture it in a variable.  Without a return we wouldn't be able to save the value we calculate inside the function into a variable. (Remember: if you don't return a value, your function returns `None`.)\n",
    "\n",
    "`return` is completely different from `print()`. `print()` spits out the content to the console, but you can't access the content, only view it.\n",
    "\n",
    "Meanwhile, `return` will actually pass the value back to you to capture. You'd then need to print it directly, should you want to."
   ]
  },
  {
   "cell_type": "code",
   "execution_count": null,
   "metadata": {},
   "outputs": [],
   "source": [
    "def make_madlib(singular, plural):\n",
    "    sentence = \"Nice \" + singular +  \" you have there. Where can I get some \" + plural + \"?\"\n",
    "    return sentence\n",
    "    \n",
    "make_madlib(\"lizard\", \"lizards\") # OK, but see...\n",
    "#print(make_madlib(\"lizard\", \"lizards\"))"
   ]
  },
  {
   "cell_type": "markdown",
   "metadata": {},
   "source": [
    "So in Jupyter notebooks this will print an output, **but try it in Spyder in a regular script.**  Nothing will print!  The value will exist, but be sent off into the ether.  Neither saved nor put in front of your eyes.\n",
    "\n",
    "You can do a few things here, but the two most straightforward are either throwing the function call into a `print` statement or saving the value to a variable (and then you can print that amongst other things). "
   ]
  },
  {
   "cell_type": "code",
   "execution_count": null,
   "metadata": {},
   "outputs": [],
   "source": [
    "def make_madlib(singular, plural):\n",
    "    sentence = \"Nice \" + singular +  \" you have there. Where can I get some \" + plural + \"?\"\n",
    "    return sentence\n",
    "    \n",
    "print(make_madlib(\"lizard\", \"lizards\"))"
   ]
  },
  {
   "cell_type": "code",
   "execution_count": null,
   "metadata": {},
   "outputs": [],
   "source": [
    "def make_madlib(singular, plural):\n",
    "    sentence = \"Nice \" + singular +  \" you have there. Where can I get some \" + plural + \"?\"\n",
    "    return sentence\n",
    "    \n",
    "my_madlib = make_madlib(\"lizard\", \"lizards\")\n",
    "print(my_madlib)"
   ]
  },
  {
   "cell_type": "code",
   "execution_count": null,
   "metadata": {},
   "outputs": [],
   "source": [
    "# proving we can send in variables and not just literals\n",
    "animal_singular = 'lizard'\n",
    "animal_plural = 'lizards' \n",
    "\n",
    "# madlib() was defined above, so we can use it here\n",
    "the_madlib = make_madlib(animal_singular, animal_plural)\n",
    "print(the_madlib)"
   ]
  },
  {
   "cell_type": "markdown",
   "metadata": {},
   "source": [
    "# All together now\n",
    "\n",
    "Let's look at how this can be seen in a larger program.  Say that we have a variety of word pairs and want to see them all.  This is where functions can come in handy.\n",
    "\n",
    "We can feed in other variables for our parameters."
   ]
  },
  {
   "cell_type": "code",
   "execution_count": null,
   "metadata": {},
   "outputs": [],
   "source": [
    "def make_madlib(singular, plural):\n",
    "    '''takes two strings, ideally a singular and plural of the same noun, and returns\n",
    "    a single sentence with both words in it'''\n",
    "    sentence = \"Nice \" + singular +  \" you have there. Where can I get some \" + plural + \"?\"\n",
    "    return sentence\n",
    "    \n",
    "# set some variables    \n",
    "animal_singular = 'lizard'\n",
    "animal_plural = 'lizards' \n",
    "\n",
    "lizard_madlib = make_madlib(animal_singular, animal_plural)\n",
    "print(lizard_madlib)"
   ]
  },
  {
   "cell_type": "markdown",
   "metadata": {},
   "source": [
    "We can also call this multiple times in a clean way."
   ]
  },
  {
   "cell_type": "code",
   "execution_count": null,
   "metadata": {},
   "outputs": [],
   "source": [
    "def make_madlib(singular, plural):\n",
    "    '''takes two strings, ideally a singular and plural of the same noun, and returns\n",
    "    a single sentence with both words in it'''\n",
    "    sentence = \"Nice \" + singular +  \" you have there. Where can I get some \" + plural + \"?\"\n",
    "    return sentence\n",
    "\n",
    "print(make_madlib(\"bird\", \"birds\"))\n",
    "print(make_madlib(\"cat\", \"cats\"))\n",
    "print(make_madlib(\"human\", \"humans\"))"
   ]
  },
  {
   "cell_type": "markdown",
   "metadata": {},
   "source": [
    "Things to note:\n",
    "\n",
    "* this function takes 2 parameters:  `singular` and `plural`\n",
    "* these parameter names are separated by a comma and appear in our `()` in the def line\n",
    "* the order that I report the variable names in the `()` matches the order that I have them in my function call\n",
    "* **their parameter variable names don't match the \"outside world\" variable names that I call the function with**\n",
    "* I don't even need to have a variable in there at all\n",
    "* the \"do stuff\" portion of my code uses both the parameter variable names, and not the outside world one"
   ]
  },
  {
   "cell_type": "markdown",
   "metadata": {},
   "source": [
    "Things to note:\n",
    "\n",
    "* again, I have full access to whatever is passed in, but I have to use the parameter variable names\n",
    "* these variables are normal--just named and defined in the function definition and calling process (respectively) so I can use all normal stuff at my disposal to work with that content\n",
    "* there are no visual cues in your function definition as to what your parameter data types will be, so be careful about your variable names"
   ]
  },
  {
   "cell_type": "code",
   "execution_count": null,
   "metadata": {},
   "outputs": [],
   "source": [
    "def make_madlib(singular, plural):\n",
    "    '''takes two strings, ideally a singular and plural of the same noun, and returns\n",
    "    a single sentence with both words in it'''\n",
    "    # doing this right\n",
    "    sentence = \"Nice \" + singular +  \" you have there. Where can I get some \" + plural + \"?\"\n",
    "    # doing this VERY WRONG - using global variable names, not parameters\n",
    "    #sentence = \"Nice \" + word +  \" you have there. Where can I get some \" + word_plural + \"?\"\n",
    "    return sentence\n",
    "\n",
    "word = \"bird\"\n",
    "word_plural = \"birds\"\n",
    "print(make_madlib(word, word_plural))\n",
    "\n",
    "print(\"\\nProving a point, swapping the inputs:\")\n",
    "print(make_madlib(word_plural, word))"
   ]
  },
  {
   "cell_type": "markdown",
   "metadata": {},
   "source": [
    "## Scope\n",
    "\n",
    "Variables declared inside a function &mdash; and that includes the parameters named inside the function declaration &mdash; are only usable within that function. That is referred to as the variables having \"local scope\" within that function. If you try to use a local variable outside of its scope, you'll get an error. \n",
    "\n",
    "We've had a taste of something similar to scope, already: remember when we tried to declare a variable inside an `if` block that never ran, and we got an error when we tried to access it later? Variables declared inside functions are a little bit like that. In the case of the variable in the `if` branch that was never taken, _the variable was never declared._ In the case of local variables, _they are created when their parent function executes and then forgotten (as if they were never declared) when that function returns (ends)._\n",
    "\n",
    "You may to be tempted to make things \"easier\" for yourself by only using global variables, so that you don't have to bother yourself about scope. Resist that temptation. (Also, that's definitely the kind of thing I take off points for, so ... it should be easier to resist.) **We will stop using global variables as of this week's homework assignment.** "
   ]
  },
  {
   "cell_type": "code",
   "execution_count": null,
   "metadata": {},
   "outputs": [],
   "source": [
    "# playing around with scope\n",
    "def a_very_good_function(variable_a, variable_b):\n",
    "    a_local_variable = variable_a + variable_b\n",
    "    return a_local_variable\n",
    "\n",
    "a = 40\n",
    "b = 2\n",
    "my_global_variable = a_very_good_function(a, b)\n",
    "\n",
    "print(a)\n",
    "print(b)\n",
    "print(my_global_variable)\n",
    "print(a_local_variable)"
   ]
  },
  {
   "cell_type": "markdown",
   "metadata": {},
   "source": [
    "Here's where I tell you how we get rid of global variables.\n",
    "\n",
    "# main()\n",
    "\n",
    "OK, so. You do not strictly _have_ to have a main() function defined in your Python scripts for them to run. (This is mind-blowing for people coming from other programming languages.) Even if you have other functions, you can just put the main logic of your program at the bottom, outside of any function, and it will run.\n",
    "\n",
    "But.\n",
    "\n",
    "Using it will help you.\n",
    "\n",
    "So I will show you how to write a Python script with `main()`. I want you to use it, and I also will use it for the rest of my solutions (even the one going up this week). Because it can save you different kinds of trouble at different stages of your development as a programmer.\n",
    "\n",
    "Short-term, remember the example above where I used my global variables instead of the parameters of my function? Well, having your primary logic in a `main()` block will help prevent that sort of trouble, because those variables will no longer be global. \n",
    "\n",
    "Mid-term... give me a minute, and I'll come back to why this is useful.\n",
    "\n",
    "Long-term, big systems (like web frameworks, for instance) do this, and it's just a good habit that will look good to other developers who read your code. That said, if you want to develop __really__ good habits, you'll add one more piece to the puzzle, and your scripts will look like this:\n",
    "\n",
    "```python\n",
    "import modules  # we'll discuss in a minute! ignore for now\n",
    "# as many more import statements as you need\n",
    "\n",
    "\n",
    "# MAYBE a global CONSTANT here\n",
    "# but absolutely NO global variables!\n",
    "\n",
    "\n",
    "def functions():\n",
    "    '''docstrings for all your functions'''\n",
    "    function stuff happens inside functions\n",
    "    \n",
    "    \n",
    "# as many more functions as you need\n",
    "\n",
    "\n",
    "def main():\n",
    "    # the main logic of your program\n",
    "    # if this starts to get very long, you need more functions\n",
    "    # all those functions you defined above get called in here\n",
    "        # (or maybe they get called inside one another, which\n",
    "        # is also great)\n",
    " \n",
    "        \n",
    "# and we set the whole thing going with this incantation\n",
    "if __name__ == \"__main__\":\n",
    "    main()\n",
    "    \n",
    "```\n",
    "\n",
    "That ugly-looking little piece at the bottom is what really keeps your `main()` function from being called if you import your script into another script. It just means \"If this script is being called directly, rather than from another script.\" \n",
    "\n",
    "It's one of the ugliest things in Python, and any piece of code big enough, with enough other pieces, will have it. So let's use it. Add it to your template for class project files. (I'm giving you a template with your homework this week.)\n",
    "\n",
    "(Uh... experienced programmer tip: most of us don't actually start with empty files, most of the time, especially if we're part of an organization&mdash;like a Python class or most companies' development teams&mdash;where we are supposed to follow some kind of formatting guidelines. We save a generic version of a file that follows those guidelines and customize it every time.) "
   ]
  },
  {
   "cell_type": "code",
   "execution_count": null,
   "metadata": {},
   "outputs": [],
   "source": [
    "# protecting ourselves from scope errors\n",
    "def make_madlib(singular, plural):\n",
    "    \"\"\"takes a singular and plural noun (strings) and outputs a one-sentence madlib\"\"\"\n",
    "    # doing this right\n",
    "    sentence = \"Nice \" + singular +  \" you have there. Where can I get some \" + plural + \"?\"\n",
    "    # doing this VERY WRONG\n",
    "#     sentence = \"Nice \" + word +  \" you have there. Where can I get some \" + word_plural + \"?\"\n",
    "    return sentence\n",
    "\n",
    "def main():\n",
    "    \"\"\" control logic for the program \"\"\"\n",
    "    word = \"bird\"\n",
    "    word_plural = \"birds\"\n",
    "    print(make_madlib(word, word_plural))\n",
    "\n",
    "    print(\"\\nProving a point, swapping the inputs:\")\n",
    "    print(make_madlib(word_plural, word))\n",
    "    \n",
    "if __name__ == \"__main__\":\n",
    "    main()"
   ]
  },
  {
   "cell_type": "markdown",
   "metadata": {},
   "source": [
    "A note, especially for people coming to Python from other languages: the name \"main\" is not magic. You can call your starting point function anything. See?"
   ]
  },
  {
   "cell_type": "code",
   "execution_count": null,
   "metadata": {},
   "outputs": [],
   "source": [
    "def make_madlib(singular, plural):\n",
    "    \"\"\"takes a singular and plural noun (strings) and outputs a one-sentence madlib\"\"\"\n",
    "    # doing this right\n",
    "    sentence = \"Nice \" + singular +  \" you have there. Where can I get some \" + plural + \"?\"\n",
    "    return sentence\n",
    "\n",
    "def coffee():\n",
    "    \"\"\" control logic for the program \"\"\"\n",
    "    word = \"bird\"\n",
    "    word_plural = \"birds\"\n",
    "    print(make_madlib(word, word_plural))\n",
    "\n",
    "    print(\"\\nProving a point, swapping the inputs:\")\n",
    "    print(make_madlib(word_plural, word))\n",
    "    \n",
    "if __name__ == \"__main__\":\n",
    "    coffee()  # but whatever you call your function, it has to be called here\n",
    "    # the __main__ in the incantation above is unrelated to the name of the function"
   ]
  },
  {
   "cell_type": "markdown",
   "metadata": {},
   "source": [
    "# function vital facts\n",
    "\n",
    "There is one piece of trivia worth memorizing:\n",
    "\n",
    "* you can have an unlimited number of `print` statements in your function, and they won't affect the control flow of the program\n",
    "* you can have an unlimited number of `return` statements in your function, but only the first one to be executed will run.  After that the function will stop running and control flow will go back to the main program (or, wherever comes after where you called that function)"
   ]
  },
  {
   "cell_type": "code",
   "execution_count": null,
   "metadata": {},
   "outputs": [],
   "source": [
    "def return_something_louder(phrase_str):\n",
    "    \"\"\" takes a string in any case and outputs the same string in uppercase \"\"\"\n",
    "    text = phrase_str.upper()\n",
    "    return text\n",
    "    print(10/0) # this line will never run - good!\n",
    "    print(text) # neither will this\n",
    "\n",
    "# we set the variable but didn't ever print it\n",
    "louder2 = return_something_louder(\"Hello, I would like to science.\")"
   ]
  },
  {
   "cell_type": "markdown",
   "metadata": {},
   "source": [
    "This can be quite sneaky, particularly as a newcomer not used to seeing these things.  Which is why, again, I suggest that you always design your functions so that the `return` is on the last line."
   ]
  },
  {
   "cell_type": "markdown",
   "metadata": {},
   "source": [
    "## Functions can return Boolean values\n",
    "\n",
    "I just wanted to make sure we're clear on this. It's important.\n",
    "\n",
    "Also important: you can use functions in conditional statements."
   ]
  },
  {
   "cell_type": "code",
   "execution_count": null,
   "metadata": {},
   "outputs": [],
   "source": [
    "def is_greater(value_a, value_b):\n",
    "    \"\"\"checks if the first parameter is greater than the second; returns a Boolean \"\"\"\n",
    "    is_it_greater = False\n",
    "    if value_a > value_b:\n",
    "        is_it_greater = True\n",
    "    return is_it_greater\n",
    "\n",
    "# do we want to talk about any of the shortcuts I took there?\n",
    "# like why there wasn't an else?\n",
    "\n",
    "if is_greater(6, 5):\n",
    "    print(\"6 > 5\")\n",
    "else:\n",
    "    print(\"6 is not greater than 5\")"
   ]
  },
  {
   "cell_type": "markdown",
   "metadata": {},
   "source": [
    "## Keyword arguments\n",
    "\n",
    "You can have a good and happy Python-using life without ever writing a function with a keyword argument (I did for multiple years!), but it's really good that you will at least have seen this: you'll know what's going on when working with other folks' code. And they are really neat, if you do want to use them in your code! \n",
    "\n",
    "The main gist is that, instead of using parameters with positional requirements, you can use labeled parameters _with default values_. \n",
    "\n",
    "You've seen and probably used keyword arguments already:"
   ]
  },
  {
   "cell_type": "code",
   "execution_count": null,
   "metadata": {},
   "outputs": [],
   "source": [
    "print(\"Hello world!\", \"What a lovely Wednesday!\", sep=\"\\n\", end=\" \")\n",
    "print(\"This shows up on the same line.\")"
   ]
  },
  {
   "cell_type": "markdown",
   "metadata": {},
   "source": [
    "But we can also write functions with our own keyword arguments. "
   ]
  },
  {
   "cell_type": "code",
   "execution_count": null,
   "metadata": {},
   "outputs": [],
   "source": [
    "def make_madlib(singular=\"chicken\", plural=\"chickens\"):\n",
    "    \"\"\" takes a singular and plural noun (strings) and outputs a one-sentence madlib \"\"\"\n",
    "    sentence = \"Nice \" + singular +  \" you have there. Where can I get some \" + plural + \"?\"\n",
    "    return sentence\n",
    "    \n",
    "result = make_madlib(plural=\"lizards\", singular=\"lizard\")\n",
    "result2 = make_madlib()\n",
    "print(result, result2, sep=\"\\n\")"
   ]
  },
  {
   "cell_type": "markdown",
   "metadata": {
    "collapsed": true
   },
   "source": [
    "# Importing and modularity\n",
    "\n",
    "There is a lot of really good and useful code out there in modules. The book gave you examples from `random` and `math`, which I'll review here briefly, but there are _so many_. You'll use some for web scraping and working with APIs if you go on to Python 2. \n",
    "\n",
    "And, as always, you have the ability to create your own, as well!\n",
    "\n",
    "## Pulling in a module\n",
    "\n",
    "To get access to the goodies inside a module, you need an `import` statement. These take a couple of different forms, but for now we will just focus on the most basic.\n",
    "\n",
    "Let's say we want access to pi. "
   ]
  },
  {
   "cell_type": "code",
   "execution_count": null,
   "metadata": {},
   "outputs": [],
   "source": [
    "import math\n",
    "\n",
    "print(math.pi)"
   ]
  },
  {
   "cell_type": "markdown",
   "metadata": {},
   "source": [
    "Let's look at our options for getting pseudorandom numbers (because that's a thing we're going to want to do from time to time throughout the semester!):\n",
    "* `random.randint(bottom_bound, top_bound)` - gives you a pseudorandom _integer_ between the bottom_bound and the top_bound, inclusive\n",
    "* `random.randrange(bottom_bound, top_bound, step)` - gives you a pseudorandom integer between the bottom_bound and **one less than the top_bound**, with a step value you can specify -- so you can get only even numbers, only numbers divisible by 5, etc.\n",
    "* `random.random()` - gives you a random float between 0 and 1 (not inclusive) - good for generating percentages!"
   ]
  },
  {
   "cell_type": "code",
   "execution_count": null,
   "metadata": {},
   "outputs": [],
   "source": [
    "import random\n",
    "\n",
    "print(random.randint(0, 100))\n",
    "print(random.randrange(0, 100, 2))\n",
    "print(random.randrange(0, 100, 5))\n",
    "print(format((random.random() * 100), '.2f'))"
   ]
  },
  {
   "cell_type": "markdown",
   "metadata": {
    "collapsed": true
   },
   "source": [
    "Because there are people in my life who play games that require multiple kinds of dice, I've written a program (which should be saved in the same directory as this notebook) called \"dice.py.\" You can roll a single virtual die with 4, 6, 8, 10, 12, or 20 sides by calling `d4()`, `d6()`, `d8()`, `d10()`, `d12()`, or `d20()`, respectively. If you run the file, it will give you a sample roll of each die type. \n",
    "\n",
    "If you import it, however, you can use those virtual dice for other things in your own program!"
   ]
  },
  {
   "cell_type": "code",
   "execution_count": null,
   "metadata": {},
   "outputs": [],
   "source": [
    "import dice\n",
    "\n",
    "print(dice.d4())"
   ]
  },
  {
   "cell_type": "markdown",
   "metadata": {},
   "source": [
    "The value of this might not be immediately apparent. I mean, that file only contains seven functions, most of them a single line long. Just pasting that into another program wouldn't make it _that much_ longer and harder to read. \n",
    "\n",
    "But imagine there were lots more types of dice (there are, actually! for fun geometry reasons, a lot of them are unfair, and for historical reasons, I guess?, the larger-number dice aren't used in any of the games my friends play). Imagine that you needed to write up a virtual game that used dice _and_ cards _and_ some other kind of game piece. Your program would get very large, very quickly, before you even got to the main logic block!\n",
    "\n",
    "Modularizing your code helps keep things neat.\n",
    "\n",
    "Now, I did promise to come back to why we use main() in our own programs, now. Having your logic in a `main()` block can prevent it from running if you import your script into another script. If we go look at dice.py, we'll see that it has a main() block in it. It can be run as a script, or it can be imported into another script.\n",
    "\n",
    "And since the Deitels brought it up, I guess I should show you a couple of the subtleties of importing modules..."
   ]
  },
  {
   "cell_type": "code",
   "execution_count": null,
   "metadata": {},
   "outputs": [],
   "source": [
    "# we can import in such a way that \n",
    "#we don't have to use the dot notation\n",
    "from dice import d4\n",
    "\n",
    "print(d4())\n",
    "\n",
    "from random import randint\n",
    "\n",
    "print(randint(0, 100))\n",
    "\n",
    "#OK, but if you do this, you can't switch modes\n",
    "# print(random.randint(0,50))"
   ]
  },
  {
   "cell_type": "markdown",
   "metadata": {},
   "source": [
    "Honestly? Using that method, where you import a single function or method from a module is a little risky. It would be easy for you to forget you'd done that, when you go back to edit a piece of code you've written in the past. It would be easy to accidentally overwrite something, too."
   ]
  },
  {
   "cell_type": "code",
   "execution_count": null,
   "metadata": {},
   "outputs": [],
   "source": [
    "from math import pi\n",
    "\n",
    "print(pi)\n",
    "\n",
    "pi = 3.4\n",
    "\n",
    "print(pi) # oh no."
   ]
  },
  {
   "cell_type": "code",
   "execution_count": null,
   "metadata": {},
   "outputs": [],
   "source": [
    "# if we're going to save typing, let's do it like this instead\n",
    "import random as rand\n",
    "\n",
    "print(rand.randint(0, 100))"
   ]
  },
  {
   "cell_type": "markdown",
   "metadata": {},
   "source": [
    "Just as a final reminder, here is what our programs look like now:\n",
    "\n",
    "```python\n",
    "import modules \n",
    "# as many more import statements as you need\n",
    "\n",
    "\n",
    "# MAYBE a global CONSTANT here\n",
    "# but absolutely NO global variables!\n",
    "\n",
    "\n",
    "def functions():\n",
    "    '''docstrings for all your functions'''\n",
    "    function stuff happens inside functions\n",
    "    \n",
    "    \n",
    "# as many more functions as you need\n",
    "\n",
    "\n",
    "def main():\n",
    "    # the main logic of your program\n",
    "    # if this starts to get very long, you need more functions\n",
    "    # all those functions you defined above get called in here\n",
    "        # (or maybe they get called inside one another, which\n",
    "        # is also great)\n",
    " \n",
    "        \n",
    "# and we set the whole thing going with this incantation\n",
    "if __name__ == \"__main__\":\n",
    "    main()\n",
    "    \n",
    "```\n",
    "\n",
    "We don't use global variables &mdash; every variable must be declared inside main() or another function. \n",
    "\n",
    "If you don't want to use the fancy incantation, you are absolutely allowed to just call main() at the bottom of your script with a simple \n",
    "```main()```"
   ]
  }
 ],
 "metadata": {
  "anaconda-cloud": {},
  "kernelspec": {
   "display_name": "Python 3",
   "language": "python",
   "name": "python3"
  },
  "language_info": {
   "codemirror_mode": {
    "name": "ipython",
    "version": 3
   },
   "file_extension": ".py",
   "mimetype": "text/x-python",
   "name": "python",
   "nbconvert_exporter": "python",
   "pygments_lexer": "ipython3",
   "version": "3.7.9"
  }
 },
 "nbformat": 4,
 "nbformat_minor": 1
}
