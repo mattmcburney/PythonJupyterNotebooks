{
 "cells": [
  {
   "cell_type": "markdown",
   "metadata": {},
   "source": [
    "# Reading and Writing Files\n",
    "\n",
    "This is an exciting week! Up until now, everything we've done inside our programs has begun when we hit \"run\" and ended when the program exited. With the ability to read from and write to files, we suddenly have the ability to save information between sessions.\n",
    "\n",
    "Maybe this doesn't seem immediately powerful, but consider: What if you have a report to write each month on website log metrics? Each month you receive a data file from a colleague, the server, or downloaded from something like Google Analytics. The contents of the data file obviously change each month, but the structure does not. This means that you can write your analysis script once and rerun it over the file that you recieve each month. You may need to change parameters along the way, but the hard work has been done!\n",
    "\n",
    "This is an exciting week, but maybe it's also a little bit of an intimidating week: you have the ability to open and write to (thus, potentially, overwriting) the files you have saved on your hard drive. So. We'll proceed with joy, but also with caution.\n",
    "\n",
    "## Reading Files\n",
    "\n",
    "Reading is the safest of the options, so we'll start there. \n",
    "\n",
    "There are three main patterns for reading in files and processing the data within them: `read()`, `readlines()`, and `readline()`. All three are core to Python, and you will find that they are roughly interchangable--by which we do not mean that they do precisely the same thing, but rather that you can almost always accomplish whatever you need to do with the file contents no matter which pattern you choose to use. \n",
    "\n",
    "Most new Python programmers find that they have a favorite. And kind of like `for` and `while`, while some situations will be a more natural fit for one of these options than the others, you can usually make your favorite pattern work. The division usually happens between `readline()` and `readlines()`/`read()`. Much like knitting and crochet, one side usually finds the other to be unfathomable. That's fine. As you get more practice, you'll eventually also become more comfortable with whichever one you prefer to avoid right now. \n",
    "\n",
    "For now, unless the assignment names a specific method to be used, you should use the method that you are the most comfortable with.\n",
    "\n",
    "While there are three basic methods of reading in files, each is going to have roughly the same framework:\n",
    "\n",
    "1. Open the file in whichever mode you need (right now we're discussing reading, 'r') \n",
    "    * This looks like `file_in = open(file_path, mode)` (this is just the pattern to use; you'll have to supply the file path, name, and extension and the mode value yourself)\n",
    "    * Remember that you will always have to do an assignment statement to save the file object so you can act on it later. I'm using `file_in` as an example variable name, but you can change it.\n",
    "    * This creates your file IO object, which you will work with in step 2\n",
    "    * you may need to have `open(file_path, mode, encoding = 'utf-8')` if your computer is based in another language.\n",
    "2. Do work using that file IO object\n",
    "    * This is where each program will be really different, but you'll be doing various actions to your `file_in` object, or whatever the variable name of your file IO object is.\n",
    "3. Close the file.\n",
    "    * this will always be the same pattern, `file_in.close()`. (replace `file_in` with your file IO variable name)\n",
    "    \n",
    "An important thing to keep in mind: the variable that you create with your `open()` expression will be your access point to the contents of the file. The content within that file is accessed by that object at your direction; that is the purpose of this object. This object is how Python knows about your file, but this doesn't mean that the file IO object knows about your file's content. You'll need to direct that object to access the content that you want.\n",
    "\n",
    "### File types\n",
    "\n",
    "You should only be using plain text files (examples: .txt, .md, .csv, .py) for the file reading methods that we will be discussing here.  They will not work with propietary file formats like Word or Excel documents. There are modules in Python that make it possible to read other types of files, and those of you who continue on in the Data Analytics program will get to meet a few of them in later classes.\n",
    "\n",
    "### Lines are pretty important\n",
    "\n",
    "Several of the file reading tools we'll be using navigate through the content of a file based on newlines. Newlines are really one of the most essential units of data. \n",
    "\n",
    "As a reminder, to create a newline of your own (or to search for newlines if you're using `read()`), you use an escape character: `\\n`\n",
    "\n",
    "### The cursor\n",
    "\n",
    "Don't curse the cursor!  When you open a file for reading, there's an invisible cursor that the system places within that file.  It starts at the very beginning of the file and moves forward at your direction.  This means you can direct it to go forward character by character or line by line.  But you can never move backwards!  This means that you cannot 'reread' a file once you've already done a read action to it.  Once the cursor has found the end of the file, it stops and will not move forward unless it receives a command to do so.\n",
    "\n",
    "For example:\n",
    "\n",
    "1. Let's say you open a file for reading\n",
    "2. You use `.read()` on that file.  The cursor is now at the end of the file.\n",
    "3. You cannot then use `.readlines()` on it after because `.readlines()` is going to attempt to start reading from the end of that file.  You'll get nothing.\n",
    "\n",
    "Just as we need to take some time to think about how we might want to loop over something, once you're accustomed to how these different methods interact with data, you can take some time to think about how you want to maneuver the cursor over the file that you are working with. \n",
    "\n",
    "### The 3 essential patterns:  `.read()`, `.readlines()`, and `.readline()`\n",
    "\n",
    "We're going to cover these in order of complexity.\n",
    "\n",
    "1. `.read()` reads the entire contents of the file into a single string, that you can then operate on like any normal string. You will have a very short file reading section in your program. This is often the best one to get started with, because we've been used to having all our text and data as one big string. \n",
    "\n",
    "2. `.readlines()` will read an entire file into a list of the lines in the file, so each line in the file will become an element in that list. This preserves all the order and content of the file, but gives it back to you in the handy structure of a list.  This invaluable when you want a list of lines rather than a big, long string that needs to be broken up.\n",
    "\n",
    "3. `.readline()` will read the file line by line starting at the beginning.  This is the one where the cursor is something that you are directly interacting with, as it will only move forward within the file at your direction.\n",
    "\n",
    "Each of these is **a method on a file object** (so it is `file_object.read()` or `file_object.readline()` or whatever) - and that file object is not the file itself. It also is not (and is not aware of) the contents of the file. It is just an object that you use to interact with the file."
   ]
  },
  {
   "cell_type": "markdown",
   "metadata": {},
   "source": [
    "## `.read()`: read all the things into one string\n",
    "\n",
    "When usure about which method to use, use `.read()`\n",
    "\n",
    "This is the basic formula for `.read()`, which will read the entire contents of the file into a single string.  After you have read the file contents into that string, you will operate on that string instead of the file object.  The nice thing is that, now that the contents are a regular string, so you can use all your normal string operations on it. (This is what we did last week.)\n",
    "\n",
    "In fact, this is the point of this kind of thing.  The program reads the data into active memory, then does stuff to it.  This allows you to have a very large data file live outside of your script, perhaps even on an another server or in a database.\n",
    "\n",
    "The formula for `.read()` is the simplest, and this is usually done at the beginning of your program.\n",
    "\n",
    "* Step 1\n",
    "    * `file_IO_variable = open(filepath, mode)`\n",
    "* Step 2\n",
    "    * `file_contents = file_IO_variable.read()`\n",
    "* Step 3\n",
    "    * `file_IO_variable.close()`"
   ]
  },
  {
   "cell_type": "code",
   "execution_count": null,
   "metadata": {},
   "outputs": [],
   "source": [
    "def main():\n",
    "    # create a file IO object\n",
    "    my_file_object = open('hope.txt', 'r') # 1\n",
    "\n",
    "    # get the big long string out of the file \n",
    "    # using the file IO object\n",
    "    all_the_text = my_file_object.read() # 2\n",
    "\n",
    "    # do something with the string, probably\n",
    "    print(\"This is all the text from the .read():\")\n",
    "    print(\"-------------------------------------\")\n",
    "    print(all_the_text) \n",
    "\n",
    "    # CLOSE THE FILE\n",
    "    my_file_object.close() # 3\n",
    "    \n",
    "main()"
   ]
  },
  {
   "cell_type": "markdown",
   "metadata": {},
   "source": [
    "That is it.  At this point, all the data that you want is inside of `all_the_text`.  After the `.read()` has been executed the cursor is at the end of the file.  There is nothing left to read, so when you ask it to read the file again, there is no more text to traverse over so you get back an empty string.\n",
    "\n",
    "We can see `.read()` in action when this happens."
   ]
  },
  {
   "cell_type": "code",
   "execution_count": null,
   "metadata": {},
   "outputs": [],
   "source": [
    "# open hope.txt\n",
    "my_file_object = open('hope.txt', 'r')\n",
    "\n",
    "all_the_text = my_file_object.read()\n",
    "\n",
    "print(\"This is all the text from the FIRST .read():\")\n",
    "print(\"-------------------------------------------\")\n",
    "print(all_the_text) \n",
    "\n",
    "# now the cursor is at the end of the text in the file\n",
    "# we can still use .read(), but since it is at the end of the file we get an empty string back\n",
    "\n",
    "maybe_more = my_file_object.read() # here's the second file read attempt\n",
    "\n",
    "print(\"--------------------------------------------\")\n",
    "print(\"This is all the text from the SECOND .read():\")\n",
    "print(\"--------------------------------------------\")\n",
    "print(maybe_more) # an empty string\n",
    "\n",
    "my_file_object.close()\n"
   ]
  },
  {
   "cell_type": "markdown",
   "metadata": {},
   "source": [
    "Printing these out sort of hides what's happening in these strings. So let's use some handy interactive stuff.\n",
    "\n",
    "The `all_the_text` variable contains the contents of our first `.read()` call, so it has all the contents of our file.\n",
    "\n",
    "The `maybe_more` variable contains whatever was returned from our second `.read()` call, so we can see better now that it is an empty string."
   ]
  },
  {
   "cell_type": "code",
   "execution_count": null,
   "metadata": {},
   "outputs": [],
   "source": [
    "all_the_text"
   ]
  },
  {
   "cell_type": "code",
   "execution_count": null,
   "metadata": {},
   "outputs": [],
   "source": [
    "maybe_more"
   ]
  },
  {
   "cell_type": "markdown",
   "metadata": {},
   "source": [
    "You can no longer do reading or writing operations to a file IO object that has been closed&mdash;and your operating system will thank you for making sure to always close your files!&mdash;so `.close()` has been called on it.\n",
    "\n",
    "You will generate an error if you try to use a file IO object after it has been closed.  I'm adapting our previous example to show what happens when `.read()` is called on our file object after `.close()` has been called on it.  This generates a pretty helpful error message, saying that \"`I/O operation on closed file.`\""
   ]
  },
  {
   "cell_type": "code",
   "execution_count": null,
   "metadata": {},
   "outputs": [],
   "source": [
    "my_file_object = open('hope.txt', 'r')\n",
    "\n",
    "all_the_text = my_file_object.read()\n",
    "\n",
    "print(\"This is all the text from the FIRST .read():\")\n",
    "print(\"-------------------------------------------\")\n",
    "print(all_the_text)\n",
    "\n",
    "my_file_object.close()\n",
    "\n",
    "# now we try to read it after closing it\n",
    "maybe_more = my_file_object.read()"
   ]
  },
  {
   "cell_type": "markdown",
   "metadata": {},
   "source": [
    "But, note: you still have your string saved in a variable after the file is closed! You can keep working on that after closing the file, and it's fine. "
   ]
  },
  {
   "cell_type": "code",
   "execution_count": null,
   "metadata": {},
   "outputs": [],
   "source": [
    "def main():\n",
    "    my_file_object = open('hope.txt', 'r')\n",
    "\n",
    "    all_the_text = my_file_object.read()\n",
    "\n",
    "    # now we close the file up here\n",
    "    my_file_object.close()\n",
    "\n",
    "    print(\"This is all the text from .read() before closing:\")\n",
    "    print(\"------------------------------------------------\")\n",
    "    print(all_the_text)\n",
    "\n",
    "main()"
   ]
  },
  {
   "cell_type": "markdown",
   "metadata": {},
   "source": [
    "There is a way to move the cursor back to the top of an open file. (Besides closing and reopening it, I mean.) \n",
    "\n",
    "You can call `file_object.seek(0)`"
   ]
  },
  {
   "cell_type": "code",
   "execution_count": null,
   "metadata": {},
   "outputs": [],
   "source": [
    "def main():\n",
    "    my_file_object = open('hope.txt', 'r')\n",
    "\n",
    "    all_the_text = my_file_object.read()\n",
    "\n",
    "    print(\"This is all the text from the FIRST .read():\")\n",
    "    print(\"-------------------------------------------\")\n",
    "    print(all_the_text) \n",
    "\n",
    "    # now the cursor is at the end of the text in the file\n",
    "\n",
    "    # send it back to the beginning\n",
    "    my_file_object.seek(0)\n",
    "    \n",
    "    maybe_more = my_file_object.read() # here's the second file read attempt\n",
    "\n",
    "    print(\"--------------------------------------------\")\n",
    "    print(\"This is all the text from the SECOND .read():\")\n",
    "    print(\"--------------------------------------------\")\n",
    "    print(maybe_more) # so what's here?\n",
    "\n",
    "    my_file_object.close()\n",
    "\n",
    "main()"
   ]
  },
  {
   "cell_type": "markdown",
   "metadata": {},
   "source": [
    "### Quick practice! \n",
    "\n",
    "Read in the file emperor.txt (which should be in the same directory as this notebook), print its contents, and then close the file. "
   ]
  },
  {
   "cell_type": "code",
   "execution_count": null,
   "metadata": {},
   "outputs": [],
   "source": [
    "# we'll live-code an answer here after giving you 5 minutes or so to work on it individually"
   ]
  },
  {
   "cell_type": "markdown",
   "metadata": {},
   "source": [
    "## `.readlines()` - note the plural\n",
    "\n",
    "Like `.read()`, this read method will read the entire file's contents.  Instead of getting a string containing all the contents, you'll get a list with all the contents split up on lines.\n",
    "\n",
    "Note that interestingly enough, this will split all the lines up at each newline, but _the newline characters will be retained_. (So, it's not quite the same as doing a `.read()` and then running `.splitlines()` on the resulting string.)\n",
    "\n",
    "The formula:\n",
    "\n",
    "* Step 1\n",
    "    * `file_IO_variable = open(filepath, mode)`\n",
    "    * This is the same as before\n",
    "* Step 2\n",
    "    * `file_contents_list = file_IO_variable.readlines()`\n",
    "    * This is pretty much the same as before, but calling `.readlines()` instead of `.read()`\n",
    "* Step 3\n",
    "    * `file_IO_variable.close()`\n",
    "    * this is the same as before"
   ]
  },
  {
   "cell_type": "code",
   "execution_count": null,
   "metadata": {},
   "outputs": [],
   "source": [
    "def main():\n",
    "    my_file_object = open('hope.txt', 'r') # 1\n",
    "\n",
    "    contents_list = my_file_object.readlines() # 2\n",
    "\n",
    "    my_file_object.close()  # 3\n",
    "\n",
    "    print(contents_list) # have a look at the spot between \"at all - \" and \"And sweetest\"\n",
    "\n",
    "main()"
   ]
  },
  {
   "cell_type": "markdown",
   "metadata": {},
   "source": [
    "As mentioned before, this is a method of convienience. If you want to end up with **a list of lines** you can do that directly with this method, instead of doing `.read()` and breaking a long string into a list of lines.\n",
    "\n",
    "With both `.read()` and `.readlines()` you get the whole file at once."
   ]
  },
  {
   "cell_type": "markdown",
   "metadata": {},
   "source": [
    "### Even quicker practice\n",
    "\n",
    "Now read in emperor.txt with `.readlines()` - if you want to print it nicely, how will that look different from doing so with `.read()`? (Give it a try.)"
   ]
  },
  {
   "cell_type": "code",
   "execution_count": null,
   "metadata": {},
   "outputs": [],
   "source": [
    "# live-coding goes here"
   ]
  },
  {
   "cell_type": "markdown",
   "metadata": {},
   "source": [
    "## `.readline()` - note the singular \n",
    "\n",
    "So `maybe_more` (the variable we assigned to the output from running `read()` a second time) ... it worked, but it is empty.  The cursor had no more text to go through, so it just gave us an empty string. But let's look at this a different way and see if we can halt the cursor in the middle of a file."
   ]
  },
  {
   "cell_type": "code",
   "execution_count": null,
   "metadata": {},
   "outputs": [],
   "source": [
    "\n",
    "my_file_object = open('hope.txt', 'r')\n",
    "\n",
    "for justdothis5times in range(5):\n",
    "    # read a single line of the file and print it\n",
    "    print(my_file_object.readline())\n",
    "    \n",
    "the_rest = my_file_object.read()\n",
    "\n",
    "# always close your files\n",
    "my_file_object.close()"
   ]
  },
  {
   "cell_type": "code",
   "execution_count": null,
   "metadata": {},
   "outputs": [],
   "source": [
    "print(the_rest)"
   ]
  },
  {
   "cell_type": "markdown",
   "metadata": {},
   "source": [
    "What happened here?  We can see that the `.readline()` bit grabbed the first 5 lines and then the `.read()` got the rest of the lines.  There also seem to be extra newlines happening in the first section?\n",
    "\n",
    "I used a `for` loop with `range(5)` to repeat `.readline()` 5 times.  This meant it acted 5 independent times, so it read in and then printed out 5 lines that each ended in `\\n` (a newline), plus the newline that `print()` makes by default.\n",
    "\n",
    "At this point, the cursor is sitting at the beginning of line 6, just waiting.  When I call `.read()` it goes through the remaining portion of the file and saves that all into a single string. There are no extra newlines happening because one string only required one `print()` statement."
   ]
  },
  {
   "cell_type": "markdown",
   "metadata": {},
   "source": [
    "### Looping through the whole file with `readline()`\n",
    "\n",
    "This is one of those cases where a `while` loop is a little easier than a `for` loop:"
   ]
  },
  {
   "cell_type": "code",
   "execution_count": null,
   "metadata": {},
   "outputs": [],
   "source": [
    "def main():\n",
    "    my_file_object = open('hope.txt', 'r')\n",
    "\n",
    "    list_of_lines = []\n",
    "    one_line = my_file_object.readline()\n",
    "\n",
    "    # remember that when the cursor hits the bottom,\n",
    "    # we get an empty string\n",
    "    while one_line != '':\n",
    "        list_of_lines.append(one_line)\n",
    "        one_line = my_file_object.readline()\n",
    "\n",
    "    # proving to you that these are equivalent\n",
    "    #list_of_lines = my_file_object.readlines()\n",
    "\n",
    "    for line in list_of_lines:\n",
    "        print(line)\n",
    "\n",
    "    # always close your files\n",
    "    my_file_object.close()\n",
    "\n",
    "main()"
   ]
  },
  {
   "cell_type": "markdown",
   "metadata": {},
   "source": [
    "### OK, but let's get rid of those newlines?\n",
    "\n",
    "With the power of `.rstrip()`!"
   ]
  },
  {
   "cell_type": "code",
   "execution_count": null,
   "metadata": {},
   "outputs": [],
   "source": [
    "def main():\n",
    "    my_file_object = open('hope.txt', 'r')\n",
    "\n",
    "    for justdothis5times in range(5):\n",
    "        one_line = my_file_object.readline()\n",
    "        # take off the endlines\n",
    "        one_line = one_line.rstrip('\\n')\n",
    "        print(one_line)\n",
    "\n",
    "    # always close your files\n",
    "    my_file_object.close()\n",
    "\n",
    "main()"
   ]
  },
  {
   "cell_type": "markdown",
   "metadata": {},
   "source": [
    "### Files are text, even if they're full of numbers\n",
    "\n",
    "If you want to work with numeric data from a file, you need to convert it to the appropriate nuemric type (`int` or `float`)"
   ]
  },
  {
   "cell_type": "code",
   "execution_count": null,
   "metadata": {},
   "outputs": [],
   "source": [
    "# also? you can pass file objects around if you need to!\n",
    "def get_numbers_from_file(file_io_object):\n",
    "    numbers = file_io_object.readlines()\n",
    "\n",
    "    # let's print some, to see what's happening?\n",
    "    print(numbers[:10])\n",
    "    # sum(numbers[:10]) #what happens?\n",
    "    \n",
    "    # ok, let's make them into actual numbers\n",
    "    for index in range(len(numbers)):\n",
    "        # these endlines have to go\n",
    "        # or else what happens? (we can test it :))\n",
    "        numbers[index] = numbers[index].rstrip('\\n')\n",
    "        # now we can cast them to integers\n",
    "        numbers[index] = int(numbers[index])\n",
    "    \n",
    "    return numbers\n",
    "\n",
    "def main():\n",
    "    num_file_object = open(\"numbers.txt\", 'r')\n",
    "    nums = get_numbers_from_file(num_file_object)\n",
    "\n",
    "    print(\"\")\n",
    "    print(nums[:10])\n",
    "    print(\"\") # give ourselves a blank space\n",
    "    print(sum(nums[:10]))\n",
    "    \n",
    "main()"
   ]
  },
  {
   "cell_type": "markdown",
   "metadata": {},
   "source": [
    "### Practice!\n",
    "\n",
    "Open up your editor of choice, and start a new Python file. Save it somewhere you can find it. Go get `the_raven.txt` from Blackboard, and save that **in the same directory** as your Python file.\n",
    "\n",
    "Use either `readlines()` to read \"The Raven\" into your program, and then print it out nicely&mdash;in poem format, not list format, with no extra endlines."
   ]
  },
  {
   "cell_type": "markdown",
   "metadata": {},
   "source": [
    "## Writing files\n",
    "\n",
    "OK, we can read from a file, and that is _great!_ Now for the other half of the equation: writing.\n",
    "\n",
    "Writing out to a file looks very similar to reading in from a file.\n",
    "\n",
    "1. Open the file in whichever mode you need (right now we're discussing writing, 'w') \n",
    "    * This looks like `file_out = open(file_path, mode)` (this is just the pattern to use; you'll have to supply the file path, name, and extension and the mode value yourself)\n",
    "    * Remember that you will always have to do an assignment statement to save the file object so you can act on it later. I'm using `file_out` as an example variable name, but you can change it.\n",
    "    * This creates your file IO object, which you will work with in step 2\n",
    "    * you may need to have `open(file_path, mode, encoding = 'utf-8')` if your computer is based in another language.\n",
    "    * **If the file doesn't exist, it will be created. If it _does_ exist, it will be overwritten.**\n",
    "2. Do work using that file IO object\n",
    "    * You may do a bunch of operations between opening and writing, but probably the bulk of what happens is a bunch of `.write()` operations using your `file_out` object, or whatever the variable name of your file IO object is.\n",
    "3. Close the file.\n",
    "    * this will always be the same pattern, `file_out.close()`. (replace `file_out` with your file IO variable name)"
   ]
  },
  {
   "cell_type": "code",
   "execution_count": null,
   "metadata": {},
   "outputs": [],
   "source": [
    "def main():\n",
    "    my_file_object = open(\"great_things.txt\", \"w\")\n",
    "\n",
    "    list_of_things_i_like = [\"birds\", \"coffee\", \"trees\", \"Stardew Valley\", \"books\"]\n",
    "\n",
    "    for thing in list_of_things_i_like:\n",
    "        my_file_object.write(thing)\n",
    "\n",
    "    # always close your files\n",
    "    my_file_object.close()\n",
    "\n",
    "main()\n",
    "\n",
    "# now go look at the file"
   ]
  },
  {
   "cell_type": "markdown",
   "metadata": {},
   "source": [
    "OK, well, it all got written. But the lesson, here, is this:\n",
    "\n",
    "Unlike `print()`, which likes to give us endlines by default, `.write()` does not.\n",
    "\n",
    "Let's fix it."
   ]
  },
  {
   "cell_type": "code",
   "execution_count": null,
   "metadata": {},
   "outputs": [],
   "source": [
    "def main():\n",
    "    my_file_object = open(\"great_things.txt\", \"w\")\n",
    "\n",
    "    list_of_things_i_like = [\"birds\", \"coffee\", \"trees\", \"Stardew Valley\", \"books\"]\n",
    "\n",
    "    for thing in list_of_things_i_like:\n",
    "        my_file_object.write(thing + '\\n')\n",
    "\n",
    "    # always close your files\n",
    "    my_file_object.close()\n",
    "\n",
    "main()\n",
    "\n",
    "# now go look at the file"
   ]
  },
  {
   "cell_type": "markdown",
   "metadata": {},
   "source": [
    "OK, we got the output we wanted, and note: it overwrote what we wrote the first time.\n",
    "\n",
    "Let's say we want to add one item to the end of the file. Not a problem: we have a mode for that!\n",
    "\n",
    "## Appending to files\n",
    "\n",
    "Same exact structure as writing, only our mode is 'a', and we start at the end of the file instead of overwriting everything. "
   ]
  },
  {
   "cell_type": "code",
   "execution_count": null,
   "metadata": {},
   "outputs": [],
   "source": [
    "my_file_object = open(\"great_things.txt\", \"a\")\n",
    "\n",
    "# same command, even: \"write,\" but in mode \"a\"\n",
    "my_file_object.write(\"Animal Crossing\")\n",
    "\n",
    "# always close your files\n",
    "my_file_object.close()\n",
    "# now go look at the file"
   ]
  },
  {
   "cell_type": "markdown",
   "metadata": {},
   "source": [
    "### Practice\n",
    "\n",
    "You have the code you need to read in \"The Raven\" and strip off endlines. \n",
    "\n",
    "Instead of printing it to your screen, instead put every third line into a new text file, called \"raven_abbreviated.txt.\" (remember that % exists) "
   ]
  },
  {
   "cell_type": "markdown",
   "metadata": {},
   "source": [
    "## Files in different directories\n",
    "\n",
    "I'll be real: if you want to work with a file in a different directory than your code is in, it can be a little tricky. \n",
    "\n",
    "In my GitHub repository and its associated directory structure on my machine, this notebook sits in a folder called \"week11.\" My folder structure looks something like this:\n",
    "\n",
    "* ~\\CCAC\\DAT-119\\2020_Fall\\DAT119_fa20\\README.md\n",
    "* ~\\CCAC\\DAT-119\\2020_Fall\\DAT119_fa20\\lectures\\week11\n",
    "* ~\\CCAC\\DAT-119\\2020_Fall\\DAT119_fa20\\lectures\\week11\\files_and_exceptions.ipynb\n",
    "* ~\\CCAC\\DAT-119\\2020_Fall\\DAT119_fa20\\lectures\\week11\\hope.txt\n",
    "* ~\\CCAC\\DAT-119\\2020_Fall\\DAT119_fa20\\lectures\\week11\\the_raven.txt\n",
    "* ~\\CCAC\\DAT-119\\2020_Fall\\DAT119_fa20\\lectures\\week11\\great_things.txt\n",
    "* ~\\CCAC\\DAT-119\\2020_Fall\\DAT119_fa20\\lectures\\week11\\<br>\n",
    "(and a whole bunch of other files and directories we don't care about right now)\n",
    "\n",
    "To get to any of the files in this directory, alongside my notebook, I just do \n",
    "`file_handler = open('filename.extension', 'mode')` - like we've seen before. \n",
    "\n",
    "But what if I want to read or edit README.md? It's two directories up, not in the directory where my code lives.\n",
    "\n",
    "If you were paying _very good_ attention, you might remember my using the command `cd ..` in the command line interface, to go up a level in my directory structure. (You might not. We'll practice next week, and this will all hopefully make more sense then!) "
   ]
  },
  {
   "cell_type": "code",
   "execution_count": null,
   "metadata": {},
   "outputs": [],
   "source": [
    "def main():\n",
    "    # Windows version\n",
    "    readme_file_handler = open('..\\..\\README.md', 'r') \n",
    "\n",
    "    # Mac version\n",
    "    # readme_file_handler = open('../../README.md', 'r') \n",
    "\n",
    "    # printing the first 10 lines with line numbers\n",
    "    for line_number in range(10):\n",
    "        # labeling our line numbers\n",
    "        print(line_number + 1, end=\": \")\n",
    "        # get the line and take off the spare endline\n",
    "        line = readme_file_handler.readline().rstrip('\\n')\n",
    "        print(line)\n",
    "\n",
    "    readme_file_handler.close()\n",
    "\n",
    "main()"
   ]
  },
  {
   "cell_type": "markdown",
   "metadata": {},
   "source": [
    "And now let's say we want to navigate *down* a directory. "
   ]
  },
  {
   "cell_type": "code",
   "execution_count": null,
   "metadata": {},
   "outputs": [],
   "source": [
    "def main():\n",
    "    # Windows version:\n",
    "    magpie_file_handler = open('files\\magpie.txt', 'r') \n",
    "\n",
    "    # Mac version:\n",
    "    # magpie_file_handler = open('files/magpie.txt', 'r') \n",
    "\n",
    "    line = magpie_file_handler.readline().rstrip('\\n')\n",
    "    line_num = 0\n",
    "\n",
    "    # printing all of the lines with line numbers\n",
    "    while line != \"\":\n",
    "        # labeling our line numbers\n",
    "        line_num += 1\n",
    "        print(line_num, end=\": \")\n",
    "        print(line)\n",
    "        # get the next line\n",
    "        line = magpie_file_handler.readline().rstrip('\\n')\n",
    "\n",
    "    magpie_file_handler.close()\n",
    "\n",
    "main()"
   ]
  },
  {
   "cell_type": "markdown",
   "metadata": {},
   "source": [
    "## JSON & CSV\n",
    "\n",
    "I'm not going to go super into depth on these, but I like that the book showed them to you. I'd also like to show them to you. You'll get to play with them for real in Python 2. (Or your project for Python 1. Go wild, if you want to use this there!)"
   ]
  },
  {
   "cell_type": "code",
   "execution_count": null,
   "metadata": {},
   "outputs": [],
   "source": [
    "import json\n",
    "\n",
    "file_handler = open('files\\colors.json', 'r')\n",
    "\n",
    "# convert well-formed(!!) json into a dictionary\n",
    "colors = json.load(file_handler)\n",
    "\n",
    "# printing the whole resulting dictionary\n",
    "print(colors)\n",
    "print(\"\") # a little space\n",
    "\n",
    "# pulling out a single color value and its rgba codes\n",
    "print(colors[\"colors\"][0][\"color\"], \": \", colors[\"colors\"][0][\"code\"][\"rgba\"], sep=\"\")\n",
    "\n",
    "file_handler.close()"
   ]
  },
  {
   "cell_type": "code",
   "execution_count": null,
   "metadata": {},
   "outputs": [],
   "source": [
    "# printing it semi-nicely/readably\n",
    "print(json.dumps(colors, indent=4))"
   ]
  },
  {
   "cell_type": "code",
   "execution_count": null,
   "metadata": {},
   "outputs": [],
   "source": [
    "import sys\n",
    "# we can also make dictionaries into JSON\n",
    "pet_dictionary = { \"name\" : \"Phoebe\",\n",
    "                   \"species\" : \"cockatiel\",\n",
    "                   \"age\" : 13,\n",
    "                   \"color\" : \"grey\",\n",
    "                   \"disposition\" : \"cranky\",\n",
    "                   \"favorite_food\" : \"pizza crust\" \n",
    "                }\n",
    "\n",
    "# print our JSON to standard output (our console or notebook)\n",
    "json.dump(pet_dictionary, sys.stdout)\n",
    "\n",
    "# more often, we write JSON to a file, though:\n",
    "file_handler = open(\"files\\pet_file.txt\", \"w\") # the file doesn't have to be named .json\n",
    "json.dump(pet_dictionary, file_handler)\n",
    "\n",
    "file_handler.close()\n",
    "\n",
    "# docs: https://docs.python.org/3/library/json.html"
   ]
  },
  {
   "cell_type": "code",
   "execution_count": null,
   "metadata": {},
   "outputs": [],
   "source": [
    "# the world's fastest and laziest look at CSV\n",
    "import csv\n",
    " \n",
    "file_handler = open(\"police_blotter.csv\", \"r\")\n",
    "\n",
    "csv_reader = csv.reader(file_handler)\n",
    "\n",
    "for row in csv_reader:\n",
    "    print(row)\n",
    "\n",
    "file_handler.close()\n",
    "\n",
    "# docs: https://docs.python.org/3/library/csv.html"
   ]
  },
  {
   "cell_type": "markdown",
   "metadata": {},
   "source": [
    "# Exceptions\n",
    "\n",
    "This is the thing I most want you to know about exceptions, right here. \n",
    "\n",
    "You know how we keep opening files, and there's always the risk that we won't close them?\n",
    "\n",
    "Python has a thing for that!"
   ]
  },
  {
   "cell_type": "code",
   "execution_count": null,
   "metadata": {},
   "outputs": [],
   "source": [
    "with open('shining.txt', 'w') as text_file_object:\n",
    "    for i in range(0,100):\n",
    "        text_file_object.write('All work and no play makes Jack a dull boy.\\n')\n",
    "# as soon as we close the with block, the file closes - woo, cleanup!"
   ]
  },
  {
   "cell_type": "markdown",
   "metadata": {},
   "source": [
    "You have access to your file object as long as you are within the `with` block, and then as soon as you exit that block, the file has been closed. It's nice, and you should use it."
   ]
  },
  {
   "cell_type": "markdown",
   "metadata": {},
   "source": [
    "### But OK, let's cover how exception handling works\n",
    "\n",
    "First, let's look at some bad code."
   ]
  },
  {
   "cell_type": "code",
   "execution_count": null,
   "metadata": {},
   "outputs": [],
   "source": [
    "# there are at least two bad things that can happen here to crash the program\n",
    "# and the user could also give us a value outside of our chosen range\n",
    "user_data = input('Give me a value between 1 and 100: ')\n",
    "user_data = int(user_data)\n",
    "value = 100/user_data\n",
    "print(value)\n",
    "\n",
    "# we all need a little validation, so this should run at the end of the script!\n",
    "print('\\n\\nYou are doing a great job. Keep up the good work.')\n",
    "\n",
    "# suggested inputs: 5, 0, -3, 101, hi"
   ]
  },
  {
   "cell_type": "markdown",
   "metadata": {},
   "source": [
    "We (kind of) know how to handle this, right?"
   ]
  },
  {
   "cell_type": "code",
   "execution_count": null,
   "metadata": {},
   "outputs": [],
   "source": [
    "# the code below covers non-digits and out of bounds errors (including divide by zero)\n",
    "user_data = input('Give me a value between 1 and 100: ')\n",
    "# isdigit() returns true for digits >= 0, false for non-digits and negatives\n",
    "if user_data.isdigit(): # *** this is new and fun ***\n",
    "    user_data = int(user_data)\n",
    "    # we can prevent divide-by-zero AND the user being out of bounds in one if; tidy!\n",
    "    if user_data >= 1 and user_data <= 100: \n",
    "        value = 100/user_data\n",
    "        print(value)\n",
    "    else:\n",
    "        print('Your value was not between 1 and 100.')\n",
    "else:\n",
    "    print('That wasn\\'t even a number.')\n",
    "    \n",
    "# we all need a little validation, so this should run at the end of the script!\n",
    "print('\\n\\nYou are doing a great job. Keep up the good work.')\n",
    "    \n",
    "# suggested inputs: 5, 0, -3, 101, hi"
   ]
  },
  {
   "cell_type": "markdown",
   "metadata": {},
   "source": [
    "I'm going to show my background as a C++ programmer, here, but I _like_ dealing with inputs this way. I do this in my own code a lot more than I throw and catch exceptions, for better or worse. \n",
    "\n",
    "Note: the alphabetic complement to `.isdigit()` is `.isalpha()` - they each return a Boolean.\n",
    "\n",
    "This is all good, and you can keep doing it this way and be a very happy and successful data analyst, no problem!\n",
    "\n",
    "But it is, strictly speaking, more _Pythonic_ to use exceptions. This \"validate all the user's input ahead of time\" approach is what you might call \"Look Before You Leap.\" Python is much more freeform, with an \"It's Easier to Ask Forgiveness than Permission\" approach. \n",
    "\n",
    "So let's look at how we'd build this same thing in a more Pythonic way."
   ]
  },
  {
   "cell_type": "markdown",
   "metadata": {},
   "source": [
    "### First we are going to do this the kind of naïve and honestly not so great way\n",
    "\n",
    "But look how much easier even this tiny example is than trying to do the same thing with if statements, right?\n",
    "\n",
    "And for simple programs, really? This may be sufficient for your needs."
   ]
  },
  {
   "cell_type": "code",
   "execution_count": null,
   "metadata": {},
   "outputs": [],
   "source": [
    "user_data = input('Give me a value between 1 and 100: ')\n",
    "try:\n",
    "    user_data = int(user_data) # could throw ValueError\n",
    "    # this will throw an AssertionError if we're out of bounds\n",
    "    assert(user_data > 0 and user_data <= 100), 'Value is not between 1 and 100.'\n",
    "    value = 100/user_data # could throw DivideByZeroError\n",
    "    print(value)\n",
    "except:\n",
    "    print('You did not enter a value between 1 and 100.')\n",
    "    \n",
    "# we all need a little validation, so this should run at the end of the script!\n",
    "print('\\n\\nYou are doing a great job. Keep up the good work.')\n",
    "    \n",
    "# suggested inputs: 5, 0, -3, 101, hi"
   ]
  },
  {
   "cell_type": "markdown",
   "metadata": {},
   "source": [
    "### Let us explicitly catch our exceptions, because that is so much more useful\n",
    "\n",
    "In big projects, especially if there are multiple people working on them, you want to catch each error type explicitly. Failing to do so, especially if you don't log what happened, can make bug-tracking _incredibly_ difficult. "
   ]
  },
  {
   "cell_type": "code",
   "execution_count": null,
   "metadata": {},
   "outputs": [],
   "source": [
    "user_data = input('Give me a value between 1 and 100: ')\n",
    "try:\n",
    "    user_data = int(user_data) # could throw ValueError\n",
    "    value = 100/user_data # could throw DivideByZeroError\n",
    "    # you'd normally put this before the actual division, but I wanted to show y'all\n",
    "    # a few cool error types, you know?\n",
    "    assert(user_data > 0 and user_data <= 100), 'Value is not between 1 and 100.'\n",
    "    print(value)\n",
    "except ValueError as e:\n",
    "    print(e) # e is the text of the exception, and it's a variable we can use!\n",
    "    print('You did not enter an integer. Halting.')\n",
    "except ZeroDivisionError as z:\n",
    "    print(z)\n",
    "    print('Entering zero is a sneaky thing to do. Halting.')\n",
    "except AssertionError as a:\n",
    "    print(a)\n",
    "    print('Please use values between 1 and 100')\n",
    "    \n",
    "# we all need a little validation, so this should run at the end of the script!\n",
    "print('\\n\\nYou are doing a great job. Keep up the good work.')\n",
    "    \n",
    "# suggested inputs: 5, 0, -3, 101, hi"
   ]
  },
  {
   "cell_type": "markdown",
   "metadata": {},
   "source": [
    "### We've got more tools than try and except!\n",
    "\n",
    "So, hey. What if we really like this `try`/`except` format, and we want to use it with files instead of `with`/`as`? We can. First, let's do it wrong:"
   ]
  },
  {
   "cell_type": "code",
   "execution_count": null,
   "metadata": {},
   "outputs": [],
   "source": [
    "def get_the_goods():\n",
    "    my_file = open('potato.txt', 'r')\n",
    "\n",
    "get_the_goods()\n",
    "# we all need a little validation, so this should run at the end of the script!\n",
    "print('\\n\\nYou are doing a great job. Keep up the good work.')"
   ]
  },
  {
   "cell_type": "markdown",
   "metadata": {},
   "source": [
    "... and a bit less wrong ..."
   ]
  },
  {
   "cell_type": "code",
   "execution_count": null,
   "metadata": {},
   "outputs": [],
   "source": [
    "def get_the_goods():\n",
    "    try:\n",
    "        my_file = open('potato.txt', 'r')\n",
    "    except OSError as e: #OSError is a parent of FileNotFoundError \n",
    "        print(e)\n",
    "        \n",
    "get_the_goods()\n",
    "\n",
    "# we all need a little validation, so this should run at the end of the script!\n",
    "print('\\n\\nYou are doing a great job. Keep up the good work.')"
   ]
  },
  {
   "cell_type": "markdown",
   "metadata": {},
   "source": [
    "Except, this isn't great, right? We just failed to close our file! Luckily, we've got a way to handle this. If there's an exception, our `except` line runs. If there's not, `else` will run."
   ]
  },
  {
   "cell_type": "code",
   "execution_count": null,
   "metadata": {},
   "outputs": [],
   "source": [
    "def get_the_goods():\n",
    "    try:\n",
    "        my_file = open('potato.txt', 'r')\n",
    "    except OSError as e:\n",
    "        print(e)\n",
    "        print('We will not be reading this file today.')\n",
    "    else: # runs if (and only if) the except clause does not run\n",
    "        my_file.close()\n",
    "        \n",
    "get_the_goods()\n",
    "\n",
    "# we all need a little validation, so this should run at the end of the script!\n",
    "print('\\n\\nYou are doing a great job. Keep up the good work.')"
   ]
  },
  {
   "cell_type": "markdown",
   "metadata": {},
   "source": [
    "It's a little silly that we don't include our friendly note **inside** the function, too, isn't it? Let's do that."
   ]
  },
  {
   "cell_type": "code",
   "execution_count": null,
   "metadata": {},
   "outputs": [],
   "source": [
    "def get_the_goods():\n",
    "    try:\n",
    "        my_file = open('potato.txt', 'r')\n",
    "    except OSError as e:\n",
    "        print(e)\n",
    "        print('We will not be reading this file today.')\n",
    "    else: # runs if (and only if) the except clause does not run\n",
    "        my_file.close()\n",
    "    finally: # runs after these other guys, no matter what\n",
    "        # we all need a little validation, so this should run at the end of the script!\n",
    "        print('\\n\\nYou are doing a great job. Keep up the good work.')\n",
    "        \n",
    "get_the_goods()"
   ]
  },
  {
   "cell_type": "markdown",
   "metadata": {},
   "source": [
    "### Sometimes you'll want to raise your own exceptions\n",
    "\n",
    "There are times when it's useful to raise a specific kind of exception. You can make your own types, but that's a little outside the scope of this class. \n",
    "\n",
    "You can also raise any of the [built in exceptions](https://docs.python.org/3/library/exceptions.html) you'd like. I just chose `UnicodeError` below because I think Unicode handling is interesting. 😁"
   ]
  },
  {
   "cell_type": "code",
   "execution_count": null,
   "metadata": {},
   "outputs": [],
   "source": [
    "def this_throws_an_exception():\n",
    "    raise UnicodeError('I am just trying to make a point here.')\n",
    "    \n",
    "try:\n",
    "    this_throws_an_exception()\n",
    "except UnicodeError as e:\n",
    "    print(e)\n",
    "finally:\n",
    "    # we all need a little validation, so this should run at the end of the script!\n",
    "    print('\\n\\nYou are doing a great job. Keep up the good work.')"
   ]
  },
  {
   "cell_type": "code",
   "execution_count": null,
   "metadata": {},
   "outputs": [],
   "source": []
  }
 ],
 "metadata": {
  "kernelspec": {
   "display_name": "Python 3",
   "language": "python",
   "name": "python3"
  },
  "language_info": {
   "codemirror_mode": {
    "name": "ipython",
    "version": 3
   },
   "file_extension": ".py",
   "mimetype": "text/x-python",
   "name": "python",
   "nbconvert_exporter": "python",
   "pygments_lexer": "ipython3",
   "version": "3.7.6"
  }
 },
 "nbformat": 4,
 "nbformat_minor": 4
}
