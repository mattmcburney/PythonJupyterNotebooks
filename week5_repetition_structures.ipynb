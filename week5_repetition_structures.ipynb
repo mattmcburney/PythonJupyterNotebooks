{
 "cells": [
  {
   "cell_type": "markdown",
   "metadata": {},
   "source": [
    "# Loops\n",
    "\n",
    "## Concept\n",
    "\n",
    "Much of the work in Python is done by loops.  Having a computer repeat a calculation or just keep trying something through a series of values is a lot of the power of computing, saving us from an awful lot of tedium.\n",
    "\n",
    "You're going to use `for` and/or `while` loops in nearly every Python program that you write for the rest of this class. And they should look pretty familiar: you've already used them, in the code.org exercises:\n",
    "* repeat 3 times\n",
    "* repeat until _sunflower_\n",
    "\n",
    "I'd argue that the first example from code.org is most like a `for` loop, where you generally have a set number of iterations, and the second is more like a `while` loop, where you keep going until some goal or value is reached.\n",
    "\n",
    "\n",
    "## Core syntax reference for a `for` loop\n",
    "\n",
    "```\n",
    "for iterable_variable in sequence:\n",
    "    code that runs each time\n",
    "\n",
    "```\n",
    "\n",
    "This will loop over the `sequence` you provide, unpacking each value into the `iterable_variable`. **This variable will hold an individual value, one at a time, for each loop through.**\n",
    "\n",
    "The list of things you'll have in a `for` loop:\n",
    "\n",
    "* declared and opened with a `for` keyword\n",
    "* a sequence that is being iterated over\n",
    "* an iterable variable to hold the variable contents of the sequence during each loop\n",
    "* a colon\n",
    "* white space (the indent) that defines where the executable code lives\n",
    "* the code block (\"suite\" if you're fancy) to be executed each loop\n",
    "\n",
    "Some important notes:  \n",
    "\n",
    "* the iterable variable name can be literally any valid variable name and does not need to be declared previously\n",
    "* the colon at the end of the `for` line block is required and indicates that the declaration line is done\n",
    "* the `in` keyword separates the iterable variable name from the sequence\n",
    "* sometimes there is a sequence literal in the declaration line, but it could also be a variable\n",
    "\n",
    "### What is a sequence?\n",
    "\n",
    "That's a good question with a weird answer.  Sequences are data types in Python that internally support sequencing.  That is, you can ask it \"what's next?\" and it can give you an answer.\n",
    "\n",
    "Some things aren't sequences, such as numbers (`int`s and `float`s).  You can try asking the number 1 \"what's next?\" but it doesn't know.  Are you counting by 1?  Are you counting by -1? Are you counting by .1?  The question is too ambiguous. \n",
    "\n",
    "Some things _are_ sequences. `range()` gives us a list, which is a sequence. We'll come back and look at lists in detail, soon, but for now, `range` is the only list-related thing you really need to grasp. More below. \n",
    "\n",
    "Also, spoiler: strings are sequences, too!   \n",
    "\n",
    "### A note on the iterable variable\n",
    "\n",
    "You can give this variable any name you want (following the standard variable name rules), and it doesn't need to exist before the loop declaration.  It will feel strange, that you are typing in this variable to be used that doesn't yet have a value.\n",
    "\n",
    "The `for` loop takes care of it for you.  It will make all the assignment statements for that sequence to that variable.\n",
    "\n",
    "And then it will persist after the for loop has completed! (This isn't true in other languages.)\n",
    "\n",
    "More on this as we progress.\n",
    "\n",
    "## Setting up a `for` loop\n",
    "\n",
    "There are three steps for setting up a `for` loop.  We'll be going through all of these in much more detail as we work through examples. This section is just to set up your thought process.\n",
    "\n",
    "1.  Determine what kind of pattern you'll be executing.  \n",
    "    * This is a thinking stage, where you need to think through what kind of pattern will move your program forward.\n",
    "2.  Identify your sequence.\n",
    "    * Once you know the kind of pattern you want, this will help you determine the kind of sequence.  There are times when the sequence will be very clear to you, and others where you'll be crafting one (for example in a reference loop) to generate the values you need.\n",
    "3.  Give your iterable variable a good name.\n",
    "    * You can technically call it `kitten`, but that isn't helpful.  Think about what it is and try to name it, being sure that you are matching the plural correctly.  For example, if you are working over a sequence of numbers, you might want to call it `num`, or if it's a string you could call it `character`.  \n",
    "    * Be very careful not to repeat any of your previous variable names, as their previous values will be erased for the iterable variable's value.  You may end up blowing away your data and making weird things happen.  \n",
    "    * This name must also be different from the sequence's variable name (if it has one), because it might word and end up with really strange results."
   ]
  },
  {
   "cell_type": "code",
   "execution_count": null,
   "metadata": {},
   "outputs": [],
   "source": [
    "# an example for loop\n",
    "# we want our program to count from 0 to 9\n",
    "for number in range(0,10):\n",
    "    print(number, end = \" \")\n",
    "\n",
    "#print(\"After the loop is done, our counter variable is\", number)"
   ]
  },
  {
   "cell_type": "markdown",
   "metadata": {},
   "source": [
    "## Core syntax reference for a `while` loop\n",
    "\n",
    "```\n",
    "while conditional_statement:\n",
    "    code that runs each time\n",
    "\n",
    "```\n",
    "\n",
    "This will test the conditional statement and run as long as that statement evaluates to `True.` \n",
    "\n",
    "These are the pieces of a `while` loop:\n",
    "\n",
    "* declared and opened with a `while` keyword\n",
    "* must have a conditional statement (e.g. `x < 10` or `user_input != 'stop'`), something that evaluates to `True` or `False`\n",
    "* a colon\n",
    "* white space (the indent) that defines where the executable code lives\n",
    "* the code block to be executed each loop\n",
    "\n",
    "Some important notes:  \n",
    "\n",
    "* the colon at the end of the `while` line is required and indicates that the declaration line is done\n",
    "* whatever variable(s) you're using in your conditional statement need to be initialized before the `while` loop is declared\n",
    "* if your conditional does not evaluate to `True` before your loop begins, the loop will never run (pre-condition)\n",
    "* something inside the code block needs to change the status of the variable(s) that your conditional statement is testing on; otherwise, your loop will run forever"
   ]
  },
  {
   "cell_type": "code",
   "execution_count": null,
   "metadata": {},
   "outputs": [],
   "source": [
    "# an example while loop\n",
    "\n",
    "number = 0\n",
    "while number < 10:\n",
    "    print(number, end = \" \")\n",
    "    number = number + 1\n",
    "    \n",
    "    # or:\n",
    "    # number += 1\n",
    "\n",
    "#print(\"After the loop is done, our counter variable is\", number)"
   ]
  },
  {
   "cell_type": "markdown",
   "metadata": {},
   "source": [
    "# Which type of loop should you use?\n",
    "\n",
    "Problems where you know how many times you need to iterate (and by \"you know,\" I mean \"your program can calculate ahead of time,\" whether or not _you the programmer_ know for sure) are generally a little more straightforward to solve with `for` loops. \n",
    "\n",
    "Problems where you're dealing with an unknown number of iterations, like input validation or taking in values until the user's done, are more straightforward to solve with `while` loops.\n",
    "\n",
    "Honestly, though: a lot of problems can be solved with _either_ type of loop, and you'll just use the one you like best; that's fine. For instance, as you saw above, a `while()` loop can absolutely be used even when you know how many times you want to iterate. (Although you also saw that it was noticeably more lines of code.) "
   ]
  },
  {
   "cell_type": "markdown",
   "metadata": {},
   "source": [
    "## `for` loop patterns\n",
    "\n",
    "While there is a single syntax rule for the `for` loop, there are several distinct use cases. We're going to start off with four core patterns.  We'll see more patterns as we move forward, but all of those are tweaks or expansions off of one or more of these core patterns:\n",
    "\n",
    "1. repeat a task some arbitrary number of times\n",
    "    * your input is the number of times\n",
    "2. unpack some sequence of content and loop over those elements one at a time\n",
    "    * your input is the sequence, python will unpack it for you\n",
    "3. loop over something for the purposes of looking up another thing\n",
    "    * this one is strange, where you provide the sequence of items that represent the lookup key for another item.  These keys may be just numbers counting up, or they may be other kinds of content in a sequence (such as letters or words).\n",
    "4. loop over something to determine its count or sum \n",
    "\n",
    "These uses will have a very similar syntax and can be difficult to tell the difference between.  For the sake of names, let's call them:\n",
    "\n",
    "1. **a range loop**\n",
    "2. **an unpacking loop**\n",
    "3. **a reference loop**\n",
    "4. **an accumulator loop**\n",
    "\n",
    "Sometimes you'll need to mix and match these.  For example, the reference loop will often start off life as a range loop."
   ]
  },
  {
   "cell_type": "markdown",
   "metadata": {},
   "source": [
    "# The unpacking loop\n",
    "\n",
    "Abstract:  You have a thing and want to loop through the contents.  This will give you access to the individual components, one at a time.  As you are going through those things, you want to count the position number of that thing.\n",
    "\n",
    "Concrete problem:  You are given a sentence and want to print out each character with the position numbers along with each character.\n",
    "\n",
    "^^ Whoa, there are a lot of pieces to that--which is going to be pretty normal, moving forward. So we need to practice picking out the individual elements.\n",
    "\n",
    "There are two steps here:\n",
    "\n",
    "1. loop through each character of the sentence and print it out\n",
    "2. calculate the position number for each character and also print that out\n",
    "\n",
    "Let's work with the first line of the Raven to start with.\n",
    "\n",
    "`Once upon a midnight dreary, while I pondered, weak and weary`\n",
    "\n",
    "We want to save this value to mess with, so let's put it in a variable. "
   ]
  },
  {
   "cell_type": "code",
   "execution_count": null,
   "metadata": {},
   "outputs": [],
   "source": [
    "line = \"Once upon a midnight dreary, while I pondered, weak and weary\""
   ]
  },
  {
   "cell_type": "markdown",
   "metadata": {},
   "source": [
    "## Type 1:  The unpacking loop\n",
    "\n",
    "Now that we have the text stored in a variable, we can mess with it more.\n",
    "\n",
    "Let's play with our `for` loops here. The best way to learn about `for` loops (or any programming construct) is to play with them. We're going to use a single word for space purposes.\n",
    "\n",
    "Remember I said that strings were sequences? Here's where we prove it!"
   ]
  },
  {
   "cell_type": "code",
   "execution_count": null,
   "metadata": {},
   "outputs": [],
   "source": [
    "for letter in \"Once\":\n",
    "    print(letter)"
   ]
  },
  {
   "cell_type": "code",
   "execution_count": null,
   "metadata": {},
   "outputs": [],
   "source": [
    "# the same thing, but using a variable\n",
    "# (instead of a string literal)\n",
    "word = \"Once\"\n",
    "\n",
    "for letter in word:\n",
    "    print(letter)"
   ]
  },
  {
   "cell_type": "markdown",
   "metadata": {},
   "source": [
    "This prints one letter at a time.\n",
    "\n",
    "A loop is only as useful as what you do with the contents.  What you choose to do is where creativity and cleverness comes into play.  There are often many ways to solve a problem; your responsibility is to test the accuracy and completeness of your solution."
   ]
  },
  {
   "cell_type": "markdown",
   "metadata": {},
   "source": [
    "# Type 2: the `range()` loop\n",
    "\n",
    "The `range()` function is often your key to cleverness.  When faced with a new problem, a good first instinct would be  \"how can I solve this problem with `range()`?\"  Even if it doesn't seem to involve numbers.\n",
    "\n",
    "But what is `range()`?  It's a function to easily make lists of numbers in a variety of ways.  Let's play with it for a bit.\n",
    "\n",
    "Like `print()` and `input()` and `format()`, this is a built-in function! (We're getting deep into functions next week, when we start writing our own, and it's going to be amazing.)\n",
    "\n",
    "### making `range()` work\n",
    "\n",
    "There are three ways to use `range()`.  In the first, you only pass one value to it when calling the function.  \n",
    "\n",
    "`range(number)` but you replace `number` with an integer number.\n",
    "\n",
    "You provide an integer to `range()`, and it will produce a series of numbers.  In this form, it will **start at 0** and count by 1 **up to, but not inluding** the number that you have just given it."
   ]
  },
  {
   "cell_type": "code",
   "execution_count": null,
   "metadata": {},
   "outputs": [],
   "source": [
    "print(range(10))"
   ]
  },
  {
   "cell_type": "markdown",
   "metadata": {},
   "source": [
    "`range`, that's not very helpful.  Sigh, yes, we need to do another step to see the magic of `range`."
   ]
  },
  {
   "cell_type": "code",
   "execution_count": null,
   "metadata": {},
   "outputs": [],
   "source": [
    "print(list(range(10)))"
   ]
  },
  {
   "cell_type": "markdown",
   "metadata": {},
   "source": [
    "There is a technical reason why this is happening, but nothing worth getting into just yet. \n",
    "\n",
    "Just remember that you may need to use the `list` keyword to change the results of `range`, to see/print (with human eyes) all the numbers that range is making. Or don't even worry about it: Python will get all the numbers just fine when using this as part of a loop.\n",
    "\n",
    "You'll also see that, by default, **`range(n)` starts at 0 and ends at `n - 1`**, where `n` in this case is 10. This is both incredibly convenient at some times and horribly annoying at others. Just write this fact into your brain for a bit. It will begin to feel natural before too long."
   ]
  },
  {
   "cell_type": "code",
   "execution_count": null,
   "metadata": {},
   "outputs": [],
   "source": [
    "# that for loop from above, again\n",
    "for number in range(10):\n",
    "    print(number, end=\" \") "
   ]
  },
  {
   "cell_type": "markdown",
   "metadata": {},
   "source": [
    "As you know from the reading, `range` has two other, optional arguments:\n",
    "\n",
    "`range(start_at, n, count_by)`\n",
    "\n",
    "We could easily have fully specified what we wanted, above:"
   ]
  },
  {
   "cell_type": "code",
   "execution_count": null,
   "metadata": {},
   "outputs": [],
   "source": [
    "# that for loop from above, again\n",
    "# start at 0, count up to (but not including) 10, and count by 1\n",
    "for number in range(0, 10, 1): \n",
    "    print(number, end=\" \")"
   ]
  },
  {
   "cell_type": "markdown",
   "metadata": {},
   "source": [
    "But we didn't have to, because if you don't tell it where to start, the default is 0, and if you don't tell it what to count by, the default is 1.\n",
    "\n",
    "It's really handy to keep both options in mind, though, because sometimes you need to count backwards, or by twos, or starting from somewhere other than zero. "
   ]
  },
  {
   "cell_type": "code",
   "execution_count": null,
   "metadata": {},
   "outputs": [],
   "source": [
    "# counting backwards to 1 (in this case, it's n+1 instead of n-1)\n",
    "our_range = range(10, 0, -1)\n",
    "for number in our_range: \n",
    "    print(number, end=\" \")\n",
    "\n",
    "# ok and if we wanted to count from 9 to 0?"
   ]
  },
  {
   "cell_type": "code",
   "execution_count": null,
   "metadata": {},
   "outputs": [],
   "source": [
    "# counting by 2's\n",
    "twos_range = range(0, 10, 2)\n",
    "for number in twos_range: \n",
    "    print(number, end=\" \")"
   ]
  },
  {
   "cell_type": "markdown",
   "metadata": {},
   "source": [
    "What this really works out to is: a range loop is an unpacking loop that creates a thing to unpack (a sequence of numbers) of arbitrary length.  The number you give `range` will be how many times the loop executes (usually).  \n",
    "\n",
    "What it unpacks happens to be numbers, but you can choose to ignore them if you wish."
   ]
  },
  {
   "cell_type": "markdown",
   "metadata": {},
   "source": [
    "## So we've got two pieces of our puzzle here\n",
    "\n",
    "1. looping over our word and concatenating stuff\n",
    "2. a way to make numbers\n",
    "\n",
    "But neither of these is enough to solve the problem.  We need something that sits in the middle.  We know that a range loop will make the numbers that we need but not give us the letters, and looping through the letters will not give us the numbers.\n",
    "\n",
    "Putting these together is less obvious.  There are two methods that could work:\n",
    "\n",
    "1.  loop through the letters and (somehow) count how many times we've looped\n",
    "    * we don't know how to do this yet, but we will!\n",
    "2.  do a reference loop and use the numbers in our range loop to look up the letters in the string.\n",
    "    * this allows us to make a fake unpacking loop.  \n",
    "\n",
    "When data has an order you can usually look up items by position.  Those positions are generally integer values counting up, which is exactly the power we get with `range`."
   ]
  },
  {
   "cell_type": "markdown",
   "metadata": {},
   "source": [
    "# Type 3:  the reference loop\n",
    "\n",
    "Facts:\n",
    "\n",
    "* Strings are ordered sets of characters.  \n",
    "* Each character in a string has a position.\n",
    "* You can look up those characters with a position number. \n",
    "* Postion numbers can be generated with a `range` function call.\n",
    "\n"
   ]
  },
  {
   "cell_type": "markdown",
   "metadata": {},
   "source": [
    "So instead of looping over the word itself, we can loop over the results of `range` and look up the letter in the process.\n",
    "\n",
    "For this, we need to find a way to get a `range` function call with the right number of positions.  Certainly we could count the number of characters and directly code that into our `range` call.\n",
    "\n",
    "So this is going to introduce many players into our game.  We need to test out each moving piece as we go.  Here's our general steps.\n",
    "\n",
    "We want to use the numbers produced by range as position numbers for our string.  \n",
    "\n",
    "1. Check that we are producing the right numbers for use as position numbers.\n",
    "2. Check that the position numbers are yanking in what we expect from our string.\n",
    "3. Make the output pretty."
   ]
  },
  {
   "cell_type": "code",
   "execution_count": null,
   "metadata": {},
   "outputs": [],
   "source": [
    "word = \"Once\"\n",
    "wordlength = 4 # counted via eyeballs\n",
    "\n",
    "for number in range(wordlength):\n",
    "    print(number, end=\" \")"
   ]
  },
  {
   "cell_type": "markdown",
   "metadata": {},
   "source": [
    "But we'd have to do this for every word we want to run through the program, which would defeat the purpose of programming.  What we need is a way to detect the length of an arbitrary string.  \n",
    "\n",
    "# `len()` is an essential partner of `range()`\n",
    "\n",
    "Many types of objects have a length, and each object that works with it has its own definition of what 'length' means. When you pass `len()` a string it counts the number of characters in it."
   ]
  },
  {
   "cell_type": "code",
   "execution_count": null,
   "metadata": {},
   "outputs": [],
   "source": [
    "print(len(word))  # automated word length counting!\n",
    "print(wordlength) # our eyeball count from above"
   ]
  },
  {
   "cell_type": "markdown",
   "metadata": {},
   "source": [
    "Now we can substitute this call to `len` in our previous expression."
   ]
  },
  {
   "cell_type": "code",
   "execution_count": null,
   "metadata": {},
   "outputs": [],
   "source": [
    "for number in range(len(word)):\n",
    "    print(number, end=\" \")"
   ]
  },
  {
   "cell_type": "markdown",
   "metadata": {},
   "source": [
    "As general practice (but not hard and fast rule), **your first step to writing `for` loops should be to set up the declaration line and throw the iterable item into a `print` statement so that you know what you are looping over**.  This will help reinforce what the data type is that you are supposed to be working with, and it allows you to double check that you are actually iterating over what you expect.\n",
    "\n",
    "So now we have our `for` loop going over the results of `range` on the length of the words.  Now we need to remember what we were going to use this number for.\n",
    "\n",
    "We were going to use it to look up the letter in the word.\n",
    "\n",
    "# String slicing\n",
    "\n",
    "Slicing means that you are taking a chunk out of something. Many data types that include content with position values can be sliced.  The good thing is that they all share a pretty similar syntax, so you only have one thing to learn.  The bad thing is that this means that the code for these instances will all start looking the same, which is where descriptive variable names come in handy.  You may even want to put the (expected/presumed/hopeful) data type in the variable name.\n",
    "\n",
    "Anyhow, slicing notation revolves around (or inside...) the `[]` characters.  To get a single letter out of a string, you place the desired position value in the `[]` at the end of the string or the variable containing the string."
   ]
  },
  {
   "cell_type": "code",
   "execution_count": null,
   "metadata": {},
   "outputs": [],
   "source": [
    "print(\"hello\"[1])"
   ]
  },
  {
   "cell_type": "markdown",
   "metadata": {},
   "source": [
    "Nope, that's not an h.  Remember how `range` starts at 0?   Python is pretty consistent that when counting positions or dealing with a series of numbers, it starts from 0.  Meanwhile, when measuring things like length it starts from 1.  There are historical and technical reasons for this, entire injokes about it, and no shortage of tears shed over it.\n"
   ]
  },
  {
   "cell_type": "code",
   "execution_count": null,
   "metadata": {},
   "outputs": [],
   "source": [
    "my_string = \"hello\"\n",
    "\n",
    "print(len(my_string))\n",
    "\n",
    "print(my_string[0]) # just confirming: what do we get?"
   ]
  },
  {
   "cell_type": "code",
   "execution_count": null,
   "metadata": {},
   "outputs": [],
   "source": [
    "print(my_string[5]) # and now what do we get?"
   ]
  },
  {
   "cell_type": "markdown",
   "metadata": {},
   "source": [
    "This is just one of those things that you need to memorize&mdash;we count starting at zero, and the last index of any iterable item (like a string) is one less than its length&mdash;but you will still mess up sometimes no matter how much experience you have. I do.\n",
    "\n",
    "So let's place this in our `for` loop to just see what happens.\n",
    "\n",
    "# final form"
   ]
  },
  {
   "cell_type": "code",
   "execution_count": null,
   "metadata": {},
   "outputs": [],
   "source": [
    "word = \"Once\"\n",
    "\n",
    "print(word[0], word[1], word[2], word[3])"
   ]
  },
  {
   "cell_type": "code",
   "execution_count": null,
   "metadata": {},
   "outputs": [],
   "source": [
    "for number in range(len(word)):\n",
    "    print(word[number], end=\" \")"
   ]
  },
  {
   "cell_type": "markdown",
   "metadata": {},
   "source": [
    "All I've done here is add the string slicing lookup into my print statement. I'm not looping over the word at all. I'm just making the range based off the length of the word and looking up the letter with the number in the range.\n",
    "\n",
    "You might be asking about the value of these extra steps rather than just looping over the string directly:"
   ]
  },
  {
   "cell_type": "code",
   "execution_count": null,
   "metadata": {},
   "outputs": [],
   "source": [
    "for letter in word:\n",
    "    print(letter, end=\" \")"
   ]
  },
  {
   "cell_type": "markdown",
   "metadata": {},
   "source": [
    "Certainly if my interest was only in the letters, looping over `range(len(word))` does add unnecessary complication. However, if you look more closely I have access to much more information in the process. I not only have the letter, but I also have access to *the position of that letter*.\n",
    "\n",
    "Watch below as I change nothing about the `for` loop from above except add more information to the print statement."
   ]
  },
  {
   "cell_type": "code",
   "execution_count": null,
   "metadata": {},
   "outputs": [],
   "source": [
    "for number in range(len(word)):\n",
    "    print(\"The character at position\", number, \"is\", word[number])"
   ]
  },
  {
   "cell_type": "markdown",
   "metadata": {},
   "source": [
    "One problem is:  the numbers start at 0 but we want them to start at 1, for our human user. This is easily solved with some math. We can operate on the iterable number without changing the value.  "
   ]
  },
  {
   "cell_type": "code",
   "execution_count": null,
   "metadata": {},
   "outputs": [],
   "source": [
    "for number in range(len(word)):\n",
    "    print(\"The character at position\", number + 1, \"is\", word[number])"
   ]
  },
  {
   "cell_type": "markdown",
   "metadata": {},
   "source": [
    "## Practice!\n",
    "\n",
    "OK, let's each actually make a script that prints the first line of The Raven with each letter's position labeled, like so:\n",
    "```\n",
    "1: O\n",
    "2: n\n",
    "3: c\n",
    "4: e\n",
    "5: \n",
    "6: u\n",
    "7: p\n",
    "8: o\n",
    "9: n   \n",
    "```\n",
    "(and so on)\n",
    "\n",
    "As a reminder (because memorizing The Raven is not a requirement for this class :))\n",
    "\n",
    "`first_line = \"Once upon a midnight dreary, while I pondered, weak and weary\"`\n"
   ]
  },
  {
   "cell_type": "markdown",
   "metadata": {},
   "source": [
    "# Type 4: The Accumulator Loop\n",
    "\n",
    "This type of loop really focuses on numbers: generating numbers, manipulating their contents, and converting them to suit your needs.  The only math you'll generally be doing is addition and division.    \n",
    "\n",
    "## Accumulators vs. counters\n",
    "\n",
    "As you are thinking of accumulators and counters, keep them separate in your head.  They look really similar in the code, but their purpose and usage will be very different!  You can have multiple of both inside your program, but commonly you'll have an accumulator to collect up many values, and then a counter to keep track of how many things you have counted.  There is an argument to be made that counters are a special type of accumulator, but I prefer to think of them as siblings rather than parent/child.\n",
    "\n",
    "The first question that you need to ask is:  \"what am I summing here?\"  Are you counting a series of uniform values?  Or are you counting up a series of different values?  The variability of the values is a big distinction here.\n",
    "\n",
    "For example, we have a class of 22 students.  \n",
    "\n",
    "**We can count the number of students.**  Each person here counts as \"1\".  This is a uniform value across all entities.  This is the core of a counter pattern. Inside the loop you'll see that the incrementing value is often hard-coded. \n",
    "\n",
    "**We can sum up the total age.** Each person has some age, which may repeat, but is variable across everyone in here.  This value must be accessed each time through, and that value is added up to create a final value representing the total number of years old all the students are in this room. \n",
    "\n",
    "We can use them together. If I know a total sum of a property for a set of entities, and the total number of entities, what does that sound like to you?\n",
    "\n",
    "This is how we calculate the mean or average value. So if we've got a loop counting these two things together, we can calculate some summary statistics about it.  \n",
    "\n",
    "**What are some other examples of things you might want to count up versus things you might want to sum up?**\n",
    "\n",
    "Let's take a step back and look at some code for making these things happen.  \n",
    "\n",
    "\n",
    "# Minimal counter\n",
    "\n",
    "A minimal counter will be the easiest to see this mechanism in action.\n",
    "\n",
    "\n",
    "## Counting up by a set number\n",
    "\n",
    "For this task, we want to count how many times a loop executes.  This isn't a trick or anything fancy.  \n",
    "\n",
    "Remember our steps to build a `for` loop? We need to:\n",
    "\n",
    "1. determine our pattern\n",
    "2. identify our sequence\n",
    "3. give our iterable a good name\n",
    "\n",
    "Answering questions 1 and 2 here often go in circles. Pick a pattern, think about how it'll work with the sequences available to you, and either rethink or continue forward. As you build up more experience, you'll know what you need faster and begin to have a set of patterns that you are the most comfortable with. As you are getting started, take note of the patterns that make the most sense to you, and latch onto those.\n",
    "\n",
    "Let's start with a range() loop, because what we need is to make a `for` loop that can execute some number of times so that we can count how many times that is. True, we can run a counter in every type of loop out there, but let's go with a range() loop to start with.\n",
    "\n",
    "### Review a base range() loop\n",
    "\n",
    "``` python\n",
    "for number in range(5):\n",
    "    print(\"hello\")\n",
    "```\n",
    "\n",
    "This block of code will print \"hello\" five times.  \n",
    "\n",
    "We're going to start with this base, and change it so that we are counting how many times this runs.  We know it will be 5 times, but our end goal will be to have a variable holding this value.\n"
   ]
  },
  {
   "cell_type": "code",
   "execution_count": null,
   "metadata": {},
   "outputs": [],
   "source": [
    "for number in range(5):\n",
    "    print(\"hello\")"
   ]
  },
  {
   "cell_type": "markdown",
   "metadata": {},
   "source": [
    "### There are 4 steps to a counter\n",
    "\n",
    "Here are the 4 steps:\n",
    "\n",
    "1. Establish your base variable at the initial state (usually 0)\n",
    "2. Start a `for` loop for whatever you're repeating\n",
    "3. Do your stuff -- whatever you need to do in that loop\n",
    "4. Update your counter, usually by 1.  This is commonly the last thing in your loop.\n",
    "\n",
    "The reference pattern is:\n",
    "\n",
    "```python \n",
    "counter = 0 # 1: your counter variable at the initial state\n",
    "\n",
    "for something in sequence: # 2: loop over something!\n",
    "    do stuff # 3: do all the things\n",
    "    counter = 1 + counter # 4: update the counter, replace 1 and/or the operator with whatever you need\n",
    "```\n",
    "\n",
    "(Yes, a `for` loop being used as an accumulator looks an awful lot like a `while` loop that you want to run a set number of times.)\n",
    " \n",
    "You are often having to do more than just update your counter variable, and many times you need that value in the process. This means that you'll need to increment your counter as the *last thing you do in your loop*. There will be exceptions to this, but they are rare.  More generally, all your incrementers should be at the end of your loop, and the internal order doesn't always matter.\n",
    "\n",
    "This particular example is counting up by 1, but you can always change what that number is or what the operator is.  For example, if you were counting up by 10, you would have 10 in step 4.\n",
    "\n",
    "\n",
    "#### Worked example of a counter\n",
    "\n",
    "\n",
    "##### Step 1: have a base\n",
    "\n",
    "So let's start adapting things.  We need to start with a base.\n",
    "\n",
    "``` python\n",
    "count = 0\n",
    "```\n",
    "\n",
    "##### Step 2: have a `for` loop in there\n",
    "\n",
    "Now we're going to add in our `for` loop.\n",
    "\n",
    "``` python\n",
    "count = 0\n",
    "\n",
    "for number in range(5):\n",
    "    print(\"hello\")\n",
    "```\n",
    "You see that I haven't changed up the `for` loop's content, we'll get to that next.\n",
    "\n",
    "##### Step 3: do stuff to get the count that you need in that `for` loop\n",
    "\n",
    "Very often with counters you won't need to do anything here, because you're just brute force counting by a certain number each time.  But this is when you'd address any decision structures or data extraction methods to get out the value that you need to count by.\n",
    "\n",
    "``` python\n",
    "count = 0\n",
    "\n",
    "for number in range(5):\n",
    "    # you'd do stuff here\n",
    "    # or maybe you have more counters do do\n",
    "    # either way, all the fun stuff not counter-related goes right after the for loop starts\n",
    "    print(\"hello\") # and likely print it out here instead of \"hello\"\n",
    "```\n",
    "\n",
    "##### Step 4:  increment up your counter\n",
    "\n",
    "Now that we've got all our pieces in order and we've done our business, we can finally update our counter.  This is the last step because this is often the last thing your loop.  One of the most common problems that I see is when the increment is put at the beginning of the loop or in the middle of the action, and everything gets weird.  Almost always it will need to be the last line of code within your loop.\n",
    "\n",
    "``` python\n",
    "count = 0 # initialize the counter\n",
    "\n",
    "for number in range(5):\n",
    "    count = count + 1 #here's the update\n",
    "    \n",
    "print(count)\n",
    "```\n",
    "\n",
    "Note our use of `count = count + 1` here.  We are updating a variable that already exists (this is why we define a base), and since we want to reuse it and have the value retained even when the `for` loop resets, we need to a) keep that base on the outside of our `for` loop and b) reuse the variable name.  So that repetition of the variable name is purposeful and absolutely necessary.  \n",
    "\n",
    "What would happen if the `print(count)` was indented inside the `for` loop?  Would we see `count` with the base value of 0?  Would we see count with the final value of 5?  Why?"
   ]
  },
  {
   "cell_type": "code",
   "execution_count": null,
   "metadata": {},
   "outputs": [],
   "source": [
    "count = 0\n",
    "\n",
    "for number in range(5):\n",
    "    count = count + 1 #here's the update\n",
    "    \n",
    "print(count)\n",
    "\n",
    "# for number in range(5):\n",
    "#     count = count + 1 #here's the update\n",
    "#     print(count)"
   ]
  },
  {
   "cell_type": "markdown",
   "metadata": {},
   "source": [
    "# Minimal Accumulator:  summing variable/non-uniform values\n",
    "\n",
    "Think like snow measurement, we say that there is an \"accumulation of 3 inches\".  You don't know how big the individual time moments are (like if it snowed heavily at once or if it was a slow trickle), but you do know the end total of how much snow ended up there.  You can also measure the amount incrementally over time, but once something is added in you can't know how big that individual piece is.\n",
    "\n",
    "An accumulator is highlighted by the incremental value varying in size.  Think of this like a running total where you are only keeping track of the current value, and once an individual value is added in, that value is lost.  \n",
    "\n",
    "## There are 5 steps to an accumulator\n",
    "\n",
    "Here are the 5 steps (they should look very familiar to you with the counter steps)\n",
    "\n",
    "1. Establish your accumulator base at the initial state (usually 0)\n",
    "2. Start a loop for whatever you're repeating\n",
    "3. Do your stuff, whatever you need to do in that loop\n",
    "4. Determine your value to accumulate\n",
    "5. Update your base variable by whatever your incremental value is.  This is commonly the last thing in your loop.\n",
    "\n",
    "The reference pattern is:\n",
    "\n",
    "```python \n",
    "total_somethings = 0 # 1: your counter variable at the initial state\n",
    "\n",
    "for something in sequence: # 2: loop over something!\n",
    "    do stuff # 3: do all the things\n",
    "    # 4: determine the value you want to add to your accumulator\n",
    "    value_you_want = ?? \n",
    "    # 5: update the counter, replace 1 and/or the operator with whatever you need\n",
    "    total_somethings = value + total_somethings \n",
    "```\n",
    "\n",
    "## Worked example\n",
    "\n",
    "Let's sum up all the numbers produced in a range loop.  Yes, this is as silly example, but it keeps the clutter away so you can see the inner workings better.\n",
    "\n",
    "Reminder, here's our range loop printing out 10 numbers, starting at 0.  We will be adding an accumulator pattern within and around this for loop.\n",
    "\n",
    "``` python\n",
    "for num in range(10):\n",
    "    print(num)\n",
    "```\n",
    "\n",
    "\n",
    "### 1: add the base\n",
    "\n",
    "We want to start at 0, because we're calculating a sum.\n",
    "\n",
    "``` python\n",
    "\n",
    "total_sum = 0  # 1\n",
    "\n",
    "for num in range(10):\n",
    "    print(num)\n",
    "```\n",
    "\n",
    "### 2 & 3: looping and doing things\n",
    "\n",
    "There's not much to do because we already have our loop set up for us.  Likewise, there's no transformation or lookup to do there.  \n",
    "\n",
    "``` python\n",
    "\n",
    "total_sum = 0 \n",
    "\n",
    "for num in range(10): # 2\n",
    "    # 3: you'd do stuff here to transform or extract the number that you need\n",
    "    print(num) \n",
    "```\n",
    "\n",
    "### 4: add the incrementing value\n",
    "\n",
    "And where do we need to put the incrementing expression?  When in doubt, put it at the end and see what happens. In our case, we aren't doing much of anything, so we can put it anywhere.\n",
    "\n",
    "Here's what the final form should look like."
   ]
  },
  {
   "cell_type": "code",
   "execution_count": null,
   "metadata": {},
   "outputs": [],
   "source": [
    "total_sum = 0 # step 1\n",
    "\n",
    "for num in range(10): # step 2\n",
    "    # we can get rid of the print now\n",
    "    total_sum = num + total_sum # step 5\n",
    "    \n",
    "print(total_sum)"
   ]
  },
  {
   "cell_type": "markdown",
   "metadata": {},
   "source": [
    "# You can 'accumulate' more than numbers!!!!!\n",
    "\n",
    "Anything that can 'hold' stuff can be accumulated into.  You'll be using this pattern a lot moving forward.\n",
    "\n",
    "## Collecting letters\n",
    "\n",
    "When a data type has the ability to be 'added' to, either through the `+` operator or a method (lists do this, but we aren't there yet), you can use this same kind of pattern.  Instead of setting the counter to `0`, you have an 'empty' whatever-it-is.  Since we've been playing with strings tonight, let's use that as an example.\n",
    "\n",
    "```python \n",
    "new_string = \"\" # 1 your empty string\n",
    "\n",
    "for letter in some_variable_holding_a_string: # 2 loop over something!\n",
    "    do stuff # 3 maybe you're filtering for letter characters, like \"is this a vowel?\"\n",
    "    new_string = new_string + letter # 4 update the new string to include this letter\n",
    "```\n",
    "\n",
    "Other than not having numbers, you'll notice just one difference in this example:  I'm using `new_string = new_string + letter`, whereas the counter had `thing_to_add = 1 + thing_to_add`.  So whereas numerical addition can have any order (Commutative Property), there will be times when order does matter, with other kinds of \"addition\" (concatenation). String concatenation is _definitely_ one of the times when order matters.\n",
    "\n",
    "`\"fizzy\" + \"pop\"` makes `\"fizzypop\"` and `\"pop\" + \"fizzy\"` makes `\"popfizzy\"`.  So the order in which you decide to write the operation will determine what you get and should be part of your design process.  Most of the time you'll want to add new things on to the end, so:  `current + new`\n",
    "\n"
   ]
  },
  {
   "cell_type": "code",
   "execution_count": null,
   "metadata": {},
   "outputs": [],
   "source": [
    "# this is kind of a silly example\n",
    "\n",
    "sentence = \"Once upon a midnight dreary, while I pondered weak and weary, suddenly there came a tapping at my chamber door.\"\n",
    "new_string = \"\"\n",
    "print(\"Our sentence:\\n\", sentence, sep = \"\")\n",
    "\n",
    "for letter in sentence:\n",
    "    if letter in \"aeiouAEIOU\": # looking for vowels\n",
    "        new_string = new_string + \" \" + letter\n",
    "\n",
    "print(\"Our sentence without any consonants: \")\n",
    "print(new_string)\n"
   ]
  },
  {
   "cell_type": "markdown",
   "metadata": {},
   "source": [
    "## Generalizing the accumulator pattern beyond numbers\n",
    "\n",
    "You should still keep your idea of the counter as something separate for now.  But we can come up with a more general pattern to serve you beyond basic operator (`+`) accumulation.\n",
    "\n",
    "This pattern will be used all over as we move forward in class, and I promise you'll get a concrete example very soon! The thing that will change from our basic additive accumulation is what the collection item is (a string, a sum, a file, list, etc), what (and how) you're adding to the thing, and what you need to do to create the thing you want to add to your collection. Just so that you have seen it, here's a more abstract formula:\n",
    "\n",
    "\n",
    "```python \n",
    "collection_thing = ?? # declare an empty version of your collection thing \n",
    "# thing may also be opening an empty file to write out to\n",
    "\n",
    "for thing in sequence: # loop over something!\n",
    "    do stuff # transform, filter, etc\n",
    "    collection_thing ??? # put your new data in your collection thing\n",
    "```"
   ]
  },
  {
   "cell_type": "markdown",
   "metadata": {},
   "source": [
    "## Accumulating with `while`\n",
    "\n",
    "The first three patterns (range, unpacking, and reference loops) all match up nicely with `for` loops. That's generally what you'll use for those, though I'm sure there are exceptions.\n",
    "\n",
    "Accumulators, though? It'll vary.\n",
    "\n",
    "In particular, **if you're accumulating things for an unknown amount of tries**, you'll want a `while` loop. Let's say we're redoing the sum/product/min/max problem from a couple of weeks ago (combine the numbers a user inputs), only we want to take in an unknown number of numbers. That's definitely a `while` loop problem. This is also a place where we'd use what the book calls a **sentinel** value--some value that a user can enter, to tell the program \"I'm done giving you input.\"\n",
    "\n",
    "### General formula for getting an unknown number of inputs:\n",
    "\n",
    "1) (On paper or in your head -- in your planning document, for this class) Figure out what possible values legitimate inputs might have, and then set your sentinel to be something different.\n",
    "\n",
    "2) Display directions for the user, including how to make the program stop.\n",
    "\n",
    "3) Initialize any counters or other variables that need to be set outside the loop.\n",
    "\n",
    "4) Get the user's first input.\n",
    "\n",
    "5) Start your `while` loop, with the conditional set to check that the user's input is not equal to your sentinel value.\n",
    "\n",
    "6) Do whatever operations you need to do with the input, counters, etc.\n",
    "\n",
    "7) Just before you exit the loop's code block, get the next input from the user (in the same variable you're checking in the conditional statement).\n",
    "\n",
    "8) Do any final calculations and output the results to the user.\n",
    "\n",
    "Here's an example:"
   ]
  },
  {
   "cell_type": "code",
   "execution_count": null,
   "metadata": {},
   "outputs": [],
   "source": [
    "# build a sentence from user input and tell them how many words it was\n",
    "\n",
    "print(\"I'm going to gather words from you.\", end=\" \")\n",
    "print(\"When you're finished, give me a period (.) by itself,\", end = \" \")\n",
    "print(\"and then I will output your full sentence and how many words it contains.\")\n",
    "\n",
    "# initialize the counter to zero\n",
    "count = 0\n",
    "\n",
    "# initialize the output sentence to an empty string\n",
    "sentence = \"\"\n",
    "\n",
    "# get the user's first input\n",
    "user_word = input(\"Please give me a word (or a period if you are finished): \")\n",
    "\n",
    "while(user_word != \".\"):\n",
    "    # concatenate the new word onto the sentence\n",
    "    # the space keeps it from running together\n",
    "    sentence = sentence + user_word + \" \"\n",
    "    count += 1 # this is fine, or count = count + 1 is fine\n",
    "    user_word = input(\"Please give me a word (or a period if you are finished): \")\n",
    "\n",
    "print(\"Your sentence is \", sentence, \"which has \", count, \" words in it.\", sep = \"\")"
   ]
  },
  {
   "cell_type": "markdown",
   "metadata": {},
   "source": [
    "# Two Very Common Pitfalls\n",
    "\n",
    "We're going to switch gears a bit and go over some of the common errors that you'll see related to these patterns. I'm showing you what **not** to do to help you debug your loops.\n",
    "\n",
    "## The accumulator value isn't adding or only has the last value\n",
    "\n",
    "This happens when your counter variable initialization is placed inside a 'for' loop and ends up starting over each run. It will still perform the operations each time, but your counter will be reset each time through.  "
   ]
  },
  {
   "cell_type": "code",
   "execution_count": null,
   "metadata": {},
   "outputs": [],
   "source": [
    "for i in range(5):\n",
    "    print(\"the number is:\", i)\n",
    "    counter = 0\n",
    "    counter = counter + i\n",
    "    \n",
    "print(\"the final result is:\", counter)"
   ]
  },
  {
   "cell_type": "markdown",
   "metadata": {},
   "source": [
    "All the pieces you need are in there, just in the wrong place.  I've fixed the code below by only moving the location of the `counter = 0` line."
   ]
  },
  {
   "cell_type": "code",
   "execution_count": null,
   "metadata": {},
   "outputs": [],
   "source": [
    "counter = 0 # look at me at the top now\n",
    "\n",
    "for i in range(5):\n",
    "    print(\"the number is:\", i)\n",
    "    counter = counter + i\n",
    "    \n",
    "print(\"the final result is:\", counter)"
   ]
  },
  {
   "cell_type": "markdown",
   "metadata": {},
   "source": [
    "## Your output looks like a pyramid or shows a correct but incremental version of the final output\n",
    "\n",
    "This happens when your final result statement is inside your for loop, causing it to be executed each loop.  The output this produces a characteristic pyramid effect."
   ]
  },
  {
   "cell_type": "code",
   "execution_count": null,
   "metadata": {},
   "outputs": [],
   "source": [
    "s = \"\"\n",
    "\n",
    "for i in range(1000, 1010):\n",
    "    s = s + \"a\" \n",
    "    print(\"the final string is:\", s)"
   ]
  },
  {
   "cell_type": "markdown",
   "metadata": {},
   "source": [
    "See how that result is growing?  The `print` statement is inside the `for` loop.  So we're seeing the correct result, but we're watching it grow.  This sort of thing may also cause odd errors when you are dealing with creating other kinds of data structures, where you are adding your incremental results to the full data stucture rather than collecting up a sub result and then adding that.  You'll likely still see a pyramid effect in there somewhere.  The solution is to move the `print` statement out of the `for` loop."
   ]
  },
  {
   "cell_type": "code",
   "execution_count": null,
   "metadata": {},
   "outputs": [],
   "source": [
    "s = \"\"\n",
    "\n",
    "for i in range(1000, 1010):\n",
    "    s = s + \"a\"\n",
    "\n",
    "print(\"the final string is:\", s) "
   ]
  },
  {
   "cell_type": "markdown",
   "metadata": {},
   "source": [
    "## One final pattern: input validation\n",
    "\n",
    "One other big use of `while` loops is input validation. The basic pattern is \n",
    "\n",
    "```\n",
    "while the_user_is_messing_up:\n",
    "    ask the user for input again\n",
    "```\n",
    "\n",
    "For example:\n",
    "\n",
    "```python\n",
    "user_input = input(\"Please give me a number between 1 and 10: \")\n",
    "\n",
    "while user_input < 1 or user_input > 10:\n",
    "    print(\"That number was not between 1 and 10.\")\n",
    "    user_input = input(\"Please give me a number between 1 and 10: \")\n",
    "```\n",
    "\n",
    "A note: This is great for checking that numbers are within certain bounds, but it isn't going to help us if we're expecting a number and we get alphabetic input instead. For right now, you don't have to stress about that. If you tell the user to enter a number, you can trust your user to enter a number (but not necessarily a _valid_ number -- you still have to check that it's within expected bounds). \n",
    "\n",
    "When you're combining input validation and sentinels, you may have to be careful. If you're taking in a series of numbers and using \"stop\" as your sentinel value, that's great, but make sure you do the checks in the right order. **Don't try to cast your value to `int` or `float` before you've checked to make sure it isn't equal to the string \"stop\", or your program will crash.** (This is bold because it ruins someone's day every. single. year.)\n"
   ]
  },
  {
   "cell_type": "markdown",
   "metadata": {},
   "source": [
    "### `isnumeric()`"
   ]
  },
  {
   "cell_type": "code",
   "execution_count": null,
   "metadata": {},
   "outputs": [],
   "source": [
    "my_var = input(\"Tell me anything: \")\n",
    "if my_var.isnumeric():\n",
    "    print(\"That's my favorite number!\")\n",
    "else:\n",
    "    print(\"That's very interesting!\")"
   ]
  },
  {
   "cell_type": "code",
   "execution_count": null,
   "metadata": {},
   "outputs": [],
   "source": [
    "# but this won't solve all of your problems\n",
    "var = \"-1\"\n",
    "print(var.isnumeric())"
   ]
  },
  {
   "cell_type": "markdown",
   "metadata": {},
   "source": [
    "## One last thing -- requires a whiteboard (virtual's fine)\n",
    "OK, I really want to show you how I walk through a for() loop that's misbehaving. Your approach might be different, but having seen one approach to doing this will certainly help you when (not if, *when*) you have to debug your own loops."
   ]
  }
 ],
 "metadata": {
  "kernelspec": {
   "display_name": "Python 3",
   "language": "python",
   "name": "python3"
  },
  "language_info": {
   "codemirror_mode": {
    "name": "ipython",
    "version": 3
   },
   "file_extension": ".py",
   "mimetype": "text/x-python",
   "name": "python",
   "nbconvert_exporter": "python",
   "pygments_lexer": "ipython3",
   "version": "3.7.9"
  }
 },
 "nbformat": 4,
 "nbformat_minor": 2
}
