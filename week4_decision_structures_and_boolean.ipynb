{
 "cells": [
  {
   "cell_type": "markdown",
   "metadata": {},
   "source": [
    "Boolean expressions and conditional checks\n",
    "=====================================\n",
    "\n",
    "All of the code we've written up to this point runs in the order we put it in, line by line, with every line being executed. That's a fine way to solve a lot of problems, but we live in a world of uncertainty, right? Sometimes we need a program to act differently based on variations in the inputs our users might give it.\n",
    "\n",
    "Enter Booleans.\n",
    "\n",
    "Generally speaking, Booleans allow us to make decision statements. We can use this to check inputs, create more complex algorithms, and perform data filtering.\n",
    "\n",
    "Let's review an essential concept:  the expression. Expressions are valid pieces of code that evaluate to a value. For example:\n",
    "\n",
    "* `2 + 2` evaluates to `4`\n",
    "* `8 % 2` evaluates to `0`\n"
   ]
  },
  {
   "cell_type": "code",
   "execution_count": null,
   "metadata": {},
   "outputs": [],
   "source": [
    "# just showing that's true\n",
    "print(2 + 2)\n",
    "print(8 % 2)"
   ]
  },
  {
   "cell_type": "markdown",
   "metadata": {},
   "source": [
    "Crafting a decision statement requires that you create a **Boolean expression**. These may also be called \"**conditional checks**.\" They are expressions that evaluate to either `True` or `False`.\n",
    "\n",
    "Boolean is both a concept (logic, etc) and a data type.\n",
    "\n",
    "* **bool**: this is a data type, representing the two logical objects\n",
    "    * **`True`** and **`False`**: these are the two Boolean objects available in Python; note that capitalization matters\n",
    "* __conditional check__: this is an expression will end up as `True` or `False`.  Examples will be anything that has the `==`, `<`, `>`, `<=`, or `>=` in it, or any method/function that returns a `True` or `False`. You can also use `!=` to indicate 'not equal to'.\n",
    "\n",
    "If you think back to the code.org exercises we did at the beginning of the semester, we used `if` statements there:\n",
    "* `if path to the right`\n",
    "* `if path ahead, do ... else ...` \n",
    "\n",
    "Conceptually, doing this in Python is exactly the same.\n",
    "\n",
    "Crafting a Boolean expression\n",
    "========================\n",
    "\n",
    "Boolean expressions evaluate to either `True` or `False`, and there are several ways to create them.  The two primary ways are using an operator (a math-looking thing) or a method/function (including a custom function that you write ... soon, but not today!) specifically designed to return a Boolean value.\n",
    "\n",
    "Core Boolean operators\n",
    "----------------------------------\n",
    "\n",
    "* `==` (read as \"double equals\")  this is the equality check operator, which should appear between two objects and will return either `True` or `False`, e.g.: \n",
    "    * `1 == 1` will return `True`\n",
    "    * `2 == 4` will return `False`\n",
    "    * Important:  this will check equivalence and not object identity. This is a concept that we will not really be covering too heavily. But you may see the `is` keyword, which will check identity. This may appear to be functionally equivalent, but that is not the case. You'll learn more about `is` later.\n",
    "* `!=` (read as \"not equals\") this is the inverse of the equality check operator.\n",
    "    * `1 != 1` will return `False`\n",
    "    * `2 != 4` will return `True` \n"
   ]
  },
  {
   "cell_type": "code",
   "execution_count": null,
   "metadata": {},
   "outputs": [],
   "source": [
    "x = 5\n",
    "print(\"x is 5\")\n",
    "print(\"x == 5:\", x == 5)\n",
    "print(\"x != 5:\", x != 5)\n",
    "print(\"x != 6:\", x != 6)\n",
    "\n",
    "print(type(x != 6))"
   ]
  },
  {
   "cell_type": "markdown",
   "metadata": {},
   "source": [
    "Then the usual math suspects:\n",
    "\n",
    "* `>` (greater than)\n",
    "* `<` (less than)\n",
    "* `<=` (less than or equal to)\n",
    "* `>=` (greater than or equal to) \n",
    "\n",
    "There is an important distinction between the `greater/less than` and the `greater/less than or equal to` operators. \n",
    "\n",
    "Example: 10 is not less than 10, but it is equal to it. So if you were trying to check if something is a number up to or including 10, you need to use `num <= 10`. This is functionally equivalent to `num < 11`.  You will develop your own personal style."
   ]
  },
  {
   "cell_type": "code",
   "execution_count": null,
   "metadata": {},
   "outputs": [],
   "source": [
    "# showing that\n",
    "x = 5\n",
    "print(\"x is 5\")\n",
    "print(\"x < 5:\", x < 5)\n",
    "print(\"x <= 5:\", x <= 5)\n",
    "print(\"x < 6:\", x < 6)\n",
    "\n",
    "print(type(x < 6))"
   ]
  },
  {
   "cell_type": "markdown",
   "metadata": {},
   "source": [
    "General steps for writing conditional statements\n",
    "=======================================\n",
    "\n",
    "1. *Figure out the Boolean expression that tests what your truth is.* Pay attention to the language of the question in your head (or in your planning document) and try to match that. Experiment with this expression on your data or a representative sample of the data, printing out the Boolean results to do an eyeball spot check.\n",
    "2. Add that expression into an `if` block\n",
    "3. Add bits and bobs as necessary\n",
    "\n",
    "**One of the most common errors in constructing Boolean checks is inversing what you are checking for. Check for _what you want._ Do not check for _what you do not want._**\n",
    "    \n",
    "# the `if` block\n",
    "\n",
    "Your first step is to figure out the Boolean expression that you want to be checking. Once you have that, you can place it into your `if` block.  \n",
    "\n",
    "This `if` block must appear once and at the beginning of every decision structure. You can add stuff after it, but we'll look at it alone first.\n",
    "\n",
    "This is a one-way check. You will provide it a Boolean expression, and the code in the `if` block will be executed if that expression evaluates to `True`. Nothing will happen if the condition evaluates to `False`. We'll explore how we can build off this `if` block later, but we need to get this down first.\n",
    "\n",
    "* `if` - this is your base keyword that every conditional check that will open with, and you may only use this once at the very beginning. You have to pass this a conditional check.  Example usage:\n",
    "    * ```python\n",
    "    if boolean_expression:\n",
    "        # stuff to do if the conditional check is True```\n",
    "        \n",
    "Let's build a program that checks if a person's height is within limits for a roller coaster ride. All passengers must be 34 inches or taller.\n",
    "\n",
    "All conditional checks require 3 pieces:\n",
    "\n",
    "1.  The thing being checked; usually this is your variable\n",
    "2.  The thing to check it against\n",
    "3.  How do you want to check it?\n",
    "\n",
    "Let's answer this for our current problem:\n",
    "\n",
    "1.  We want to check the person's height in the variable: `height_of_person_inches`\n",
    "2.  We want to check that against the minimum height of 34 inches\n",
    "3.  This in inclusive, so anyone *34 inches or taller in height* can ride.  This means we'll use `>=`\n",
    "\n",
    "Putting these three together, we have:\n",
    "\n",
    "`height_of_person_inches >= 34` \n",
    "\n",
    "Now we can place this in an `if` block."
   ]
  },
  {
   "cell_type": "code",
   "execution_count": null,
   "metadata": {},
   "outputs": [],
   "source": [
    "height_of_person_inches = 38\n",
    "\n",
    "if height_of_person_inches >= 34:\n",
    "    print(\"This person can ride this attraction.\") "
   ]
  },
  {
   "cell_type": "markdown",
   "metadata": {},
   "source": [
    "38 is indeed greater than or equal to 34, so the code in the if block executed.\n",
    "\n",
    "Next we'll look at what happen when it does not evaluate to `True`."
   ]
  },
  {
   "cell_type": "code",
   "execution_count": null,
   "metadata": {},
   "outputs": [],
   "source": [
    "height_of_person_inches = 32\n",
    "\n",
    "if height_of_person_inches >= 34:\n",
    "    print(\"The person can ride this attraction.\")"
   ]
  },
  {
   "cell_type": "markdown",
   "metadata": {},
   "source": [
    "32 is not greater than or equal to 34, so our conditional evaluated to `False`, meaning Python did not execute the code under the `if` block.\n",
    "\n",
    "One note about **blocks,** as a concept..."
   ]
  },
  {
   "cell_type": "code",
   "execution_count": null,
   "metadata": {},
   "outputs": [],
   "source": [
    "# what happens when we run this?\n",
    "\n",
    "height_of_person_inches = 32\n",
    "\n",
    "if height_of_person_inches >= 34:\n",
    "    print(\"The person is taller than 34 inches.\")\n",
    "print(\"They can ride this attraction.\")"
   ]
  },
  {
   "cell_type": "markdown",
   "metadata": {},
   "source": [
    "As soon as you stop indenting, you're outside the block. This is important.\n",
    "\n",
    "**Indentation is how we tell Python \"this code belongs to this block.\"**\n",
    "\n",
    "Vertical space doesn't matter to Python:"
   ]
  },
  {
   "cell_type": "code",
   "execution_count": null,
   "metadata": {},
   "outputs": [],
   "source": [
    "# what happens when we run this?\n",
    "\n",
    "height_of_person_inches = 32\n",
    "\n",
    "if height_of_person_inches >= 34:\n",
    "    print(\"The person is taller than 34 inches.\")\n",
    "    \n",
    "    \n",
    "    \n",
    "    # still belongs to the if above\n",
    "    print(\"No ride for them.\")\n",
    "    \n",
    "print(\"They can ride this attraction.\")"
   ]
  },
  {
   "cell_type": "markdown",
   "metadata": {},
   "source": [
    "Really quickly, first, though:"
   ]
  },
  {
   "cell_type": "code",
   "execution_count": null,
   "metadata": {},
   "outputs": [],
   "source": [
    "# what do you think happens when we run this?\n",
    "\n",
    "if 5 > 6:\n",
    "    text = \"You know, an aquarium is a submarine for fish.\"\n",
    "print(text)"
   ]
  },
  {
   "cell_type": "markdown",
   "metadata": {},
   "source": [
    "You need to declare your variables **outside** of `if` blocks. This is important. An `if` **may never run**, which would leave the variable non-existent and uninitialized, which means you can't use it for anything."
   ]
  },
  {
   "cell_type": "code",
   "execution_count": null,
   "metadata": {},
   "outputs": [],
   "source": [
    "# better: we initialized our variable as an empty string\n",
    "text = \"\"\n",
    "if 5 > 6:\n",
    "    text = \"You know, an aquarium is a submarine for fish.\"\n",
    "print(text)"
   ]
  },
  {
   "cell_type": "markdown",
   "metadata": {},
   "source": [
    "So. That's a single `if`. It gives us a lot of power, and there are lots of cases where just a single `if` statement is all we need. In many cases it's nice to have some feedback that the conditional check evaluated as `False`. (Like above, where it was a little hard to tell if the program ran or not.) This is where our next pattern comes in. \n",
    "\n",
    "\n",
    "# The `if/else` pattern\n",
    "\n",
    "As you are new to writing conditional code and still getting comfortable, I suggest that you always start with an `if/else` pattern (unless it's clear that you need the next pattern&mdash;more on that later.  This pattern allows you to have two blocks of code:\n",
    "\n",
    "1. stuff to run if the condition is `True`; **this is the `if` block**\n",
    "2. stuff to run if the condition is `False`; **this is the `else` block**\n",
    "\n",
    "    * ```python\n",
    "    if (conditional check statement):\n",
    "        # stuff to do if the conditional check is True\n",
    "    else: \n",
    "        # stuff to do if the conditional check is False```\n",
    "        \n",
    "Things to note:\n",
    "\n",
    "* the `else` block opener is at the same indent level as the `if` statement\n",
    "* there's a colon after the `else`,  but no other code (its block runs every time the `if` block doesn't run, so you don't have to test anything else)\n",
    "* even though there isn't any visual connection between these two blocks, they are connected.\n",
    "* the `else` statement may only appear after the `if` statement\n",
    "* the `else` statement may only appear when there is an `if` statement (so it cannot appear alone) ((this is only a little bit of a lie; ask me about it next week if you want))\n",
    "\n",
    "Let's add something to our previous example, so that we can give a rejection statement if the potential rider is too short."
   ]
  },
  {
   "cell_type": "code",
   "execution_count": null,
   "metadata": {},
   "outputs": [],
   "source": [
    "height_of_person_inches = int(input(\"How tall is this person in inches? \"))\n",
    "\n",
    "if height_of_person_inches >= 34:\n",
    "    print(\"The person can ride this attraction.\")\n",
    "else:\n",
    "    print(\"The person CANNOT ride this attraction.\")"
   ]
  },
  {
   "cell_type": "markdown",
   "metadata": {},
   "source": [
    "Now the user will recieve some feedback from our conditional block no matter what.  The `else` block will execute if the conditional in the `if` block evaluated to False.\n",
    "\n",
    "### Practice!\n",
    "\n",
    "Let's get a number from the user and tell them if it's even or odd. (How do we check if a number is even?)\n",
    "\n",
    "First line:\n",
    "```python\n",
    "the_num = int(input(\"Enter a number. I'll tell you if it's even or odd: \"))\n",
    "```"
   ]
  },
  {
   "cell_type": "markdown",
   "metadata": {},
   "source": [
    "The `if/elif/else` pattern\n",
    "===================\n",
    "\n",
    "We've covered the core concepts of using Booleans in our programs. `if/else` gets us most of the way there! But sometimes you need the `if/elif/else` combination, which allows us to create larger Boolean blocks, to have more precise control over the processing flow of our program.\n",
    "\n",
    "The pattern so far:\n",
    "\n",
    "```\n",
    "if something:\n",
    "    stuff to do if something is True\n",
    "else:\n",
    "    stuff to do if something is False\n",
    "```\n",
    "\n",
    "That `else` there belongs to the `if` block, and will only execute when that `if` condition is false. Keeping these two conditions together and dependent on each other will give us tighter control over our logical checks. This is effectively saying that there is only one question at hand, and there are 2 possible answers.  \n",
    "\n",
    "However, there are many cases where we have a single question but there are many possible answers. This is where `elif` comes in. It is short for \"else if\", and like the `else` statement, will only be attempted if the statement before it has a conditional check evaluate to `False`.  It may only appear after an `if` statement. Unlike an `else`, it can appear multiple times.\n",
    "\n",
    "\n",
    "# Core if/elif model\n",
    "\n",
    "* `elif`: short for 'else if', may come after an `if` block and should be on the same indent level as the parent `if` block.  * Must be followed by a conditional check. (It's short for \"else if,\" so you're testing something new with it.)\n",
    "* You can have multiple `elif` statements. **I always include an `else` statement if I'm using an `elif` and strongly prefer that you do the same,** but it is not required by the Python interpreter.  Example usage:\n",
    "\n",
    "* ```python\n",
    "    if x > 10:\n",
    "        print(\"The number is greater than 10\")\n",
    "    elif x >= 0:\n",
    "         print(\"The number is between 0 and 10 (inclusive)\")\n",
    "    # nothing happens for a number below zero\n",
    "```\n",
    "* `else`: this is an optional block that will catch anything that didn't pass on the previous conditional checks, you may only use this once and it can only appear at the end.  Example usage:\n",
    "    * ```python\n",
    "    if x > 10:\n",
    "        print(\"The number is greater than 10\")\n",
    "     elif x >= 0:\n",
    "         print(\"The number is between 0 and 10 (inclusive)\")\n",
    "     else:\n",
    "         print(\"The number is negative.\")\n",
    "         ```"
   ]
  },
  {
   "cell_type": "code",
   "execution_count": null,
   "metadata": {},
   "outputs": [],
   "source": [
    "x = int(input(\"Give me a number: \"))\n",
    "\n",
    "if x > 10:\n",
    "    print(\"The number is greater than 10\")\n",
    "elif x >= 0:\n",
    "     print(\"The number is between 0 and 10 (inclusive)\")\n",
    "else:\n",
    "     print(\"The number is below 0\")"
   ]
  },
  {
   "cell_type": "markdown",
   "metadata": {},
   "source": [
    "Our tl;dr summary:\n",
    "\n",
    "* `if`: required, only once, and always your first statement. Put a conditional check after.\n",
    "* `elif`: optional, may appear many times, and must be directly after an `if` statement. On the same block level as your `if` statement.\n",
    "* `else`: optional, may appear once, and only as your last statement in the `if` block. On the same block level as your `if` statement."
   ]
  },
  {
   "cell_type": "markdown",
   "metadata": {},
   "source": [
    "Practice:\n",
    "------------\n",
    "\n",
    "Have the user give you a number between 1 and 7.<br>\n",
    "Determine which day of the week the number corresponds to. (1 = Monday, 2 = Tuesday, ... 7 = Sunday.)<br>\n",
    "Output the day of the week for them. "
   ]
  },
  {
   "cell_type": "markdown",
   "metadata": {},
   "source": [
    "Compound Boolean statements\n",
    "==========================\n",
    "\n",
    "Sometimes several conditions must be met inside of the some conditional check area. We want to keep them together because we don't want to execute anything if just one of the pieces is true.  We can link multiple Boolean expressions with keywords such as `and` and `or`.\n",
    "\n",
    "If you use `and`, the statements on both sides must be true for the expression to evaluate to True.\n",
    "* `True and False` - false\n",
    "* `True and True` - true\n",
    "* `False and True` - false\n",
    "* `False and False` - false\n",
    "\n",
    "If you use `or`, the statement on either side can be true for the expression to evaluate to True.\n",
    "* `True and False` - true\n",
    "* `True and True` - true\n",
    "* `False and True` - true\n",
    "* `False and False` - false\n",
    "\n",
    "Some people have an easier time thinking through this with what we call a \"truth table\":\n",
    "\n",
    "![truth table](truth_table.jpg)\n",
    "\n",
    "A note about running real life code: `True or False` (or, more realistically, *a statement that evaluates to True* `or` *a statement that evaluates to False*) will execute more quickly than `False or True` (*a statement that evaluates to False* `or` *a statement that evaluates to True*), because of something called \"short circuit evaluation.\" If the first half of an `or` statement is true, **it does not matter what the second half of the statement is**, because the whole statement is true. By the same token, `False and [anything]` will evaluate to False without the second half of the statement being examined. \n",
    "\n",
    "For some practical applications of compound Boolean statements, let's look at a couple of ways we might choose to do exactly the same thing:"
   ]
  },
  {
   "cell_type": "code",
   "execution_count": null,
   "metadata": {},
   "outputs": [],
   "source": [
    "# this way is clunky but works\n",
    "\n",
    "score = 75\n",
    "grade = \"noneset\"\n",
    "\n",
    "if score > 100:\n",
    "    grade = \"invalid\"\n",
    "elif score >= 60:\n",
    "    grade = \"pass\"\n",
    "elif score >= 0:\n",
    "    grade = \"fail\"\n",
    "else:\n",
    "    grade = \"invalid\"\n",
    "\n",
    "print(\"Your grade is:\", grade)"
   ]
  },
  {
   "cell_type": "code",
   "execution_count": null,
   "metadata": {},
   "outputs": [],
   "source": [
    "# the way we'd normally go about this\n",
    "\n",
    "score = 75\n",
    "grade = \"noneset\"\n",
    "\n",
    "if score > 100 or score < 0:\n",
    "    grade = \"invalid\"\n",
    "elif score >= 60:\n",
    "    grade = \"pass\"\n",
    "elif score >= 0:\n",
    "    grade = \"fail\"\n",
    "else:\n",
    "    grade = \"invalid--ERROR\" # should never execute\n",
    "    \n",
    "print(\"Your grade is:\", grade)"
   ]
  },
  {
   "cell_type": "markdown",
   "metadata": {},
   "source": [
    "Practice\n",
    "--------\n",
    "\n",
    "Let's take a moment and practice. We'll talk through a short program. \n",
    "\n",
    "Have the user give us an age (probably a `float`).\n",
    "\n",
    "Tell the user whether the age represents an infant (up to the age of 1), a child (between the ages of 1 and 13), a teenager (between 13 and 20), or an adult (over the age of 20)."
   ]
  },
  {
   "cell_type": "code",
   "execution_count": null,
   "metadata": {},
   "outputs": [],
   "source": []
  },
  {
   "cell_type": "markdown",
   "metadata": {
    "collapsed": true
   },
   "source": [
    "## Just a few more things you need to know:\n",
    "\n",
    "Anything that isn't zero evaluates to `True`."
   ]
  },
  {
   "cell_type": "code",
   "execution_count": null,
   "metadata": {},
   "outputs": [],
   "source": [
    "# test a non-zero number\n",
    "if 5:\n",
    "    print(\"5 == True\")\n",
    "\n",
    "# test a character\n",
    "if \"a\":\n",
    "    print(\"\\\"5\\\" == True\")\n",
    "    \n",
    "# test the digit zero\n",
    "if 0:\n",
    "    print(\"0 == True\")\n",
    "else:\n",
    "    print(\"0 == False\")\n",
    "\n",
    "# test the character \"0\"\n",
    "if \"0\":\n",
    "    print(\"\\\"0\\\" == True\")\n",
    "else:\n",
    "    print(\"\\\"0\\\" == False\")"
   ]
  },
  {
   "cell_type": "markdown",
   "metadata": {},
   "source": [
    "### `not` is a very useful keyword\n",
    "\n",
    "Sometimes you want to test that a condition is **not** met. We've got a keyword for that!"
   ]
  },
  {
   "cell_type": "code",
   "execution_count": null,
   "metadata": {},
   "outputs": [],
   "source": [
    "x = \"tea\"\n",
    "\n",
    "if not x == \"coffee\":\n",
    "    print(\"Needs more power.\")\n",
    "else:\n",
    "    print(\"It's good.\")"
   ]
  },
  {
   "cell_type": "code",
   "execution_count": null,
   "metadata": {},
   "outputs": [],
   "source": [
    "y = input(\"Give me a number: \")\n",
    "\n",
    "if not y == \"42\":\n",
    "    print(\"Hmm.\")\n",
    "else:\n",
    "    print(\"The answer.\")"
   ]
  },
  {
   "cell_type": "markdown",
   "metadata": {},
   "source": [
    "in\n",
    "==\n",
    "\n",
    "The `in` keyword is something often used in conditionals, and it checks if some value is part of another value.  It works differently depending on the data type."
   ]
  },
  {
   "cell_type": "code",
   "execution_count": null,
   "metadata": {},
   "outputs": [],
   "source": [
    "print(\"lo\" in \"hello\")\n",
    "print(\"hi\" in \"hello\")"
   ]
  },
  {
   "cell_type": "code",
   "execution_count": null,
   "metadata": {},
   "outputs": [],
   "source": [
    "text = \"what if a much of a which of a wind\"\n",
    "\n",
    "if \"much\" in text:\n",
    "    print(\"the string contains \\\"much\\\"\")\n",
    "else:\n",
    "    print(\"the string does not contain \\\"much\\\"\")"
   ]
  },
  {
   "cell_type": "code",
   "execution_count": null,
   "metadata": {},
   "outputs": [],
   "source": [
    "# combining concepts\n",
    "\n",
    "if \"bird\" not in text and \"coffee\" not in text:\n",
    "    print(\"I'm not super into this\")\n",
    "else:\n",
    "    print(\"This is good.\")"
   ]
  },
  {
   "cell_type": "markdown",
   "metadata": {},
   "source": [
    "If we have time at this point, which I'm not super expecting is the case, perhaps we will talk about this `var = (value1 if some_test else value2)` garbage.\n",
    "\n",
    "I mean, it's fine! But let's start with standard `if` and `elif` and `else`, and when you're feeling very confident, if you want to start using that smooshed up style ... OK? For this class, I expect you to use the parentheses, at least; they make it a _lot_ more readable. \n"
   ]
  },
  {
   "cell_type": "code",
   "execution_count": null,
   "metadata": {},
   "outputs": [],
   "source": []
  }
 ],
 "metadata": {
  "kernelspec": {
   "display_name": "Python 3",
   "language": "python",
   "name": "python3"
  },
  "language_info": {
   "codemirror_mode": {
    "name": "ipython",
    "version": 3
   },
   "file_extension": ".py",
   "mimetype": "text/x-python",
   "name": "python",
   "nbconvert_exporter": "python",
   "pygments_lexer": "ipython3",
   "version": "3.7.9"
  }
 },
 "nbformat": 4,
 "nbformat_minor": 2
}
