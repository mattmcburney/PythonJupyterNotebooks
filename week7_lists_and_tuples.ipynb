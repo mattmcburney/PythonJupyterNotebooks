{
 "cells": [
  {
   "cell_type": "markdown",
   "metadata": {},
   "source": [
    "# Lists! (and tuples)\n",
    "\n",
    "This week, we're exploring our first real **data collection** data type. We've seen data types before (strings, ints, floats, Booleans), but they were all more content-based.  Lists are more of a *container* data type, where you put other objects inside them.\n",
    "\n",
    "Sometimes you'll want to make a list directly within your code, but many other times you are using a function, method, or other tool to create a list for you.  This means that you often start with content in another data type, do something to it, and then you end up with a list.\n",
    "\n",
    "We got a little bit of a preview of lists when we learned about repetition--`for` and `while` loops. We iterated over a couple of simple lists and used `range()` to generate lists of numbers (well, technically, they weren't lists until we forced them into the list type... but close enough). \n",
    "\n",
    "Now it's time for more detail!  \n",
    "\n",
    "\n",
    "# List quick facts we're going to explore in more detail\n",
    "\n",
    "* **lists are surrounded by `[]`**, so when you see that in the code or you see it surrounding an output that you're printing, you're looking at a list\n",
    "* lists can be empty, with a length of 0.  \n",
    "    * These appear as `[]`\n",
    "* **lists contain elements**, and when viewed in the list's content, those elements are visually separated by commas.  These are solely for our human eyes and not actually part of the content of the elements within the list (unless the commas are inside of that content, such as a string with a comma.\n",
    "    * example: `[1, 2, 3]` is a list of three integers, and `['hello', 'yes, I would like to science', 'I am a penguin']` is a list of three strings.  Note the commas that are outside of the strings are separating the three elements, but the comma inside of the string is just part of the string's content.  You'll get used to looking at this, but it'll take a little bit.\n",
    "* **lists can hold any kind of object, and types can be mixed within a single list**\n",
    "    * valid example list: `[\"sparrow\", 42, \"mourning dove\", 3.14]`\n",
    "* **lists have an order**\n",
    "    * `[1, 2, 3]` is a different list than `[3, 2, 1]`\n",
    "* **lists can be referenced element-by element and sliced** semi-spoiler: they use the same extraction syntax as strings\n",
    "* **lists can be looped over** in a regular `for` loop.  The loop will unpack the list by individual elements.  A list of three elements will make a loop execute three times, and the iterable variable will hold the element values one at a time.\n",
    "* **lists are mutable** - you can change the elements within a list while your program runs\n",
    "* **lists work differently than any other type we've met yet** - this is tied to the fact that they are mutable; you can call methods to change a list in place, and making copies of lists is messy (more on this later)\n",
    "\n",
    "## Getting items from lists\n",
    "\n",
    "Let's look at how we make a list, then at how we get to our list items."
   ]
  },
  {
   "cell_type": "code",
   "execution_count": null,
   "metadata": {},
   "outputs": [],
   "source": [
    "# declare a list\n",
    "even_numbers = list(range(0,21,2)) # remember this?\n",
    "\n",
    "# print the whole list\n",
    "print(even_numbers)"
   ]
  },
  {
   "cell_type": "code",
   "execution_count": null,
   "metadata": {},
   "outputs": [],
   "source": [
    "# print the second item in the list\n",
    "print(even_numbers[1]) # we index starting at zero"
   ]
  },
  {
   "cell_type": "code",
   "execution_count": null,
   "metadata": {},
   "outputs": [],
   "source": [
    "# pretty-printing the list\n",
    "# (users don't want all those brackets everywhere)\n",
    "# (note we are looping through a LIST, not a RANGE)\n",
    "for number in even_numbers:\n",
    "    print(number, end=\" \")\n",
    "    \n",
    "# we DO NOT EVER ugly-print lists for our users!"
   ]
  },
  {
   "cell_type": "markdown",
   "metadata": {},
   "source": [
    "Looping through a list of numbers feels like what we've been doing this whole time (except those couple of times we looped through strings), so maybe it does not impress you."
   ]
  },
  {
   "cell_type": "code",
   "execution_count": null,
   "metadata": {},
   "outputs": [],
   "source": [
    "# declare a list\n",
    "excellent_words = [\"cats\", \"dogs\", \"parakeets\", \"rabbits\", \"lizards\", \"penguins\"]\n",
    "\n",
    "# printing the third item in the list\n",
    "print(excellent_words[2])"
   ]
  },
  {
   "cell_type": "code",
   "execution_count": null,
   "metadata": {},
   "outputs": [],
   "source": [
    "# looping through to pretty-print the words in order\n",
    "for word in excellent_words:\n",
    "    print(word, end=\" \")"
   ]
  },
  {
   "cell_type": "markdown",
   "metadata": {},
   "source": [
    "And what if we only want to get at _some_ of the items in the list? \n",
    "\n",
    "We could do that with loops, sure. But there's a shorter way:\n",
    "\n",
    "## List slicing and len()\n",
    "\n",
    "List slices have similar rules to range(): the first item in the slice is the starting point; the second is **one off from** the ending point; the third is how many you count by:\n",
    "```python\n",
    "my_list[start_index : one_off_of_end_index : count_by]\n",
    "```"
   ]
  },
  {
   "cell_type": "code",
   "execution_count": null,
   "metadata": {},
   "outputs": [],
   "source": [
    "# this is written so that it'll be easy for you, a programmer, to read\n",
    "# you wouldn't ever give your program's user such weird-looking output\n",
    "\n",
    "# first print the whole list for reference:\n",
    "print(\"excellent words - \", excellent_words)"
   ]
  },
  {
   "cell_type": "code",
   "execution_count": null,
   "metadata": {},
   "outputs": [],
   "source": [
    "# the second through third items in a list\n",
    "print(\"excellent_words[1:3] - \", excellent_words[1:3])"
   ]
  },
  {
   "cell_type": "code",
   "execution_count": null,
   "metadata": {},
   "outputs": [],
   "source": [
    "# the first four items in a list\n",
    "# (this is why it's off-by-one, see?)\n",
    "print(\"excellent_words[:4] - \", excellent_words[:4])"
   ]
  },
  {
   "cell_type": "code",
   "execution_count": null,
   "metadata": {},
   "outputs": [],
   "source": [
    "# the last four items in a list\n",
    "print(\"excellent_words[-4:] - \", excellent_words[-4:])"
   ]
  },
  {
   "cell_type": "code",
   "execution_count": null,
   "metadata": {},
   "outputs": [],
   "source": [
    "# every other item in the list\n",
    "print(\"excellent_words[::2] - \", excellent_words[::2])\n",
    "\n",
    "# how would we get every other item, starting with dogs?"
   ]
  },
  {
   "cell_type": "code",
   "execution_count": null,
   "metadata": {},
   "outputs": [],
   "source": [
    "# OK, but how long is our list?\n",
    "print(\"the list is\", len(excellent_words), \"words long\")"
   ]
  },
  {
   "cell_type": "markdown",
   "metadata": {},
   "source": [
    "## A syntax note \n",
    "\n",
    "There are two main uses of square brackets, and you'll want to keep them straight.  Here's a quick way to understand what you're looking at:\n",
    "\n",
    "* when you see `[]` hanging around on their own in the code and the `[]` aren't directly following anything\n",
    "    * example: `words = ['hello', 'human', 'student']` is a list\n",
    "    * example: `my_var = []` is also a list, but it's empty\n",
    "* when you see `[]` sitting directly after something, either some content or a variable name, you've got an extraction syntax.  So this is indexing or slicing something out of that thing right before it and not a list.\n",
    "    * example:  `\"hello\"[1]` is a string that is being indexed; this evaluates to `'e'`\n",
    "    * example: `my_list[1:3]` is a list (we presume) being sliced "
   ]
  },
  {
   "cell_type": "markdown",
   "metadata": {},
   "source": [
    "### Practice!\n",
    "\n",
    "Make a list of at least five of _your_ favorite animals (or cars or sports teams or songs or whatever).\n",
    "\n",
    "1) Print the whole list nicely, without the brackets (maybe it needs commas, or to all print on new lines -- do what makes sense to best display the items)\n",
    "\n",
    "2) Ask the user for a number from 1 through however long your list is (no need for input validation, this time), and print the item that corresponds to that number -- remember that your user will give you a _human number_ (counting up from 1), and you need to translate it to a _Python number_ (counting up from 0)\n",
    "\n",
    "3) Print \"the first three items on this list are\" and print the first three items on the list using string slicing.\n",
    "\n",
    "4) Print \"the last three items on this list are\" and print the last three items using string slicing. \n",
    "\n",
    "Make sure you have this file saved with a meaningful name. We're going to add on to it later."
   ]
  },
  {
   "cell_type": "markdown",
   "metadata": {},
   "source": [
    "## Changing lists and list items\n",
    "\n",
    "Getting items from lists is cool and fun, and it'll get us pretty far, since we know how to generate our own lists, already. But sometimes we want to make changes. For instance, my list, `excellent_words`, has some _very_ excellent words. They're all animals that can make good pets ... except for penguins. Let's replace that with something more appropriate!"
   ]
  },
  {
   "cell_type": "code",
   "execution_count": null,
   "metadata": {},
   "outputs": [],
   "source": [
    "# print the list for reference\n",
    "print(excellent_words)\n",
    "\n",
    "# let's say we know \"penguins\" is the sixth item;\n",
    "# that makes changing it straightforward!\n",
    "excellent_words[5] = \"goldfish\"\n",
    "\n",
    "print(excellent_words)"
   ]
  },
  {
   "cell_type": "markdown",
   "metadata": {},
   "source": [
    "If it were a longer list, though, or we just didn't feel like counting, we could have gone about this a couple of other ways:\n",
    "### index() - search for an item in a list and return its index "
   ]
  },
  {
   "cell_type": "code",
   "execution_count": null,
   "metadata": {},
   "outputs": [],
   "source": [
    "# first let's put it back to its original contents\n",
    "excellent_words = [\"cats\", \"dogs\", \"parakeets\", \"rabbits\", \"lizards\", \"penguins\"]\n",
    "\n",
    "# get the index of the word \"penguins\"\n",
    "penguin_index = excellent_words.index(\"penguins\")\n",
    "# now change it\n",
    "excellent_words[penguin_index] = \"goldfish\"\n",
    "\n",
    "print(excellent_words)"
   ]
  },
  {
   "cell_type": "code",
   "execution_count": null,
   "metadata": {},
   "outputs": [],
   "source": [
    "# and now what happens if we go looking for penguins?\n",
    "excellent_words.index(\"penguins\")"
   ]
  },
  {
   "cell_type": "markdown",
   "metadata": {},
   "source": [
    "### remove() and append() - take things out of lists and add things into lists"
   ]
  },
  {
   "cell_type": "code",
   "execution_count": null,
   "metadata": {},
   "outputs": [],
   "source": [
    "# first let's put it back to its original contents\n",
    "excellent_words = [\"cats\", \"dogs\", \"parakeets\", \"rabbits\", \"lizards\", \"penguins\"]\n",
    "\n",
    "# take out \"penguins\" if it exists\n",
    "excellent_words.remove(\"penguins\")\n",
    "# add \"goldfish\"\n",
    "excellent_words.append(\"goldfish\")\n",
    "\n",
    "print(excellent_words)\n"
   ]
  },
  {
   "cell_type": "code",
   "execution_count": null,
   "metadata": {},
   "outputs": [],
   "source": [
    "# and now what happens if we go looking for penguins?\n",
    "excellent_words.remove(\"penguins\")"
   ]
  },
  {
   "cell_type": "markdown",
   "metadata": {},
   "source": [
    "We'll get a tool to bounce back from something like a ValueError in Python 2--true fact: not every error has to end your program, forever!--but for now, it's best to use `index()` and `remove()` with some care, if you're going to use them.\n",
    "\n",
    "Luckily, there's a way to do this more carefully, already!\n",
    "\n",
    "### in\n",
    "\n",
    "You may recall (or you may not, it's fine) that you can look for a substring inside a string using the keyword `in`:\n",
    "```python\n",
    "    user_input = input(\"Yes or no? \")\n",
    "    # test for \"No\" and \"NO\" and \"no\" and \"n\" and \"N\"\n",
    "    if \"n\" in user_input or \"N\" in user_input:\n",
    "        print(\"User said no.\")\n",
    "```\n",
    "\n",
    "Great news: it also tests for items in lists! "
   ]
  },
  {
   "cell_type": "code",
   "execution_count": null,
   "metadata": {},
   "outputs": [],
   "source": [
    "# in returns a Boolean; here's proof:\n",
    "are_there_goldfish = \"goldfish\" in excellent_words\n",
    "print(are_there_goldfish)"
   ]
  },
  {
   "cell_type": "code",
   "execution_count": null,
   "metadata": {},
   "outputs": [],
   "source": [
    "#excellent_words = [\"cats\", \"dogs\", \"parakeets\", \"rabbits\", \"lizards\", \"penguins\"]\n",
    "\n",
    "# remove the word \"penguins\" from the list ONLY if it's in there\n",
    "if \"penguins\" in excellent_words:\n",
    "    excellent_words.remove(\"penguins\")\n",
    "    print(\"I have removed the penguins.\")\n",
    "else:\n",
    "    print(\"There aren't any penguins.\")"
   ]
  },
  {
   "cell_type": "markdown",
   "metadata": {},
   "source": [
    "Another time you might (depending what your code is doing) need to be careful is when you want to insert something, but only if it's not currently in the list. `in` can be used in this case, too:"
   ]
  },
  {
   "cell_type": "code",
   "execution_count": null,
   "metadata": {},
   "outputs": [],
   "source": [
    "# add \"turtles\" to the list, if it isn't in there\n",
    "if \"turtles\" not in excellent_words:\n",
    "    excellent_words.append(\"turtles\")\n",
    "else:\n",
    "    print(\"Turtles are already in the list.\")\n",
    "    \n",
    "print(excellent_words)"
   ]
  },
  {
   "cell_type": "markdown",
   "metadata": {},
   "source": [
    "### Rearranging list items\n",
    "\n",
    "My list seems biased toward more common pets. Maybe I should put cats and dogs at the end?\n",
    "\n",
    "### reverse()\n",
    "\n",
    "Changes the list _in place,_ so that its order is exactly reversed."
   ]
  },
  {
   "cell_type": "code",
   "execution_count": null,
   "metadata": {},
   "outputs": [],
   "source": [
    "# remind ourselves what the list looks like\n",
    "print(excellent_words)\n",
    "\n",
    "# reverse it\n",
    "excellent_words.reverse()\n",
    "print(excellent_words)"
   ]
  },
  {
   "cell_type": "markdown",
   "metadata": {},
   "source": [
    "### sort()\n",
    "\n",
    "Changes the list _in place,_ so that it is sorted."
   ]
  },
  {
   "cell_type": "code",
   "execution_count": null,
   "metadata": {},
   "outputs": [],
   "source": [
    "excellent_words.sort()\n",
    "print(excellent_words)"
   ]
  },
  {
   "cell_type": "markdown",
   "metadata": {},
   "source": [
    "**Careful:** `sort()` can break if you have mixed types in your list."
   ]
  },
  {
   "cell_type": "code",
   "execution_count": null,
   "metadata": {},
   "outputs": [],
   "source": [
    "list_a = [\"capybara\", \"Flamingo\", 42]\n",
    "list_a.sort()\n",
    "print(list_a)"
   ]
  },
  {
   "cell_type": "markdown",
   "metadata": {},
   "source": [
    "**Never** forget that \"a\" (ASCII 97) and \"A\" (ASCII 65) are not equivalent. You can make yourself sad when you go to sort strings (or really do any kind of comparison)."
   ]
  },
  {
   "cell_type": "code",
   "execution_count": null,
   "metadata": {},
   "outputs": [],
   "source": [
    "list_b = [\"Avocado\", \"banana\", \"Clementine\", \"Date\", \"Elderberry\", \"fig\"]\n",
    "list_b.sort()\n",
    "print(list_b)\n",
    "\n",
    "# remember how to fix this, though? (it was a side note, no stress if you don't :))"
   ]
  },
  {
   "cell_type": "markdown",
   "metadata": {},
   "source": [
    "## Lists in memory - copying, changing in place\n",
    "\n",
    "Have you noticed that, where our other data types all required assignment statements to make changes, lists haven't?"
   ]
  },
  {
   "cell_type": "code",
   "execution_count": null,
   "metadata": {},
   "outputs": [],
   "source": [
    "# making a string uppercase\n",
    "string = \"Hello, I would like to science.\"\n",
    "\n",
    "print(string.upper()) # makes it uppercase\n",
    "\n",
    "print(string)\n",
    "\n",
    "# no assignment, no changes to our variable"
   ]
  },
  {
   "cell_type": "code",
   "execution_count": null,
   "metadata": {},
   "outputs": [],
   "source": [
    "excellent_words = ['cats', 'dogs', 'parakeets', 'rabbits', 'lizards', 'goldfish', 'turtles']\n",
    "\n",
    "# reversing the list - no assignment operator!\n",
    "excellent_words.reverse()\n",
    "\n",
    "# now we print it\n",
    "print(excellent_words)"
   ]
  },
  {
   "cell_type": "code",
   "execution_count": null,
   "metadata": {},
   "outputs": [],
   "source": [
    "# most people do this at some point\n",
    "a_good_list = [\"coffee\", \"tea\", \"diet dr. pepper\", \"tisane\"]\n",
    "is_this_a_list = a_good_list.append(\"water\")\n",
    "\n",
    "print(is_this_a_list)"
   ]
  },
  {
   "cell_type": "code",
   "execution_count": null,
   "metadata": {},
   "outputs": [],
   "source": [
    "# so what do we think this will do?\n",
    "excellent_words = ['cats', 'dogs', 'parakeets', 'rabbits', 'lizards', 'goldfish', 'turtles']\n",
    "\n",
    "print(excellent_words.reverse())"
   ]
  },
  {
   "cell_type": "markdown",
   "metadata": {},
   "source": [
    "This is important to know, but the exact details of why are less important. Lists are one of a very small number of types of items where changes happen _in place,_ because of how they're stored in memory. This has one other really big impact on our lives:"
   ]
  },
  {
   "cell_type": "code",
   "execution_count": null,
   "metadata": {},
   "outputs": [],
   "source": [
    "# first, a \"normal\" type - strings\n",
    "a_string = \"I love coffee\"\n",
    "\n",
    "b_string = a_string\n",
    "b_string = b_string.upper() # makes it all caps\n",
    "\n",
    "# what do we think prints here?\n",
    "print(a_string)\n",
    "print(b_string)"
   ]
  },
  {
   "cell_type": "code",
   "execution_count": null,
   "metadata": {},
   "outputs": [],
   "source": [
    "# now let's do this with lists\n",
    "a_list = [\"I\", \"love\", \"coffee\"]\n",
    "b_list = a_list\n",
    "b_list.append(\"so much\")\n",
    "\n",
    "# what do we think prints here?\n",
    "print(a_list)\n",
    "print(b_list)"
   ]
  },
  {
   "cell_type": "markdown",
   "metadata": {},
   "source": [
    "This really messes people up, when they forget. You'll forget. (I mean, try not to forget _yet,_ but after you gone a couple of months without using Python, it'll be pretty understandable when you're tripped up by this. The trick is to notice it's happening and fix your code.) \n",
    "\n",
    "### Copying lists"
   ]
  },
  {
   "cell_type": "code",
   "execution_count": null,
   "metadata": {},
   "outputs": [],
   "source": [
    "# my cheater way to copy lists\n",
    "c_list = a_list[:]\n",
    "c_list.append(\"so so much\")\n",
    "\n",
    "print(a_list)\n",
    "print(c_list)"
   ]
  },
  {
   "cell_type": "markdown",
   "metadata": {},
   "source": [
    "## Lists in functions\n",
    "\n",
    "OK, lists really just ... work. They're variables. You can pass them in as arguments, do things with them, and return them, same as any other data type."
   ]
  },
  {
   "cell_type": "code",
   "execution_count": null,
   "metadata": {},
   "outputs": [],
   "source": [
    "def make_list_uppercase(user_list):\n",
    "    # remember len()? such a useful thing!\n",
    "    for index in range(0, len(user_list)):\n",
    "        user_list[index] = user_list[index].upper()\n",
    "    return user_list\n",
    "\n",
    "def main():\n",
    "    my_list = [\"hello\", \"i\", \"would\", \"like\", \"to\", \"science\"]\n",
    "    your_list = make_list_uppercase(my_list)\n",
    "    # we would NEVER do this for anything other than testing\n",
    "    # (always pretty-print your lists!)\n",
    "    print(your_list)\n",
    "    \n",
    "main()"
   ]
  },
  {
   "cell_type": "markdown",
   "metadata": {},
   "source": [
    "EXCEPT"
   ]
  },
  {
   "cell_type": "code",
   "execution_count": null,
   "metadata": {},
   "outputs": [],
   "source": [
    "# ... with one major caveat\n",
    "\n",
    "def make_list_uppercase(user_list):\n",
    "    # remember len()? such a useful thing!\n",
    "    for index in range(0, len(user_list)):\n",
    "        user_list[index] = user_list[index].upper()\n",
    "    return user_list\n",
    "\n",
    "def main():\n",
    "    my_list = [\"hello\", \"i\", \"would\", \"like\", \"to\", \"science\"]\n",
    "    your_list = make_list_uppercase(my_list)\n",
    "    # we would NEVER do this for anything other than testing\n",
    "    # (always pretty-print your lists!)\n",
    "    print(your_list)\n",
    "    print(my_list)\n",
    "    \n",
    "main()"
   ]
  },
  {
   "cell_type": "markdown",
   "metadata": {},
   "source": [
    "# Tuples\n",
    "\n",
    "You can do almost everything with tuples that you can do with lists, except change them in place. They are **immutable**, meaning once you have a tuple, you can't change it. \n",
    "\n",
    "If you know your data won't ever change, putting it in a tuple is a way to make your program run a little faster. (Lists are harder on memory.) \n",
    "\n",
    "If you want to _make sure_ your data won't ever change, you can keep it safe by putting it in a tuple.\n",
    "\n",
    "I'll be honest: I generally use lists, even where a tuple would work just fine. I like the flexibility. And maybe I like having brackets better than I like parentheses. "
   ]
  },
  {
   "cell_type": "code",
   "execution_count": null,
   "metadata": {},
   "outputs": [],
   "source": [
    "# declaring a tuple\n",
    "bird_tuple = (\"parakeets\", \"cockatiels\", \"conures\", \"caiques\", \"lovebirds\")\n",
    "\n",
    "# first item\n",
    "print(bird_tuple[0])\n",
    "\n",
    "# first three items\n",
    "print(bird_tuple[:3])\n",
    "\n",
    "# last three items\n",
    "print(bird_tuple[-3:])"
   ]
  },
  {
   "cell_type": "markdown",
   "metadata": {},
   "source": [
    "But there are things you can't do, due to the immutability of a tuple."
   ]
  },
  {
   "cell_type": "code",
   "execution_count": null,
   "metadata": {},
   "outputs": [],
   "source": [
    "bird_tuple.append(\"pigeons\")\n",
    "# bird_tuple.sort()\n",
    "# bird_tuple.reverse()"
   ]
  },
  {
   "cell_type": "markdown",
   "metadata": {},
   "source": [
    "## Converting\n",
    "\n",
    "Luckily, if I end up with the wrong kind of thing, I can make a tuple out of my list or a list out of my tuple. "
   ]
  },
  {
   "cell_type": "code",
   "execution_count": null,
   "metadata": {},
   "outputs": [],
   "source": [
    "# what I started with\n",
    "print(bird_tuple)\n",
    "print(excellent_words)\n",
    "\n",
    "# conversion\n",
    "bird_list = list(bird_tuple)\n",
    "excellent_word_tuple = tuple(excellent_words)\n",
    "print(\"\") # just making some space\n",
    "\n",
    "# proving it works\n",
    "print(bird_list)\n",
    "print(excellent_word_tuple)"
   ]
  },
  {
   "cell_type": "markdown",
   "metadata": {},
   "source": [
    "## A cool trick\n",
    "\n",
    "The book showed you how to add list items together by looping through. That's useful, especially if your list contains strings (in which case, it's concatenating, not adding).\n",
    "\n",
    "But if you just have numbers? I've got great news for you:"
   ]
  },
  {
   "cell_type": "code",
   "execution_count": null,
   "metadata": {},
   "outputs": [],
   "source": [
    "# remember this guy?\n",
    "print(even_numbers)\n",
    "\n",
    "# you can just sum it up in one command\n",
    "print(sum(even_numbers))\n",
    "\n",
    "# now you know why Spyder made it a weird color if you tried to use \"sum\" as a variable in homework 3"
   ]
  },
  {
   "cell_type": "markdown",
   "metadata": {},
   "source": [
    "## Speaking of concatenating\n",
    "\n",
    "You can just ... add lists together. \n"
   ]
  },
  {
   "cell_type": "code",
   "execution_count": null,
   "metadata": {},
   "outputs": [],
   "source": [
    "pet_list = bird_list + excellent_words\n",
    "print(pet_list)"
   ]
  },
  {
   "cell_type": "code",
   "execution_count": null,
   "metadata": {},
   "outputs": [],
   "source": [
    "# not like this though\n",
    "pet_list = pet_list + 'capybaras'\n",
    "\n",
    "# you have to use append()\n",
    "# OR you can do this:\n",
    "capy_list = [\"capybaras\"]\n",
    "\n",
    "pet_list = pet_list + capy_list\n",
    "print(pet_list)"
   ]
  },
  {
   "cell_type": "markdown",
   "metadata": {},
   "source": [
    "### More practice!\n",
    "\n",
    "The program you wrote before, with your list of items you like? We're going to add on to it.\n",
    "\n",
    "1) Add a new item to the end of the list. \n",
    "\n",
    "2) Sort the list alphabetically. \n",
    "\n",
    "3) Finally:\n",
    "\n",
    "    a) Print the list \n",
    "    \n",
    "    b) Ask the user for their least favorite item (no input validation needed) \n",
    "    \n",
    "    c) If that item is actually in the list, remove it \n",
    "    \n",
    "    d) Print the updated list"
   ]
  }
 ],
 "metadata": {
  "kernelspec": {
   "display_name": "Python 3",
   "language": "python",
   "name": "python3"
  },
  "language_info": {
   "codemirror_mode": {
    "name": "ipython",
    "version": 3
   },
   "file_extension": ".py",
   "mimetype": "text/x-python",
   "name": "python",
   "nbconvert_exporter": "python",
   "pygments_lexer": "ipython3",
   "version": "3.7.9"
  }
 },
 "nbformat": 4,
 "nbformat_minor": 2
}
