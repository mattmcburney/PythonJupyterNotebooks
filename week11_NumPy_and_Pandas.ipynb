{
 "cells": [
  {
   "cell_type": "markdown",
   "metadata": {},
   "source": [
    "# NumPy\n",
    "\n",
    "Before we get into NumPy and Pandas, I want to show (remind?) you that we can do basic descriptive statistics without ever importing a data science library in Python."
   ]
  },
  {
   "cell_type": "code",
   "execution_count": null,
   "metadata": {},
   "outputs": [],
   "source": [
    "some_numbers = [26, 83, 35, 39, 31, 11, 30, 44, 42, 65, 30, 2, 29, 38, 43, 68]\n",
    "\n",
    "# minimum, maximum, range\n",
    "print(\"Min:\", min(some_numbers))\n",
    "print(\"Max:\", max(some_numbers))\n",
    "print(\"Range:\", min(some_numbers), \"to\", max(some_numbers))\n",
    "\n",
    "# sum, count, average\n",
    "print(\"Sum:\", sum(some_numbers))\n",
    "print(\"Count:\", len(some_numbers))\n",
    "print(\"Average (Mean):\", sum(some_numbers)/len(some_numbers))"
   ]
  },
  {
   "cell_type": "markdown",
   "metadata": {},
   "source": [
    "I guess if you want to call `statistics` a data science library, you do have to import _one_ data science library to get some of the descriptive statistics you might want to have."
   ]
  },
  {
   "cell_type": "code",
   "execution_count": null,
   "metadata": {},
   "outputs": [],
   "source": [
    "import statistics\n",
    "\n",
    "some_numbers = [26, 83, 35, 39, 31, 11, 30, 44, 42, 65, 30, 2, 29, 38, 43, 68]\n",
    "\n",
    "# mean (another version), median, mode\n",
    "print(\"Average (mean):\", statistics.mean(some_numbers))\n",
    "print(\"Median:\", statistics.median(some_numbers))\n",
    "# this will throw an error if you have a multi-modal distribution\n",
    "print(\"Mode:\", statistics.mode(some_numbers))\n",
    "\n",
    "# measures of dispersion: variance, standard deviation\n",
    "print(\"Variance:\", statistics.variance(some_numbers))\n",
    "print(\"Standard deviation:\", statistics.stdev(some_numbers))"
   ]
  },
  {
   "cell_type": "markdown",
   "metadata": {},
   "source": [
    "So... we can run all of those exciting functions on lists. Why would we need anything else?\n",
    "\n",
    "Well.\n",
    "\n",
    "For one thing, lists are slow. For another..."
   ]
  },
  {
   "cell_type": "code",
   "execution_count": null,
   "metadata": {},
   "outputs": [],
   "source": [
    "# 4 elements by 4 elements\n",
    "some_more_numbers = [[26, 83, 35, 39], [31, 11, 30, 44], [42, 65, 30, 2], [29, 38, 43, 68]]\n",
    "\n",
    "print(some_more_numbers)\n",
    "\n",
    "# just a reminder that this is legal\n",
    "print(\"First number:\", some_more_numbers[0][0])\n",
    "print(\"Last number:\", some_more_numbers[3][3])\n",
    "\n",
    "print(\"Mode:\", statistics.mode(some_more_numbers))"
   ]
  },
  {
   "cell_type": "markdown",
   "metadata": {},
   "source": [
    "## NumPy\n",
    "\"Numerical Python\" is a way for us to store and do *very fast* math with multi-dimensional arrays of numbers in Python. \n",
    "\n",
    "It underlies SciPy (\"Scientific Python\"), Pandas (which we'll talk about later tonight), Keras (a machine learning library), and TensorFlow (which our Fundamentals of Machine Learning class uses), and we get it for free with Anaconda Distribution.\n",
    "\n",
    "It expects that every element is the same type -- an `int` or a `float`. "
   ]
  },
  {
   "cell_type": "code",
   "execution_count": null,
   "metadata": {},
   "outputs": [],
   "source": [
    "# the traditional way we import numpy\n",
    "import numpy as np"
   ]
  },
  {
   "cell_type": "markdown",
   "metadata": {},
   "source": [
    "Now, we can create our own NumPy array, of course, but also, if we are trying to work on lists and find that we've hit a wall, as above, we can also cast lists into NumPy arrays:"
   ]
  },
  {
   "cell_type": "code",
   "execution_count": null,
   "metadata": {},
   "outputs": [],
   "source": [
    "np_nums = np.array(some_more_numbers)\n",
    "\n",
    "# look how nicely it prints!\n",
    "print(np_nums)\n",
    "\n",
    "# note for coral: point out right-alignment, especially of the 2"
   ]
  },
  {
   "cell_type": "code",
   "execution_count": null,
   "metadata": {
    "scrolled": false
   },
   "outputs": [],
   "source": [
    "# a NumPy array is literally a different type of thing than a multi-dimensional list:\n",
    "print(\"Our 2-D list:\", type(some_more_numbers))\n",
    "print(\"Our np array:\", type(np_nums))"
   ]
  },
  {
   "cell_type": "markdown",
   "metadata": {},
   "source": [
    "### Creating a NumPy array\n",
    "\n",
    "#### Arrays from Python native types\n",
    "Restating: you can make a NumPy array from a list (or list of lists). Or a tuple (or tuple of tuples)! We're just type-casting here."
   ]
  },
  {
   "cell_type": "code",
   "execution_count": null,
   "metadata": {},
   "outputs": [],
   "source": [
    "# from a list of lists\n",
    "# restating what we did above; \n",
    "# just using a hard-coded list of lists:\n",
    "np_nums = np.array([[26, 83, 35, 39], [31, 11, 30, 44], [42, 65, 30, 2], [29, 38, 43, 68]])\n",
    "\n",
    "# same as np_nums = np.array(some_more_numbers) above\n",
    "\n",
    "# from a tuple of tuples\n",
    "np_tup_nums = np.array(((1, 2, 3), (4, 5, 6), (7, 8, 9)))\n",
    "# tup1 = (1, 2, 3)\n",
    "# tup2 = (4, 5, 6)\n",
    "# tup3 = (7, 8, 9)\n",
    "# tups = (tup1, tup2, tup3)\n",
    "# np_tup_nums = np.array(tups)\n",
    "\n",
    "print(np_nums)\n",
    "print(\"\") #space\n",
    "print(np_tup_nums)"
   ]
  },
  {
   "cell_type": "markdown",
   "metadata": {},
   "source": [
    "#### Creating arrays full of constant values\n",
    "\n",
    "* `.zeros((rows, columns), dtype=int/float)` - make a whole array of zeros\n",
    "* `.full((rows, columns), value)` - make an array with an arbitrary value"
   ]
  },
  {
   "cell_type": "code",
   "execution_count": null,
   "metadata": {},
   "outputs": [],
   "source": [
    "# make an array of zeros:\n",
    "np_zeros = np.zeros((5,5), dtype=int) # could also do float\n",
    "\n",
    "# make an array of arbitrary whatevers\n",
    "# in this case, we filled it with 13s\n",
    "np_unlucky = np.full((13, 13), 13)\n",
    "\n",
    "print(np_zeros)\n",
    "print(\"\") #space\n",
    "print(np_unlucky)"
   ]
  },
  {
   "cell_type": "markdown",
   "metadata": {},
   "source": [
    "#### Arrays with ranges of values\n",
    "\n",
    "* `.arange(start, end, count_by)` - specify where you start, where you end, and **how much space between** elements\n",
    "* `.linspace(start, end, num=how_many)` - specify where you start, where you end, and **how many** elements"
   ]
  },
  {
   "cell_type": "code",
   "execution_count": null,
   "metadata": {},
   "outputs": [],
   "source": [
    "# from 0 to 100, counting by 5s\n",
    "# defaults to ints, but can be made into floats\n",
    "# has \"range\" in the name; what do we guess about the ending point?\n",
    "np_range = np.arange(0, 100, 5)\n",
    "\n",
    "# 15 points between 0 and 100\n",
    "# floats!\n",
    "np_lspace = np.linspace(0, 100, 15)\n",
    "\n",
    "print(np_range)\n",
    "print(\"\") #space\n",
    "print(np_lspace)"
   ]
  },
  {
   "cell_type": "markdown",
   "metadata": {},
   "source": [
    "### Reshaping arrays\n",
    "\n",
    "OK, those `arange()` and `linspace()` arrays are neat, but they're only one-dimensional? Sometimes, that's what you want, but often it isn't. I'll go so far as to say \"usually,\" it isn't. It's fine, though, because we can reshape our data as needed. \n",
    "\n",
    "Let's fix it! \n",
    "\n",
    "Unsurprisingly, the command is `.reshape(rows, columns)`"
   ]
  },
  {
   "cell_type": "code",
   "execution_count": null,
   "metadata": {},
   "outputs": [],
   "source": [
    "# worth noting: arrays ARE NOT changed in place\n",
    "np_range = np_range.reshape(4, 5)\n",
    "\n",
    "np_lspace = np_lspace.reshape(5, 3)\n",
    "\n",
    "#np_lspace_nope = np_lspace.reshape(5, 4)\n",
    "\n",
    "print(np_range)\n",
    "print(\"\") # space\n",
    "print(np_lspace)"
   ]
  },
  {
   "cell_type": "markdown",
   "metadata": {},
   "source": [
    "#### Flattening\n",
    "\n",
    "OK, and let's say you have a multi-dimensional array that you want to make into a one-dimensional array. Cool."
   ]
  },
  {
   "cell_type": "code",
   "execution_count": null,
   "metadata": {},
   "outputs": [],
   "source": [
    "np_flat_range = np_range.flatten()\n",
    "\n",
    "# subtly different:\n",
    "#np_flat_range = np_range.reshape(1, 20)\n",
    "\n",
    "print(np_flat_range)"
   ]
  },
  {
   "cell_type": "markdown",
   "metadata": {},
   "source": [
    "### Getting things out of our arrays\n",
    "\n",
    "We can slice NumPy arrays a lot like we'd slice lists, with one slight change in syntax. Instead of `list_name[x][y]`, we need to do `array_name[x, y]`. Otherwise, slicing is very similar. The main trick is keeping straight which is the row and which is the column."
   ]
  },
  {
   "cell_type": "code",
   "execution_count": null,
   "metadata": {},
   "outputs": [],
   "source": [
    "# getting a single value out is slightly different:\n",
    "# restating our array\n",
    "np_nums = np.array([[26, 83, 35, 39], [31, 11, 30, 44], [42, 65, 30, 2], [29, 38, 43, 68]])\n",
    "\n",
    "# comma notation instead of double-bracket notation\n",
    "print(\"First value:\", np_nums[0,0])\n",
    "print(\"Last value:\", np_nums[3,3])"
   ]
  },
  {
   "cell_type": "code",
   "execution_count": null,
   "metadata": {},
   "outputs": [],
   "source": [
    "# getting out a row\n",
    "print(\"First row:\", np_nums[0])\n",
    "# same\n",
    "print(\"First row:\", np_nums[0, :])"
   ]
  },
  {
   "cell_type": "code",
   "execution_count": null,
   "metadata": {},
   "outputs": [],
   "source": [
    "# getting out a column\n",
    "print(\"First column:\", np_nums[:, 0])"
   ]
  },
  {
   "cell_type": "code",
   "execution_count": null,
   "metadata": {},
   "outputs": [],
   "source": [
    "# getting the middle four values\n",
    "print(\"Second and third row, second and third column:\\n\", np_nums[1:3, 1:3])"
   ]
  },
  {
   "cell_type": "code",
   "execution_count": null,
   "metadata": {},
   "outputs": [],
   "source": [
    "# getting out non-adjacent rows\n",
    "print(\"First and last row:\\n\", np_nums[[0, 3]])\n",
    "# same\n",
    "print(\"First and last row:\\n\", np_nums[[0, 3], :])\n",
    "\n",
    "#getting out non-adjacent columns\n",
    "print(\"\\nFirst and last column:\\n\", np_nums[:, [0, 3]])"
   ]
  },
  {
   "cell_type": "markdown",
   "metadata": {},
   "source": [
    "A cool thing about NumPy arrays is that they know about themselves, so you can interrogate them:\n",
    "* How many dimensions do you have? `.ndim`\n",
    "* What shape are you? `.shape`\n",
    "* How many elements do you have? `.size`\n",
    "* How many bytes are there in an individual element? `.itemsize`\n",
    "* What data type are your elements (in C)? `.dtype`"
   ]
  },
  {
   "cell_type": "code",
   "execution_count": null,
   "metadata": {},
   "outputs": [],
   "source": [
    "print(\"Dimensions:\", np_nums.ndim)\n",
    "print(\"Shape, (rows, columns):\", np_nums.shape)\n",
    "print(\"Size:\", np_nums.size)\n",
    "print(\"Size of an item in bytes:\", np_nums.itemsize)\n",
    "print(\"Data type of items:\", np_nums.dtype)"
   ]
  },
  {
   "cell_type": "markdown",
   "metadata": {},
   "source": [
    "### Descriptive statistics\n",
    "\n",
    "You knew were were coming back to this eventually."
   ]
  },
  {
   "cell_type": "code",
   "execution_count": null,
   "metadata": {},
   "outputs": [],
   "source": [
    "print(\"Min:\", np_nums.min())\n",
    "print(\"Max:\", np_nums.max())\n",
    "print(\"Range:\", np_nums.min(), \"to\", np_nums.max())\n",
    "print(\"Sum:\", np_nums.sum())\n",
    "print(\"Count:\", np_nums.size)\n",
    "print(\"Average:\", np_nums.mean())\n",
    "# there isn't one for mode \n",
    "print(\"Variance:\", np_nums.var())\n",
    "print(\"Standard deviation:\", np_nums.std())"
   ]
  },
  {
   "cell_type": "markdown",
   "metadata": {},
   "source": [
    "#### Looping through a NumPy Array\n",
    "I wanted to show you how to loop through an array anyway, so let's find the mode ourselves! (I'm not claiming this is the best possible way, or especially fast, but it will do the job, as long as there actually is a mode to be found.)"
   ]
  },
  {
   "cell_type": "code",
   "execution_count": null,
   "metadata": {},
   "outputs": [],
   "source": [
    "# make an empty dictionary to hold unique values from our array\n",
    "vals_dict = {}\n",
    "\n",
    "# loop through the array row by row, then each column within a row\n",
    "for row in np_nums:\n",
    "    for col in row:\n",
    "        # just counting occurrences of particular values in the array\n",
    "        if col in vals_dict:\n",
    "            vals_dict[col] += 1\n",
    "        else:\n",
    "            vals_dict[col] = 1\n",
    "\n",
    "# now we're pulling the value that appeared the most often\n",
    "max_count = 0\n",
    "max_val = 0\n",
    "for val in vals_dict:\n",
    "    if vals_dict[val] > max_count:\n",
    "        max_count = vals_dict[val]\n",
    "        max_val = val\n",
    "\n",
    "mode = max_val\n",
    "print(\"Mode:\", mode)"
   ]
  },
  {
   "cell_type": "markdown",
   "metadata": {},
   "source": [
    "### Doing math with NumPy arrays\n",
    "\n",
    "#### Scalars\n",
    "There are a couple of different ways to do math (or \"math,\" if you count Boolean comparisons as math) with arrays. You can apply a single value (a scalar) to the entire array, piecewise, which is known as \"broadcasting\":"
   ]
  },
  {
   "cell_type": "code",
   "execution_count": null,
   "metadata": {},
   "outputs": [],
   "source": [
    "# multiply every number in the array by the same amount\n",
    "np_nums2 = np_nums * 2\n",
    "\n",
    "print(np_nums)\n",
    "print(\"\\nAnd then multiply it by 2:\\n\")\n",
    "print(np_nums2)"
   ]
  },
  {
   "cell_type": "code",
   "execution_count": null,
   "metadata": {},
   "outputs": [],
   "source": [
    "# add the same amount to every number in the array\n",
    "np_nums2 = np_nums + 2\n",
    "\n",
    "print(np_nums)\n",
    "print(\"\\nAnd then add 2:\\n\")\n",
    "print(np_nums2)"
   ]
  },
  {
   "cell_type": "code",
   "execution_count": null,
   "metadata": {
    "scrolled": true
   },
   "outputs": [],
   "source": [
    "print(np_nums)\n",
    "\n",
    "# compare every number in the array with a set value\n",
    "# recall, we calculated a mode:\n",
    "print(\"\\nOur mode:\", mode, \"\\n\\nIs each element greater than the mode?\\n\")\n",
    "\n",
    "# so let's see how much of our array is larger than the mode\n",
    "np_nums_gt_mode = np_nums > mode\n",
    "print(np_nums_gt_mode)"
   ]
  },
  {
   "cell_type": "markdown",
   "metadata": {},
   "source": [
    "Here is a good NumPy array fact: you can subset an array by feeding it a same-size array holding Trues and Falses."
   ]
  },
  {
   "cell_type": "code",
   "execution_count": null,
   "metadata": {},
   "outputs": [],
   "source": [
    "# only the Trues will be part of the new array\n",
    "np_nums3 = np_nums[np_nums_gt_mode]\n",
    "print(np_nums3)"
   ]
  },
  {
   "cell_type": "markdown",
   "metadata": {},
   "source": [
    "#### Math with multiple arrays"
   ]
  },
  {
   "cell_type": "code",
   "execution_count": null,
   "metadata": {},
   "outputs": [],
   "source": [
    "# set up two arrays, same dimensions\n",
    "np_num1 = np.array(((1, 2, 3), (4, 5, 6), (7, 8, 9)))\n",
    "np_num2 = np.full((3,3), 2)\n",
    "\n",
    "print(np_num1)\n",
    "print(\"\") # space\n",
    "print(np_num2)"
   ]
  },
  {
   "cell_type": "code",
   "execution_count": null,
   "metadata": {},
   "outputs": [],
   "source": [
    "# probably nothing surprising here?\n",
    "\n",
    "## ADD\n",
    "np_add = np.add(np_num1, np_num2)\n",
    "print(np_add)\n",
    "print(\"\")\n",
    "\n",
    "# exactly the same\n",
    "np_add2 = np_num1 + np_num2\n",
    "print(np_add2)"
   ]
  },
  {
   "cell_type": "code",
   "execution_count": null,
   "metadata": {},
   "outputs": [],
   "source": [
    "## SUBTRACT\n",
    "np_sub = np.subtract(np_num1, np_num2)\n",
    "print(np_sub)\n",
    "print(\"\")\n",
    "\n",
    "# exactly the same\n",
    "np_sub2 = np_num1 - np_num2\n",
    "print(np_sub2)"
   ]
  },
  {
   "cell_type": "code",
   "execution_count": null,
   "metadata": {},
   "outputs": [],
   "source": [
    "## MULTIPLY\n",
    "np_mult = np.multiply(np_num1, np_num2)\n",
    "print(np_mult)\n",
    "print(\"\")\n",
    "\n",
    "# exactly the same\n",
    "np_mult2 = np_num1 * np_num2\n",
    "print(np_mult2)"
   ]
  },
  {
   "cell_type": "code",
   "execution_count": null,
   "metadata": {},
   "outputs": [],
   "source": [
    "## DIVIDE\n",
    "np_div = np.divide(np_num1, np_num2)\n",
    "print(np_div)\n",
    "print(\"\")\n",
    "\n",
    "# exactly the same\n",
    "np_div2 = np_num1 / np_num2\n",
    "print(np_div2)"
   ]
  },
  {
   "cell_type": "code",
   "execution_count": null,
   "metadata": {},
   "outputs": [],
   "source": [
    "# this MIGHT be obvious, but it seems worth saying:\n",
    "# we can do all of our math on subsets of arrays, too\n",
    "np_num4 = np_num1[:, [0, 2]] + np_num2[:, [0, 2]]\n",
    "print(np_num4)"
   ]
  },
  {
   "cell_type": "markdown",
   "metadata": {},
   "source": [
    "# Matplotlib\n",
    "\n",
    "This is not an in-depth intro to Matplotlib. This is me showing you how to make a single kind of graph, and pointing you at the documentation if you're interested in doing more. (It is very well documented!)\n",
    "\n",
    "To be clear: you aren't stuck with line charts. There are also bar charts, scatter plots, histograms, and pie charts (ew). You can do all kinds of wild things with Matplotlib.\n",
    "\n",
    "I didn't want to neglect to show you this, though, because the book sort of makes it look like you have to use Seaborn to use Matplotlib, and that isn't true by any stretch of the imagination. Matplotlib works fine on its own. "
   ]
  },
  {
   "cell_type": "code",
   "execution_count": null,
   "metadata": {},
   "outputs": [],
   "source": [
    "# lets us show matplotlib plots inline\n",
    "%matplotlib notebook\n",
    "\n",
    "# getting just the part we need and giving it a shorter name\n",
    "from matplotlib import pyplot as plt\n",
    "# often you'll see this instead:\n",
    "# import matplotlib.pyplot as plt\n",
    "\n",
    "# telling matplotlib we're going to start a graph\n",
    "plt.figure()\n",
    "\n",
    "# it'll plot each row as a separate series, interestingly\n",
    "plt.plot(np_mult, linestyle=\"--\", color=\"#AA00AA\", marker='s')\n",
    "# this is more fun:\n",
    "# plt.plot(np_mult[0], linestyle=\"dashed\", color=\"#990033\", marker='o')\n",
    "# plt.plot(np_mult[1], linestyle=\"solid\", color=\"#AA00AA\", marker='s')\n",
    "# plt.plot(np_mult[2], linestyle=\"dotted\", color=\"#1100AA\", marker='*')\n",
    "# feed axis a list to set ranges:\n",
    "# [x_start, x_end, y_start, y_end]\n",
    "plt.axis([0, 2.5, 0, 20])\n",
    "# put nice labels on\n",
    "plt.xlabel(\"our x axis\")\n",
    "plt.ylabel(\"our y axis\")\n",
    "plt.title(\"A very linear graph\")\n",
    "# actually makes the graph show up\n",
    "plt.show()\n",
    "\n",
    "# Start here with the documentation: \n",
    "# https://matplotlib.org/3.1.0/tutorials/introductory/pyplot.html#sphx-glr-tutorials-introductory-pyplot-py\n"
   ]
  },
  {
   "cell_type": "markdown",
   "metadata": {},
   "source": [
    " # Pandas\n",
    " ### The world's shortest introduction.\n",
    " \n",
    "OK, but sometimes we don't want our data to all be the same type. Maybe instead of rows and columns of ints or floats, we want labels on things, floats in one place and ints in another, or perhaps categorical data of some kind. Maybe there are gaps in our data (which NumPy can't really handle). \n",
    "\n",
    "NumPy alone can't do that, though it serves as a useful backend of the library that can: Pandas. Also, it's worth noting that you can often use NumPy operations on Pandas objects, because the two libraries are so closely linked.\n",
    "\n",
    "First, let's get Pandas, which (like NumPy) we got for free when we installed Anaconda."
   ]
  },
  {
   "cell_type": "code",
   "execution_count": null,
   "metadata": {},
   "outputs": [],
   "source": [
    "import pandas as pd"
   ]
  },
  {
   "cell_type": "markdown",
   "metadata": {},
   "source": [
    "We've got two main kinds of objects in Pandas: `Series` and `DataFrame`. Usually you'll want an entire `DataFrame` for your data, but you'll often pull individual rows or columns out to deal with as a `Series`. So we'll start there.\n",
    "\n",
    "## Series\n",
    "\n",
    "We can build a Series from a list or a tuple, just like we could with NumPy arrays. We can also build it _from a NumPy array_ if we want to. "
   ]
  },
  {
   "cell_type": "code",
   "execution_count": null,
   "metadata": {},
   "outputs": [],
   "source": [
    "# kind of a boring series to start\n",
    "some_numbers = [26, 83, 35, 39, 31, 11, 30, 44, 42, 65, 30, 2, 29, 38, 43, 68]\n",
    "\n",
    "numbers_series = pd.Series(some_numbers)\n",
    "\n",
    "print(numbers_series)\n",
    "\n",
    "\n",
    "# np_array2 = np.array(some_numbers)\n",
    "# numbers2 = pd.Series(np_array2)\n",
    "\n",
    "# print(\"\") #space\n",
    "# print(numbers2)"
   ]
  },
  {
   "cell_type": "markdown",
   "metadata": {},
   "source": [
    "Notice, we got free indices with our Series. So... sure, it's one-dimensional. Only it isn't? really? \n",
    "\n",
    "By default, the indices are numbers, starting at zero.\n",
    "\n",
    "A cool thing about this, though: we can also create a series from a dictionary. And if we do that, it'll set our index to whatever the keys of our dictionary are, and the data to whatever the values are."
   ]
  },
  {
   "cell_type": "code",
   "execution_count": null,
   "metadata": {},
   "outputs": [],
   "source": [
    "state_rankings = {\n",
    "    1 : \"Virginia\", \n",
    "    2 : \"Texas\", \n",
    "    3 : \"Colorado\", \n",
    "    4 : \"New York \", \n",
    "    5 : \"North Carolina \", \n",
    "    6 : \"New Jersey\", \n",
    "    7 : \"California\", \n",
    "    8 : \"Florida\", \n",
    "    9 : \"District of Columbia\", \n",
    "    10 : \"South Dakota\"\n",
    "}\n",
    "# from https://docs.google.com/spreadsheets/d/1fSZwXMi8ARXh3XbBF1RKjMr5MDJH_RwHsy0-BF4N2Ko/edit#gid=0"
   ]
  },
  {
   "cell_type": "code",
   "execution_count": null,
   "metadata": {},
   "outputs": [],
   "source": [
    "rankings_series = pd.Series(state_rankings)\n",
    "print(rankings_series)"
   ]
  },
  {
   "cell_type": "code",
   "execution_count": null,
   "metadata": {},
   "outputs": [],
   "source": [
    "# not just numbers!\n",
    "capitals = {\n",
    "    'Alabama' : 'Montgomery', \n",
    "    'Alaska' : 'Juneau',\n",
    "    'Arizona' : 'Phoenix', \n",
    "    'Arkansas' : 'Little Rock',\n",
    "    'California' : 'Sacramento', \n",
    "    'Colorado' : 'Denver',\n",
    "    'Connecticut' : 'Hartford', \n",
    "    'Delaware' : 'Dover',\n",
    "    'Florida' : 'Tallahassee', \n",
    "    'Georgia' : 'Atlanta',\n",
    "    'Hawaii' : 'Honolulu'\n",
    "}\n",
    "\n",
    "caps_series = pd.Series(capitals)\n",
    "print(caps_series)"
   ]
  },
  {
   "cell_type": "markdown",
   "metadata": {},
   "source": [
    "### Getting items out of a Series"
   ]
  },
  {
   "cell_type": "code",
   "execution_count": null,
   "metadata": {},
   "outputs": [],
   "source": [
    "# kind of about what you'd guess, when the index is numeric\n",
    "\n",
    "print(numbers_series[0])\n",
    "print(rankings_series[1])\n",
    "#print(rankings_series[0])\n",
    "\n",
    "# maybe? what you'd guess? when the index is text\n",
    "\n",
    "print(caps_series['Hawaii'])"
   ]
  },
  {
   "cell_type": "markdown",
   "metadata": {},
   "source": [
    "### Descriptive statistics on Pandas Series"
   ]
  },
  {
   "cell_type": "code",
   "execution_count": null,
   "metadata": {},
   "outputs": [],
   "source": [
    "print(\"Count: \", numbers_series.count())\n",
    "print(\"Min: \", numbers_series.min())\n",
    "print(\"Max: \", numbers_series.max())\n",
    "print(\"Standard deviation: \", numbers_series.std())"
   ]
  },
  {
   "cell_type": "code",
   "execution_count": null,
   "metadata": {},
   "outputs": [],
   "source": [
    "# or there's this\n",
    "numbers_series.describe()"
   ]
  },
  {
   "cell_type": "markdown",
   "metadata": {},
   "source": [
    "## DataFrames\n",
    "\n",
    "A DataFrame is a two-dimensional matrix. Each column is a Series. You won't generally go making your DataFrame this way, but you can create one from a dictionary if you want to:"
   ]
  },
  {
   "cell_type": "code",
   "execution_count": null,
   "metadata": {},
   "outputs": [],
   "source": [
    "data_dict = {\n",
    "    \"Virginia\" : [14180, 4570, 10330, 13190],\n",
    "    \"Texas\" : [8520, 4128, 6550, 7760],\n",
    "    \"Colorado\" : [3590, 1372, 1500, 2870],\n",
    "    \"New York\" : [6930, 2600, 5040, 6170],\n",
    "    \"North Carolina\" : [3570, 1397, 3140, 4090],\n",
    "    \"New Jersey\" : [3480, 1764, 1820, 3210],\n",
    "    \"California\" : [7830, 5008, 8260, 8470],\n",
    "    \"Florida\" : [5600, 1834, 3390, 5240],\n",
    "    \"District of Columbia\" : [1660, 1646, 800, 1310]\n",
    "} # from https://docs.google.com/spreadsheets/d/1fSZwXMi8ARXh3XbBF1RKjMr5MDJH_RwHsy0-BF4N2Ko/edit#gid=0\n",
    "\n",
    "states = pd.DataFrame(data_dict)\n",
    "\n",
    "print(states)"
   ]
  },
  {
   "cell_type": "markdown",
   "metadata": {},
   "source": [
    "OK, that numeric index isn't _super_ helpful, is it? What are those numbers? Who can say? We probably need to label our indices. It's cool, there are several ways to pull that off."
   ]
  },
  {
   "cell_type": "code",
   "execution_count": null,
   "metadata": {},
   "outputs": [],
   "source": [
    "states.index = [\"working_now\", \"vacancies_now\", \"working_in_2013\", \"working_in_2017\"]\n",
    "\n",
    "# alternately:\n",
    "#states = states.rename(index={0:\"working_now\", 1:\"vacancies_now\", 2:\"working_in_2013\", 3:\"working_in_2017\"})\n",
    "print(states)\n",
    "print(\"\")\n",
    "\n",
    "# and, yeah, we could have saved that step by planning ahead, _i guess_\n",
    "# states2 = pd.DataFrame(data_dict, index = [\"working_now\", \"vacancies_now\", \"working_in_2013\", \"working_in_2017\"])\n",
    "# print(states2)"
   ]
  },
  {
   "cell_type": "markdown",
   "metadata": {},
   "source": [
    "## Making a DataFrame from a CSV\n",
    "\n",
    "I'm not going to claim you won't ever make a DataFrame from scratch like I did above, but realistically? You're probably pulling in data from a file. And I would feel remiss if I didn't show you that."
   ]
  },
  {
   "cell_type": "code",
   "execution_count": null,
   "metadata": {},
   "outputs": [],
   "source": [
    "trees = pd.read_csv('city_of_pittsburgh_trees.csv', index_col=0)\n",
    "print(trees)"
   ]
  },
  {
   "cell_type": "markdown",
   "metadata": {},
   "source": [
    "### Pulling data out of your DataFrame\n",
    "\n",
    "To show a row, use its index with `.loc[index]` or its numeric location (index counting from zero) with `.iloc[index]`. Slicing works."
   ]
  },
  {
   "cell_type": "code",
   "execution_count": null,
   "metadata": {},
   "outputs": [],
   "source": [
    "# get the row that matches ID #615894354\n",
    "print(trees.loc[615894354])"
   ]
  },
  {
   "cell_type": "code",
   "execution_count": null,
   "metadata": {},
   "outputs": [],
   "source": [
    "# get the 13th row\n",
    "print(trees.iloc[12])"
   ]
  },
  {
   "cell_type": "code",
   "execution_count": null,
   "metadata": {},
   "outputs": [],
   "source": [
    "# the first three\n",
    "print(trees.loc[1946899269:994063598])\n",
    "\n",
    "# also the first three\n",
    "#print(trees.iloc[0:3])"
   ]
  },
  {
   "cell_type": "markdown",
   "metadata": {},
   "source": [
    "Clearly, you aren't always going to want the whole row, though, right? So. You can specify the columns you want in a list, within the `.loc[]` selection."
   ]
  },
  {
   "cell_type": "code",
   "execution_count": null,
   "metadata": {},
   "outputs": [],
   "source": [
    "trees.loc[1946899269:1870646392, ['common_name', 'scientific_name', 'height', 'neighborhood']]"
   ]
  },
  {
   "cell_type": "markdown",
   "metadata": {},
   "source": [
    "And if you want to be _incredibly_ specific, getting only a specific value, you can do that, too. You need to use `.at[]` or `.iat[]`"
   ]
  },
  {
   "cell_type": "code",
   "execution_count": null,
   "metadata": {},
   "outputs": [],
   "source": [
    "# use the named index and the column name\n",
    "trees.at[1870646392, 'common_name']"
   ]
  },
  {
   "cell_type": "code",
   "execution_count": null,
   "metadata": {},
   "outputs": [],
   "source": [
    "# use the positions, both down and across\n",
    "trees.iat[10,3]"
   ]
  },
  {
   "cell_type": "markdown",
   "metadata": {},
   "source": [
    "## Descriptive statistics\n",
    "\n",
    "I love how easy this is and also how useless some of it really is. It's just a delight. :) "
   ]
  },
  {
   "cell_type": "code",
   "execution_count": null,
   "metadata": {},
   "outputs": [],
   "source": [
    "trees.describe()"
   ]
  },
  {
   "cell_type": "code",
   "execution_count": null,
   "metadata": {},
   "outputs": [],
   "source": []
  }
 ],
 "metadata": {
  "kernelspec": {
   "display_name": "Python 3",
   "language": "python",
   "name": "python3"
  },
  "language_info": {
   "codemirror_mode": {
    "name": "ipython",
    "version": 3
   },
   "file_extension": ".py",
   "mimetype": "text/x-python",
   "name": "python",
   "nbconvert_exporter": "python",
   "pygments_lexer": "ipython3",
   "version": "3.7.9"
  }
 },
 "nbformat": 4,
 "nbformat_minor": 2
}
