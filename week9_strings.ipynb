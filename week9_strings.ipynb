{
 "cells": [
  {
   "cell_type": "markdown",
   "metadata": {},
   "source": [
    "# Strings!\n",
    "\n",
    "String manipulation is one of the places where Python really shines. We have so many string methods available to us that, often, Python programs end up shorter and easier to write than programs in many other languages.\n",
    "\n",
    "You have looped through strings, character-by-character, already. You may even have thought to yourself, \"looping through strings and looping through lists: these processes seem really similar.\" They are!\n",
    "\n",
    "And just like you can slice a list with square brackets, you can also slice a string!\n",
    "\n",
    "Notation:\n",
    "```Python\n",
    "my_string_slice = my_string[start : end + 1 : count_by] # same parameters as range()\n",
    "```\n",
    "\n",
    "Let's have a look:"
   ]
  },
  {
   "cell_type": "code",
   "execution_count": null,
   "metadata": {},
   "outputs": [],
   "source": [
    "# a reminder about slicing lists\n",
    "\n",
    "def main():\n",
    "    my_list = ['a', 'b', 'c', 'd', 'e', 'f', 'g', \\\n",
    "               'h', 'i', 'j', 'k', 'l', 'm', 'n', 'o', \\\n",
    "               'p', 'q', 'r', 's', 't', 'u', 'v', 'w', \\\n",
    "               'x', 'y', 'z']\n",
    "\n",
    "    # first 10 - start at 0, end at 9\n",
    "    print(\"my_list[0:10]:\", my_list[0:10])\n",
    "\n",
    "    # same thing, but a reminder that we don't need 0\n",
    "    print(\"my_list[:10]:\", my_list[:10])\n",
    "\n",
    "    # print the last 10 characters\n",
    "    print(\"my_list[-10:]:\", my_list[-10:])\n",
    "\n",
    "    # print every other character\n",
    "    print(\"my_list[::2]\", my_list[::2])\n",
    "    \n",
    "main()"
   ]
  },
  {
   "cell_type": "code",
   "execution_count": null,
   "metadata": {},
   "outputs": [],
   "source": [
    "# doing pretty much exactly the same thing to a string\n",
    "def main():\n",
    "    my_string = \"abcdefghijklmnopqrstuvwxyz\"\n",
    "\n",
    "    # print the first 10 characters\n",
    "    print(\"my_string[0:10]:\", my_string[0:10]) \n",
    "\n",
    "    # same thing, but a reminder that we don't need 0\n",
    "    print(\"my_string[:10]:\", my_string[:10])\n",
    "\n",
    "    # print the last 10 characters\n",
    "    print(\"my_string[-10:]:\", my_string[-10:])\n",
    "\n",
    "    # print every other character\n",
    "    print(\"my_string[::2]:\", my_string[::2])\n",
    "\n",
    "main()"
   ]
  },
  {
   "cell_type": "markdown",
   "metadata": {},
   "source": [
    "We've also seen that we can iterate through a string, in much the same way as we iterate through a list."
   ]
  },
  {
   "cell_type": "code",
   "execution_count": null,
   "metadata": {},
   "outputs": [],
   "source": [
    "def print_with_spaces(a_string):\n",
    "    \"\"\"takes in a string and prints it with spaces between characters\"\"\"\n",
    "    # (we don't loop through strings to print them often, no)\n",
    "    for letter in a_string:\n",
    "        # print each letter with a space between them\n",
    "        print(letter, end=\" \")\n",
    "        \n",
    "        \n",
    "def main():\n",
    "    # set up and print our string\n",
    "    my_string = \"abcdefghijklmnopqrstuvwxyz\"\n",
    "    print(my_string)\n",
    "    print(\"\") # adding a little space\n",
    "    print_with_spaces(my_string)\n",
    "\n",
    "\n",
    "\n",
    "main()"
   ]
  },
  {
   "cell_type": "code",
   "execution_count": null,
   "metadata": {},
   "outputs": [],
   "source": [
    "def pretty_print(a_list):\n",
    "    \"\"\"takes in a list and prints each item with spaces between them\"\"\"\n",
    "    for item in a_list:\n",
    "        print(item, end=\" \")\n",
    "      \n",
    "    \n",
    "def main():\n",
    "    # the same operation with a list\n",
    "    my_list = ['a', 'b', 'c', 'd', 'e', 'f', 'g', \\\n",
    "               'h', 'i', 'j', 'k', 'l', 'm', 'n', 'o', \\\n",
    "               'p', 'q', 'r', 's', 't', 'u', 'v', 'w', \\\n",
    "               'x', 'y', 'z']\n",
    "    print(my_list)\n",
    "    print(\"\") # just adding some spacing\n",
    "    pretty_print(my_list)\n",
    "        \n",
    "main()"
   ]
  },
  {
   "cell_type": "markdown",
   "metadata": {},
   "source": [
    "But there is a very big difference between strings and lists, besides the obvious extra brackets and commas."
   ]
  },
  {
   "cell_type": "code",
   "execution_count": null,
   "metadata": {},
   "outputs": [],
   "source": [
    "def main():\n",
    "    my_list = ['a', 'b', 'c', 'd', 'e', 'f', 'g', \\\n",
    "               'h', 'i', 'j', 'k', 'l', 'm', 'n', 'o', \\\n",
    "               'p', 'q', 'r', 's', 't', 'u', 'v', 'w', \\\n",
    "               'x', 'y', 'z']\n",
    "\n",
    "    # add an item to a list\n",
    "    my_list.append(\"1\")\n",
    "    pretty_print(my_list)\n",
    "    \n",
    "main()"
   ]
  },
  {
   "cell_type": "code",
   "execution_count": null,
   "metadata": {},
   "outputs": [],
   "source": [
    "def main():\n",
    "    my_string = \"abcdefghijklmnopqrstuvwxyz\"\n",
    "    # add an item to a string\n",
    "    my_string.append(\"1\")\n",
    "    print(my_string)\n",
    "    \n",
    "main()"
   ]
  },
  {
   "cell_type": "markdown",
   "metadata": {},
   "source": [
    "You can't append to a string, because, while lists are *mutable*, strings are *immutable*. \n",
    "\n",
    "This means that (as previously mentioned,) you can *change a list in place*, but the only way of \"changing\" a string is reassigning/overwriting it&mdash;the same way we did with everything, right up until we met lists. \n",
    "\n",
    "Let me prove it to you. We'll print a string, call `.upper()` on it (which returns the same string, but uppercase), and then we'll print our string again to see if it has changed. (It will not have changed.)\n",
    "\n",
    "Then we'll actually change the string, using an assignment statement. \n",
    "\n",
    "And then we'll compare that to what happens when you print a list, call `.reverse()` on it, and print it again. (It _will_ have changed, because list methods change a list in place.)"
   ]
  },
  {
   "cell_type": "code",
   "execution_count": null,
   "metadata": {},
   "outputs": [],
   "source": [
    "#strings: immutable\n",
    "def main():\n",
    "    science_string = \"Hello, I would like to science please!\"\n",
    "\n",
    "    # print string, uppercase it, and print again\n",
    "    print(science_string)\n",
    "    science_string.upper()\n",
    "    print(science_string)\n",
    "\n",
    "main()"
   ]
  },
  {
   "cell_type": "code",
   "execution_count": null,
   "metadata": {},
   "outputs": [],
   "source": [
    "# print string, replace it with uppercase, and print again\n",
    "# (just like we've always done things, until we got to lists)\n",
    "def main():\n",
    "    science_string = \"Hello, I would like to science please!\"\n",
    "    print(science_string)\n",
    "    science_string = science_string.upper()\n",
    "    print(science_string)\n",
    "    \n",
    "main()"
   ]
  },
  {
   "cell_type": "code",
   "execution_count": null,
   "metadata": {},
   "outputs": [],
   "source": [
    "#lists: mutable\n",
    "\n",
    "def main():\n",
    "    science_list = [\"Hello\", \"I\", \"would\", \"like\", \"to\", \"science\", \"please!\"]\n",
    "\n",
    "    # print list, reverse it, and print again\n",
    "    print(science_list)\n",
    "    science_list.reverse()\n",
    "    print(science_list)\n",
    "    \n",
    "main()\n",
    "\n",
    "# want to talk about why we didn't call .upper()?"
   ]
  },
  {
   "cell_type": "markdown",
   "metadata": {},
   "source": [
    "Hopefully, that reminder about the similarities and the differences between lists and strings was helpful. It trips people up, entirely understandably&mdash;enough so that sometimes the similiarities in syntax between strings and lists seem more like a curse than a blessing.\n",
    "\n",
    "We were discussing **string splicing**, before we had our little chat about lists.\n",
    "\n",
    "Remember you can pull a single character from a string:"
   ]
  },
  {
   "cell_type": "code",
   "execution_count": null,
   "metadata": {},
   "outputs": [],
   "source": [
    "my_string = \"abcdefghijklmnopqrstuvwxyz\"\n",
    "print(my_string[3])"
   ]
  },
  {
   "cell_type": "markdown",
   "metadata": {},
   "source": [
    "You can pull a substring:"
   ]
  },
  {
   "cell_type": "code",
   "execution_count": null,
   "metadata": {},
   "outputs": [],
   "source": [
    "print(my_string[3:8])"
   ]
  },
  {
   "cell_type": "markdown",
   "metadata": {},
   "source": [
    "And you can even reverse a string. First, because we should all occasionally take a moment to appreciate how great Python is, let me remind you how we this when we only had loops as a tool -- which is mostly all you get with other programming languages:"
   ]
  },
  {
   "cell_type": "code",
   "execution_count": null,
   "metadata": {},
   "outputs": [],
   "source": [
    "def reverse_string(a_string):\n",
    "    \"\"\"reverse a string using loops\"\"\"\n",
    "    top_index = len(a_string)\n",
    "    new_string = \"\"\n",
    "\n",
    "    # work backwards through the string\n",
    "    for index in range(top_index-1, -1, -1):\n",
    "        new_string = new_string + a_string[index]\n",
    "    return new_string\n",
    "\n",
    "\n",
    "def main():\n",
    "    my_string = input(\"Please give me a string: \")\n",
    "    \n",
    "    reversed_string = reverse_string(my_string)\n",
    "\n",
    "    print(\"Your string has\", len(my_string), \"characters. Backwards, it reads:\")\n",
    "    print(reversed_string)\n",
    "\n",
    "\n",
    "main()"
   ]
  },
  {
   "cell_type": "markdown",
   "metadata": {},
   "source": [
    "Several weeks later, here's an even faster way to reverse a string in Python:"
   ]
  },
  {
   "cell_type": "code",
   "execution_count": null,
   "metadata": {},
   "outputs": [],
   "source": [
    "def faster_reverse_string(a_string):\n",
    "    \"\"\"reverse a string with the power of string slices!\"\"\"\n",
    "    new_string = a_string[::-1]\n",
    "    return new_string\n",
    "\n",
    "\n",
    "def main():\n",
    "    my_string = input(\"Please give me a string: \")\n",
    "    \n",
    "    reversed_string = faster_reverse_string(my_string)\n",
    "\n",
    "    print(\"Your string has\", len(my_string), \"characters. Backwards, it reads:\")\n",
    "    print(reversed_string)\n",
    "\n",
    "main()"
   ]
  },
  {
   "cell_type": "markdown",
   "metadata": {},
   "source": [
    "It's just so beautiful.\n",
    "\n",
    "Still, no reasonable person will get upset with you if you do it the longer way. In the (honestly pretty rare) cases when you need to reverse a string, it's fine to do it whichever way you're comfortable with.\n",
    "\n",
    "Let me give you some more string methods. We'll go through them pretty quickly, and then we'll do a practice problem where you can choose whether you'd like to work with loops or with string slicing."
   ]
  },
  {
   "cell_type": "markdown",
   "metadata": {},
   "source": [
    "## A bunch of string methods\n",
    "\n",
    "### First, checking what's in our strings (conditionals):\n",
    "\n",
    "We'll set up a bunch of strings that we can check with all of these string-checking functions."
   ]
  },
  {
   "cell_type": "code",
   "execution_count": null,
   "metadata": {},
   "outputs": [],
   "source": [
    "# first, let's set up some strings for testing\n",
    "lc_alpha_char = \"a\" # lowercase alphabetical\n",
    "uc_alpha_car = \"A\" # uppercase alphabetical\n",
    "num_char = \"1\" # numeric, but still a character\n",
    "space_char = \" \" # a space\n",
    "punct_char = \".\" # a punctuation character\n",
    "endline_char = \"\\n\" # a different kind of space - the endline\n",
    "\n",
    "print(\"Just showing we ran this block. Coral forgets sometimes.\")"
   ]
  },
  {
   "cell_type": "markdown",
   "metadata": {},
   "source": [
    "#### `.isalpha()` - returns a `True` or `False` answering \"is this alphabetic?\""
   ]
  },
  {
   "cell_type": "code",
   "execution_count": null,
   "metadata": {},
   "outputs": [],
   "source": [
    "# which ones are alphabet characters?\n",
    "print(\".isalpha() checks for alphabetic characters:\")\n",
    "print(lc_alpha_char, \"isalpha?\", lc_alpha_char.isalpha())\n",
    "print(uc_alpha_car, \"isalpha?\", uc_alpha_car.isalpha())\n",
    "print(num_char, \"isalpha?\", num_char.isalpha())\n",
    "print(\"space isalpha?\", space_char.isalpha())\n",
    "print(punct_char, \"isalpha?\", punct_char.isalpha())\n",
    "print(\"endline isalpha?\", endline_char.isalpha())"
   ]
  },
  {
   "cell_type": "markdown",
   "metadata": {},
   "source": [
    "#### `.isdigit()` or `.isnumeric()` - returns `True` or `False` answering \"is this a digit or digits?\""
   ]
  },
  {
   "cell_type": "code",
   "execution_count": null,
   "metadata": {},
   "outputs": [],
   "source": [
    "# which ones are digits?\n",
    "print(\".isdigit() checks for digits:\")\n",
    "print(lc_alpha_char, \"isdigit?\", lc_alpha_char.isdigit())\n",
    "print(uc_alpha_car, \"isdigit?\", uc_alpha_car.isdigit())\n",
    "print(num_char, \"isdigit?\", num_char.isdigit())\n",
    "print(\"space isdigit?\", space_char.isdigit())\n",
    "print(punct_char, \"isdigit?\", punct_char.isdigit())\n",
    "print(\"endline isdigit?\", endline_char.isdigit())"
   ]
  },
  {
   "cell_type": "code",
   "execution_count": null,
   "metadata": {},
   "outputs": [],
   "source": [
    "# which ones are digits?\n",
    "print(\".isnumeric() checks for numbers:\")\n",
    "print(lc_alpha_char, \"isnumeric?\", lc_alpha_char.isnumeric())\n",
    "print(uc_alpha_car, \"isnumeric?\", uc_alpha_car.isnumeric())\n",
    "print(num_char, \"isnumeric?\", num_char.isnumeric())\n",
    "print(\"space isnumeric?\", space_char.isnumeric())\n",
    "print(punct_char, \"isnumeric?\", punct_char.isnumeric())\n",
    "print(\"endline isnumeric?\", endline_char.isnumeric())"
   ]
  },
  {
   "cell_type": "code",
   "execution_count": null,
   "metadata": {
    "scrolled": true
   },
   "outputs": [],
   "source": [
    "# check one other thing\n",
    "neg_one = \"-1\"\n",
    "print(neg_one, \"is digit?\", neg_one.isdigit())\n",
    "print(neg_one, \"is numeric?\", neg_one.isnumeric())\n",
    "# ah well"
   ]
  },
  {
   "cell_type": "code",
   "execution_count": null,
   "metadata": {},
   "outputs": [],
   "source": [
    "# so... what is the difference?\n",
    "# usually nothing, EXCEPT\n",
    "\n",
    "wu = \"五\" # Chinese character for five\n",
    "\n",
    "print(\"Is 五 a digit?\", wu.isdigit())\n",
    "print(\"Is 五 numeric?\", wu.isnumeric())\n"
   ]
  },
  {
   "cell_type": "markdown",
   "metadata": {},
   "source": [
    "#### `.isalnum()` - `True` or `False` to \"is this alphabetic or numeric?\""
   ]
  },
  {
   "cell_type": "code",
   "execution_count": null,
   "metadata": {},
   "outputs": [],
   "source": [
    "# which ones are alphanumeric?\n",
    "print(\".isalnum() checks for alphanumeric characters:\")\n",
    "print(lc_alpha_char, \"isalnum?\", lc_alpha_char.isalnum())\n",
    "print(uc_alpha_car, \"isalnum?\", uc_alpha_car.isalnum())\n",
    "print(num_char, \"isalnum?\", num_char.isalnum())\n",
    "print(\"space isalnum?\", space_char.isalnum())\n",
    "print(punct_char, \"isalnum?\", punct_char.isalnum())\n",
    "print(\"endline isalnum?\", endline_char.isalnum())"
   ]
  },
  {
   "cell_type": "code",
   "execution_count": null,
   "metadata": {},
   "outputs": [],
   "source": [
    "# what do we think?\n",
    "print(neg_one, \"is alnum?\", neg_one.isalnum())"
   ]
  },
  {
   "cell_type": "markdown",
   "metadata": {},
   "source": [
    "#### `.islower()` - lowercase character(s)? `True`/`False`"
   ]
  },
  {
   "cell_type": "code",
   "execution_count": null,
   "metadata": {},
   "outputs": [],
   "source": [
    "# which ones are lowercase?\n",
    "print(\".islower() checks for lowercase characters:\")\n",
    "print(lc_alpha_char, \"islower?\", lc_alpha_char.islower())\n",
    "print(uc_alpha_car, \"islower?\", uc_alpha_car.islower())\n",
    "print(num_char, \"islower?\", num_char.islower())\n",
    "print(\"space islower?\", space_char.islower())\n",
    "print(punct_char, \"islower?\", punct_char.islower())\n",
    "print(\"endline islower?\", endline_char.islower())"
   ]
  },
  {
   "cell_type": "markdown",
   "metadata": {},
   "source": [
    "#### `.isupper()` - uppercase character(s)? `True`/`False`"
   ]
  },
  {
   "cell_type": "code",
   "execution_count": null,
   "metadata": {},
   "outputs": [],
   "source": [
    "# which ones are uppercase?\n",
    "print(\".isupper() checks for uppercase characters:\")\n",
    "print(lc_alpha_char, \"isupper?\", lc_alpha_char.isupper())\n",
    "print(uc_alpha_car, \"isupper?\", uc_alpha_car.isupper())\n",
    "print(num_char, \"isupper?\", num_char.isupper())\n",
    "print(\"space isupper?\", space_char.isupper())\n",
    "print(punct_char, \"isupper?\", punct_char.isupper())\n",
    "print(\"endline isupper?\", endline_char.isupper())"
   ]
  },
  {
   "cell_type": "markdown",
   "metadata": {},
   "source": [
    "#### `.isspace()` - is this string made up of whitespace? `True`/`False`"
   ]
  },
  {
   "cell_type": "code",
   "execution_count": null,
   "metadata": {},
   "outputs": [],
   "source": [
    "# which ones are spaces?\n",
    "print(\".isspace() checks for space characters:\")\n",
    "print(lc_alpha_char, \"isspace?\", lc_alpha_char.isspace())\n",
    "print(uc_alpha_car, \"isspace?\", uc_alpha_car.isspace())\n",
    "print(num_char, \"isspace?\", num_char.isspace())\n",
    "print(\"space isspace?\", space_char.isspace())\n",
    "print(punct_char, \"isspace?\", punct_char.isspace())\n",
    "print(\"endline isspace?\", endline_char.isspace())"
   ]
  },
  {
   "cell_type": "code",
   "execution_count": null,
   "metadata": {},
   "outputs": [],
   "source": [
    "# checking one other thing\n",
    "tab = \"\\t\"\n",
    "print(\"tab is space?\", tab.isspace())"
   ]
  },
  {
   "cell_type": "markdown",
   "metadata": {},
   "source": [
    "I don't know about you, but what I've wanted, at various points in my life, is some kind of .ispunct() method, to test if a character is a piece of punctuation. That's ... not a thing, but we can make an is_punctuation() function!"
   ]
  },
  {
   "cell_type": "code",
   "execution_count": null,
   "metadata": {},
   "outputs": [],
   "source": [
    "import string # yep, we have a module for this\n",
    "\n",
    "# we didn't set this up as a method on string\n",
    "# (more on that in a minute) but as a function, so\n",
    "# we call it differently\n",
    "def is_punctuation(characters):\n",
    "    \"\"\"checks one or more characters; \n",
    "    returns True if they are all punctuation, False otherwise\"\"\"\n",
    "    # an empty space is not punctuation\n",
    "    if len(characters) == 0:\n",
    "        return False\n",
    "    \n",
    "    # this will run at least once, now\n",
    "    for character in characters:\n",
    "        # punctuation is a constant belonging to string\n",
    "        # if we find any non-punctuation, we immediately return False\n",
    "        if character not in string.punctuation:\n",
    "            return False\n",
    "    \n",
    "    # if len > 0 and we didn't find any non-punctuation characters\n",
    "    return True\n",
    "\n",
    "\n",
    "def main():\n",
    "    print(\"Testing our own is_punctuation() function:\")\n",
    "    print(lc_alpha_char, \"is punctuation?\", is_punctuation(lc_alpha_char))\n",
    "    print(uc_alpha_car, \"is punctuation?\", is_punctuation(uc_alpha_car))\n",
    "    print(num_char, \"is punctuation?\", is_punctuation(num_char))\n",
    "    print(\"space is punctuation?\", is_punctuation(space_char))\n",
    "    print(punct_char, \"is punctuation?\", is_punctuation(punct_char))\n",
    "    print(\"endline is punctuation?\", is_punctuation(endline_char))\n",
    "    print(\"empty string is punctuation?\", is_punctuation(\"\"))\n",
    "\n",
    "    print(\"\") # give ourselves some space\n",
    "    print(\"What's in string.punctuation:\")\n",
    "    print(string.punctuation)\n",
    "\n",
    "main()"
   ]
  },
  {
   "cell_type": "markdown",
   "metadata": {},
   "source": [
    "For other fun string constants, see [the Python 3.7 documentation](https://docs.python.org/3.7/library/string.html)\n",
    "\n",
    "### A note on the above!\n",
    "\n",
    "All of the string conditional statements we've looked at so far are a little cleaner when you run them on **a single character**. They absolutely _work_ on multi-character strings, but it's a good way to trip yourself up, if you aren't careful."
   ]
  },
  {
   "cell_type": "code",
   "execution_count": null,
   "metadata": {},
   "outputs": [],
   "source": [
    "# save a bunch of alpha characters\n",
    "coffee_string = \"i love coffee\"\n",
    "print(coffee_string.isalpha())\n",
    "# what?"
   ]
  },
  {
   "cell_type": "code",
   "execution_count": null,
   "metadata": {},
   "outputs": [],
   "source": [
    "# ohhhh, riiiight\n",
    "coffee_string2 = \"ilovecoffee\"\n",
    "print(coffee_string2.isalpha())\n",
    "# spaces aren't alpha"
   ]
  },
  {
   "cell_type": "code",
   "execution_count": null,
   "metadata": {
    "scrolled": true
   },
   "outputs": [],
   "source": [
    "# is_punctuation() will work on multi-character strings, too\n",
    "punct_string = string.punctuation\n",
    "not_punct_string = \"5\" + string.punctuation\n",
    "\n",
    "print(punct_string, \"is punctuation?\", is_punctuation(punct_string))\n",
    "print(not_punct_string, \"is punctuation?\", is_punctuation(not_punct_string))"
   ]
  },
  {
   "cell_type": "markdown",
   "metadata": {},
   "source": [
    "### A few useful string transformation methods\n",
    "#### `.replace(string1, string2)`\n",
    "\n",
    "Finds `string1` in the string you call it on and replaces it with `string2`; does nothing if it doesn't find `string1`"
   ]
  },
  {
   "cell_type": "code",
   "execution_count": null,
   "metadata": {},
   "outputs": [],
   "source": [
    "emperor = \"The only emperor is the emperor of ice-cream.\"\n",
    "print(emperor)\n",
    "\n",
    "emperor_nospace = emperor.replace(\" \", \"\")\n",
    "print(emperor_nospace)\n",
    "\n",
    "emperor_of_penguins = emperor.replace(\"ice-cream\", \"penguins\")\n",
    "print(emperor_of_penguins)\n",
    "\n",
    "emperor_of_what = emperor.replace(\"king\", \"monarch\")\n",
    "print(emperor_of_what)"
   ]
  },
  {
   "cell_type": "markdown",
   "metadata": {},
   "source": [
    "We'll do more string methods below, but I want to remind you about two that you've seen before and that are going to be relevant to your interests immediately:\n",
    "\n",
    "#### `.lower()` and `.upper()`\n",
    "\n",
    "We've seen these before, at least in passing. They do what you'd think.\n",
    "* `.lower()` lowercases every character in the string\n",
    "* `.upper()` uppercases every character in the string"
   ]
  },
  {
   "cell_type": "code",
   "execution_count": null,
   "metadata": {},
   "outputs": [],
   "source": [
    "coffee_string = \"I lIkE cOfFeE\"\n",
    "\n",
    "print(coffee_string)\n",
    "\n",
    "print(coffee_string.upper())\n",
    "\n",
    "print(coffee_string.lower())"
   ]
  },
  {
   "cell_type": "markdown",
   "metadata": {},
   "source": [
    "## Practice time!\n",
    "\n",
    "Using string slicing (or a loop if you prefer) and string transformation, write a program to check if a string is a palindrome. A string is a palindrome if it is the same forward as it is backward, ignoring spaces and capitalization. (If you get done with this before the rest of the class, go ahead and have it ignore punctuation, too.)\n",
    "\n",
    "For instance, \"Was it a cat I saw\" is a palindrome. \"Anna\" and \"racecar\" are both palindromes, too. If you arrange the letters backwards, ignoring spaces and capitalization, they're the same.\n",
    "\n",
    "(Hint: I keep saying \"ignoring spaces,\" which is important for reasons that are maybe obvious. Remember, also, that the statement `\"a\" == \"A\"` evaluates to `False`.)"
   ]
  },
  {
   "cell_type": "markdown",
   "metadata": {},
   "source": [
    "### Some multi-character string checking methods\n",
    "\n",
    "#### `.endswith(substring)`\n",
    "\n",
    "Evaluates to `True` if the string you call it on ends with the string you pass in; evalutes to `False` if not"
   ]
  },
  {
   "cell_type": "code",
   "execution_count": null,
   "metadata": {},
   "outputs": [],
   "source": [
    "my_string = \"abcdefghijklmnopqrstuvwxyz\"\n",
    "coffee_string = \"I like coffee\"\n",
    "coffee_string2 = \"I like coffee!\"\n",
    "\n",
    "# which one ends with \"coffee\"?\n",
    "print(my_string, \"ends with coffee:\", my_string.endswith(\"coffee\"))\n",
    "print(coffee_string, \"ends with coffee:\", coffee_string.endswith(\"coffee\"))\n",
    "print(coffee_string2, \"ends with coffee:\", coffee_string2.endswith(\"coffee\"))"
   ]
  },
  {
   "cell_type": "markdown",
   "metadata": {},
   "source": [
    "#### `.startswith(substring)`\n",
    "\n",
    "Returns `True` if the string you call it on begins with the string you pass in; returns `False` if not"
   ]
  },
  {
   "cell_type": "code",
   "execution_count": null,
   "metadata": {},
   "outputs": [],
   "source": [
    "print(my_string, \"starts with i:\", my_string.startswith(\"i\"))\n",
    "print(coffee_string, \"starts with i:\", coffee_string.startswith(\"i\"))"
   ]
  },
  {
   "cell_type": "markdown",
   "metadata": {},
   "source": [
    "#### in, not in \n",
    "\n",
    "Checks to see if a string is inside another string; returns True or False as appropriate"
   ]
  },
  {
   "cell_type": "code",
   "execution_count": null,
   "metadata": {},
   "outputs": [],
   "source": [
    "# remind ourselves what we have\n",
    "print(my_string)\n",
    "print(coffee_string)\n",
    "\n",
    "print(\"lmno is in\", my_string, \"-\", \"lmno\" in my_string)\n",
    "print(\"lmno is in\", coffee_string, \"-\", \"lmno\" in coffee_string)\n",
    "print(\"lmno is NOT in\", my_string, \"-\", \"lmno\" not in my_string)\n",
    "print(\"lmno is NOT in\", coffee_string, \"-\", \"lmno\" not in coffee_string)"
   ]
  },
  {
   "cell_type": "markdown",
   "metadata": {},
   "source": [
    "#### find(substr), rfind(substr)\n",
    "Returns the index of the first and last places the substring is found"
   ]
  },
  {
   "cell_type": "code",
   "execution_count": null,
   "metadata": {},
   "outputs": [],
   "source": [
    "emperor_string = \"The only emperor is the emperor of ice-cream.\"\n",
    "                 #012345678901234567890123456789012345\n",
    "                 #__________1_________2_________3_____\n",
    "\n",
    "# find & rfind a string that appears twice:\n",
    "print(emperor_string.find(\"emperor\"))\n",
    "print(emperor_string.rfind(\"emperor\"))\n",
    "print(\"\")\n",
    "\n",
    "# find & rfind a string that appears once:\n",
    "print(emperor_string.find(\"ice\"))\n",
    "print(emperor_string.rfind(\"ice\"))"
   ]
  },
  {
   "cell_type": "markdown",
   "metadata": {},
   "source": [
    "### Now, some (more) methods for transforming strings\n",
    "\n",
    "#### `.capitalize()`\n",
    "\n",
    "Just capitalizes the first letter"
   ]
  },
  {
   "cell_type": "code",
   "execution_count": null,
   "metadata": {},
   "outputs": [],
   "source": [
    "print(coffee_string.capitalize())"
   ]
  },
  {
   "cell_type": "markdown",
   "metadata": {},
   "source": [
    "#### `.title()`\n",
    "Capitalizes the first letter in every word"
   ]
  },
  {
   "cell_type": "code",
   "execution_count": null,
   "metadata": {},
   "outputs": [],
   "source": [
    "print(coffee_string.title())\n",
    "\n",
    "# but, like, EVERY word\n",
    "an_actual_title = \"frankenstein; or the modern prometheus\"\n",
    "print(an_actual_title.title())\n",
    "\n",
    "print(\"\\nProperly, that title should be: Frankenstein; or the Modern Prometheus\")"
   ]
  },
  {
   "cell_type": "markdown",
   "metadata": {},
   "source": [
    "#### `.strip()`, `.rstrip()`, `.lstrip()` \n",
    "\n",
    "Take off spaces **or optional included substring** from your string. Will remove _all spaces_ or _all copies_ of the substring you feed it. \n",
    "\n",
    "* `.strip()` - off both sides\n",
    "* `.rstrip()` - off the right side\n",
    "* `.lstrip()` - off the left side"
   ]
  },
  {
   "cell_type": "code",
   "execution_count": null,
   "metadata": {},
   "outputs": [],
   "source": [
    "a_string = \"  birds are great  \"\n",
    "\n",
    "# print with some underscores to show where the spaces are\n",
    "print(\"_\", a_string, \"_\", sep=\"\")\n",
    "print(\"_\", a_string.lstrip(), \"_\", sep=\"\")\n",
    "print(\"_\", a_string.rstrip(), \"_\", sep=\"\")\n",
    "print(\"_\", a_string.strip(), \"_\", sep=\"\")"
   ]
  },
  {
   "cell_type": "code",
   "execution_count": null,
   "metadata": {},
   "outputs": [],
   "source": [
    "# stripping other characters\n",
    "\n",
    "exciting = \"WOW!!!!!\"\n",
    "# strips any number of things off the end\n",
    "less_exciting = exciting.rstrip(\"!\")\n",
    "# not really the point, but let's do this.\n",
    "less_exciting = less_exciting.lower()\n",
    "print(less_exciting)"
   ]
  },
  {
   "cell_type": "code",
   "execution_count": null,
   "metadata": {},
   "outputs": [],
   "source": [
    "even_less_exciting = less_exciting.strip(\"w\")\n",
    "print(even_less_exciting)"
   ]
  },
  {
   "cell_type": "markdown",
   "metadata": {},
   "source": [
    "# Moving back and forth between strings and lists\n",
    "\n",
    "It's pretty common to have a list that you wish you could make into a string, or vice versa. Maybe even more so, it's common to have a string that would be easier to work with if you broke it into a list, did some work on it, and then made it a string again.\n",
    "\n",
    "You've seen this before. :) \n",
    "\n",
    "Imagine you wanted to write a function that would do _actual_ title capitalization, keeping words like \"and\" and \"the\" lowercase (unless they're the first word ... it's actually a little bit involved, to write that function properly). You'd need a way to loop over the words and do some processing on them, right? And then you'd have to make them back into a string at the end.\n",
    "\n",
    "The two methods we're going to need for this are\n",
    "* `.split()`\n",
    "* `.join()`\n",
    "\n",
    "#### `.split()`"
   ]
  },
  {
   "cell_type": "code",
   "execution_count": null,
   "metadata": {},
   "outputs": [],
   "source": [
    "# splitting a string into a list of words\n",
    "raven_string = \"Once upon a midnight dreary, while I pondered weak and weary\"\n",
    "raven_list = raven_string.split(\" \")\n",
    "\n",
    "print(raven_string)\n",
    "print(raven_list)"
   ]
  },
  {
   "cell_type": "markdown",
   "metadata": {},
   "source": [
    "It's worth pointing out: you can split on anything. Spaces and endlines are the most common choices, in part because splitting on a character also strips it out. See what happens when we split on the character \"e\" to understand:"
   ]
  },
  {
   "cell_type": "code",
   "execution_count": null,
   "metadata": {},
   "outputs": [],
   "source": [
    "nonsense_raven_list = raven_string.split(\"e\")\n",
    "print(nonsense_raven_list)"
   ]
  },
  {
   "cell_type": "markdown",
   "metadata": {},
   "source": [
    "Now, once we have our string split up, we can do whatever processing we need to do. Let's do the title thing, but I'm going to simplify it just a little bit."
   ]
  },
  {
   "cell_type": "code",
   "execution_count": null,
   "metadata": {},
   "outputs": [],
   "source": [
    "def make_real_title_case(string):\n",
    "    # using US GPO list of uncapitalized words\n",
    "    # (AP, Chicago, and MLA style are more involved)\n",
    "    stopwords = [\"a\", \"an\", \"the\", \"at\", \"by\", \"for\", \\\n",
    "                 \"in\", \"of\", \"on\", \"to\", \"up\", \"and\", \\\n",
    "                 \"as\", \"but\", \"or\", \"nor\"]\n",
    "    list_of_words = string.split(\" \")\n",
    "    for index in range(len(list_of_words)):\n",
    "        # first word of title and non-stopwords need to be capitalized\n",
    "        if index == 0 or list_of_words[index] not in stopwords:\n",
    "            list_of_words[index] = list_of_words[index].capitalize()\n",
    "        # getting rid of capitalization in words that don't need it\n",
    "        else:\n",
    "            list_of_words[index] = list_of_words[index].lower()\n",
    "    # we'll talk about this next!\n",
    "    new_string = \" \".join(list_of_words)\n",
    "    return new_string\n",
    "\n",
    "print(make_real_title_case(raven_string))\n",
    "print(make_real_title_case(an_actual_title))"
   ]
  },
  {
   "cell_type": "markdown",
   "metadata": {},
   "source": [
    "#### `.join()`\n",
    "\n",
    "The syntax for `.join()` is not especially intuitive, at least for me. If I go too long without using it, I have to look up the syntax again. \n",
    "\n",
    "If it helps, remember that this is a *string method, not a list method*, and that's why we have to call it on a string. (If I could remember that consistently, I would not need to look it up.)\n",
    "\n",
    "The syntax pattern is\n",
    "\n",
    "`some_string_variable = \"your glue string\".join(your_list)`\n",
    "\n",
    "So if you have a lot of words in a list, that you want to be put together into a string with a space between them, it'll look like\n",
    "\n",
    "`some_string_variable = \" \".join(your_list_name)`"
   ]
  },
  {
   "cell_type": "code",
   "execution_count": null,
   "metadata": {},
   "outputs": [],
   "source": [
    "# remind ourselves what's in raven_list\n",
    "print(raven_list)\n",
    "\n",
    "raven_string_with_dashes = \"-\".join(raven_list)\n",
    "raven_string_with_spaces = \" \".join(raven_list)\n",
    "\n",
    "print(raven_string_with_dashes)\n",
    "print(raven_string_with_spaces)"
   ]
  },
  {
   "cell_type": "markdown",
   "metadata": {},
   "source": [
    "## A non-apology\n",
    "\n",
    "While we're talking about The Raven, anyway...\n",
    "\n",
    "### `.count(substring)` - counts occurrences of substring in string"
   ]
  },
  {
   "cell_type": "code",
   "execution_count": null,
   "metadata": {},
   "outputs": [],
   "source": [
    "# this piece is a preview for next week; you don't need it now\n",
    "# I just didn't want to fill this notebook with a big, long poem\n",
    "with open('the_raven.txt', 'r') as raven_file_object:\n",
    "    the_raven = raven_file_object.read();\n",
    "\n",
    "# this is the relevant part\n",
    "# as you can see, though: use with caution!\n",
    "nevermores = the_raven.count(\"nevermore\") + the_raven.count(\"Nevermore\")\n",
    "ravens = the_raven.count(\"raven\") + the_raven.count(\"Raven\")\n",
    "\n",
    "print(\"There are\", nevermores, \"occurrences of 'Nevermore' in The Raven\")\n",
    "print(\"There are\", ravens, \"occurrences of 'raven' in The Raven\") # also counted \"craven\""
   ]
  },
  {
   "cell_type": "markdown",
   "metadata": {},
   "source": [
    "#### `.splitlines()`\n",
    "Split a string into a list by lines (each line becomes one string)"
   ]
  },
  {
   "cell_type": "code",
   "execution_count": null,
   "metadata": {},
   "outputs": [],
   "source": [
    "raven_list = the_raven.splitlines()\n",
    "\n",
    "# ugly-print the first 10 lines\n",
    "print(raven_list[:10])\n",
    "\n",
    "# notice what happens between \"Only this and nothing more.\" and \"Ah, distinctly I remember...\""
   ]
  },
  {
   "cell_type": "code",
   "execution_count": null,
   "metadata": {},
   "outputs": [],
   "source": [
    "# we can operate on each line as an individual string, now\n",
    "\n",
    "# pretty-print the first ten lines\n",
    "for index in range(0,10):\n",
    "    print(raven_list[index])"
   ]
  },
  {
   "cell_type": "code",
   "execution_count": null,
   "metadata": {},
   "outputs": [],
   "source": [
    "# skip the empty lines\n",
    "for index in range(0, 10):\n",
    "    # the one empty line we looked at was an empty string\n",
    "    # but let's deal with the case where there's stray whitespace too\n",
    "    if raven_list[index] != \"\" and not raven_list[index].isspace():\n",
    "        print(raven_list[index])"
   ]
  },
  {
   "cell_type": "code",
   "execution_count": null,
   "metadata": {},
   "outputs": [],
   "source": []
  }
 ],
 "metadata": {
  "kernelspec": {
   "display_name": "Python 3",
   "language": "python",
   "name": "python3"
  },
  "language_info": {
   "codemirror_mode": {
    "name": "ipython",
    "version": 3
   },
   "file_extension": ".py",
   "mimetype": "text/x-python",
   "name": "python",
   "nbconvert_exporter": "python",
   "pygments_lexer": "ipython3",
   "version": "3.7.9"
  }
 },
 "nbformat": 4,
 "nbformat_minor": 2
}
