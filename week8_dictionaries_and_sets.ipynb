{
 "cells": [
  {
   "cell_type": "markdown",
   "metadata": {},
   "source": [
    "# Dictionaries\n",
    "\n",
    "Dictionaries in Python work a lot like paper dictionaries. There are keys&mdash;these are the things that will be defined&mdash;and there are values, or the definitions of the keys. Dictionaries in Python are _also_ a lot like lists in that they 1) hold collections of data and 2) are mutable. However, they act in very different ways.\n",
    "\n",
    "_Important Tip:_ Don't try to understand dictionaries like you understand lists. Yes, they are both mutable types made to hold things, but that's where similarites stop.\n",
    "\n",
    "Probably the best way to think of dictionaries is as **small databases.** In each there are two pieces: 1) unique IDs, and 2) associated records. As noted above, we call these 1) **keys** and 2) **values**.\n",
    "\n",
    "Dictionaries are denoted by curly braces:\n",
    "```python\n",
    "empty_dictionary = {}\n",
    "```\n",
    "\n",
    "A single entry in a dictionary consists of the key and the value, separated by a colon:\n",
    "```python\n",
    "my_dictionary = { my_key : my_value }\n",
    "```\n",
    "\n",
    "Multiple entries are separated by commas:\n",
    "```python\n",
    "my_dictionary = { key1 : value1,  # comma here\n",
    "                  key2 : value2   # no comma here\n",
    "                }\n",
    "```\n",
    "\n",
    "We index dictionaries by keys:\n",
    "```python\n",
    "my_dictionary[key1] # returns value1\n",
    "```\n",
    "\n",
    "## Rules for keys:\n",
    "Keys have to be _unique_ (no repetition), and they have to be _immutable,_ which means you can use strings, ints, floats, or tuples as keys for your dictionary. You cannot use lists or dictionaries as keys.\n",
    "\n",
    "Keys aren't stored in memory in any particular order. While you _can_ loop through a dictionary (which we'll do later), you can't be sure _in what order_ you'll access the elements. \n",
    "\n",
    "Unlike lists and tuples, where it's meaningful to access an element by its position, the only way to know you're getting the value you want is to use its key. (So _attempting to access a dictionary item by position is disallowed_.)"
   ]
  },
  {
   "cell_type": "code",
   "execution_count": null,
   "metadata": {},
   "outputs": [],
   "source": [
    "# to get an item, you have to use its key\n",
    "pet_dictionary = { \"name\" : \"Phoebe\",\n",
    "                   \"species\" : \"cockatiel\",\n",
    "                   \"age\" : 14,\n",
    "                   \"color\" : \"grey\",\n",
    "                   \"disposition\" : \"cranky\",\n",
    "                   \"favorite_food\" : \"pizza crust\" # no comma here!\n",
    "                }\n",
    "\n",
    "print(pet_dictionary)\n",
    "#print(pet_dictionary[\"name\"])\n",
    "#print(pet_dictionary[1])"
   ]
  },
  {
   "cell_type": "code",
   "execution_count": null,
   "metadata": {},
   "outputs": [],
   "source": [
    "# the one case where you can access a dictionary with\n",
    "# a numeric key (but be careful!)\n",
    "numeric_dictionary = { 1 : \"a\",\n",
    "                       2 : \"b\",\n",
    "                       3 : \"c\"\n",
    "                     }\n",
    "\n",
    "numeric_dictionary[1]\n",
    "#numeric_dictionary[0]"
   ]
  },
  {
   "cell_type": "code",
   "execution_count": null,
   "metadata": {},
   "outputs": [],
   "source": [
    "# keys must be unique!\n",
    "\n",
    "# trying to double up on keys\n",
    "dinner = { \"starch\" : \"rice\",\n",
    "           \"protein\" : \"beans\",\n",
    "           \"vegetable\" : \"tomatoes\",\n",
    "           \"vegetable\" : \"spinach\",\n",
    "           \"dairy\" : \"cheese\"\n",
    "         }\n",
    "\n",
    "print(dinner)"
   ]
  },
  {
   "cell_type": "markdown",
   "metadata": {},
   "source": [
    "Dictionaries are mutable, so you can add new key-value pairs on the fly, and they are changed in place.\n",
    "\n",
    "The two ways to add new items:"
   ]
  },
  {
   "cell_type": "code",
   "execution_count": null,
   "metadata": {},
   "outputs": [],
   "source": [
    "# 1) with a new index\n",
    "pet_dictionary = { \"name\" : \"Phoebe\",\n",
    "                   \"species\" : \"cockatiel\",\n",
    "                   \"age\" : 14,\n",
    "                   \"color\" : \"grey\",\n",
    "                   \"disposition\" : \"cranky\",\n",
    "                   \"favorite_food\" : \"pizza crust\" # no comma here!\n",
    "                }\n",
    "print(pet_dictionary)\n",
    "\n",
    "pet_dictionary[\"favorite_toy\"] = \"bell\"\n",
    "print(pet_dictionary)"
   ]
  },
  {
   "cell_type": "code",
   "execution_count": null,
   "metadata": {
    "scrolled": true
   },
   "outputs": [],
   "source": [
    "# 2) with .update()\n",
    "pet_dictionary.update({\"best_friend\" : \"Pepper\"})\n",
    "print(pet_dictionary)"
   ]
  },
  {
   "cell_type": "markdown",
   "metadata": {},
   "source": [
    "And we can change values in place, as well."
   ]
  },
  {
   "cell_type": "code",
   "execution_count": null,
   "metadata": {},
   "outputs": [],
   "source": [
    "pet_dictionary = { \"name\" : \"Phoebe\",\n",
    "                   \"species\" : \"cockatiel\",\n",
    "                   \"age\" : 14,\n",
    "                   \"color\" : \"grey\",\n",
    "                   \"disposition\" : \"cranky\",\n",
    "                   \"favorite_toy\" : \"bell\",\n",
    "                   \"best_friend\" : \"Pepper\",\n",
    "                   \"favorite_food\" : \"pizza crust\" # no comma here!\n",
    "                }\n",
    "\n",
    "print(pet_dictionary)\n",
    "print(\"\") # adding a space\n",
    "\n",
    "# change a value\n",
    "pet_dictionary[\"favorite_food\"] = \"millet\"\n",
    "print(pet_dictionary)"
   ]
  },
  {
   "cell_type": "markdown",
   "metadata": {},
   "source": [
    "And you can remove key-value pairs, as well."
   ]
  },
  {
   "cell_type": "code",
   "execution_count": null,
   "metadata": {},
   "outputs": [],
   "source": [
    "pet_dictionary = { \"name\" : \"Phoebe\",\n",
    "                   \"species\" : \"cockatiel\",\n",
    "                   \"age\" : 14,\n",
    "                   \"color\" : \"grey\",\n",
    "                   \"disposition\" : \"cranky\",\n",
    "                   \"favorite_toy\" : \"bell\",\n",
    "                   \"best_friend\" : \"Pepper\",\n",
    "                   \"favorite_food\" : \"pizza crust\" # no comma here!\n",
    "                }\n",
    "\n",
    "print(pet_dictionary)\n",
    "print(\"\") # adding a space\n",
    "\n",
    "\n",
    "# remove a key-value pair:\n",
    "del pet_dictionary[\"favorite_toy\"]\n",
    "print(pet_dictionary)\n",
    "print(\"\") # adding a space\n",
    "\n",
    "pet_dictionary[\"best_toy\"] = \"bell\"\n",
    "print(pet_dictionary)"
   ]
  },
  {
   "cell_type": "markdown",
   "metadata": {},
   "source": [
    "### Looping through a dictionary\n",
    "\n",
    "Another thing dictionaries have in common with lists: we _never_ print them as-is for our users. All those curly braces and quotation marks are confusing to non-programmers. (And honestly, it's hard to read, even if you know what you're looking at.)\n",
    "\n",
    "So from now on, for clarity, let's pretty-print:"
   ]
  },
  {
   "cell_type": "code",
   "execution_count": null,
   "metadata": {},
   "outputs": [],
   "source": [
    "# go through each key in the dictionary, in no particular order\n",
    "for key in pet_dictionary:\n",
    "    # printing the keys\n",
    "    print(key, end=\"\")\n",
    "    # print a separator\n",
    "    print(\": \", end=\"\")\n",
    "    # print the value that goes with the key\n",
    "    print(pet_dictionary[key])\n",
    "    \n",
    "#     # prints can be done all on one line, too:\n",
    "#       print(key, \": \", pet_dictionary[key], sep=\"\")"
   ]
  },
  {
   "cell_type": "markdown",
   "metadata": {},
   "source": [
    "### Another rule for keys\n",
    "While all keys have to be immutable, they don't all have to be the same type."
   ]
  },
  {
   "cell_type": "code",
   "execution_count": null,
   "metadata": {},
   "outputs": [],
   "source": [
    "# some keys are numbers, and some are strings!\n",
    "answers = { 70 : \"How many ingredients are in a McRib\",\n",
    "            \"location\" : \"What's the difference between magma and lava\",\n",
    "            42 : \"Answer to the ultimate question of life, the universe, and everything\",\n",
    "            \"vegetable\" : \"Is a tomato a fruit or a vegetable\"\n",
    "          }\n",
    "\n",
    "# see how we print the values before the keys?\n",
    "for key in answers:\n",
    "    print(answers[key] + \"? \" + str(key))"
   ]
  },
  {
   "cell_type": "code",
   "execution_count": null,
   "metadata": {},
   "outputs": [],
   "source": [
    "# indexing by key\n",
    "print(answers[70])\n",
    "print(answers[\"location\"])"
   ]
  },
  {
   "cell_type": "markdown",
   "metadata": {},
   "source": [
    "## Rules for values\n",
    "\n",
    "There aren't actually many rules for dictionary values. They can be mutable or immutable, which means that, in addition to the strings, floats, integers, and tuples allowed for keys, values can also include lists, sets, and other dictionaries. You can mix types of values within the same dictionary, as well."
   ]
  },
  {
   "cell_type": "code",
   "execution_count": null,
   "metadata": {},
   "outputs": [],
   "source": [
    "# this is a totally legal dictionary!\n",
    "# one value is a list\n",
    "# one value is a dictionary\n",
    "# two other values are strings\n",
    "beverages = { \"coffee\" : [\"drip\", \"cold brew\", \"latte\", \"espresso\", \"au lait\"],\n",
    "              \"tea\" : \"earl grey, hot\",\n",
    "              \"carbonated\" : { \"diet soda\" : \"Diet Dr. Pepper\",\n",
    "                              \"fruity\" : \"La Croix\",\n",
    "                              \"vinegary\" : \"kombucha\"\n",
    "                             },\n",
    "              \"other\" : \"water\"   # no comma here!\n",
    "              }\n",
    "\n",
    "# not a very pretty-print, honestly\n",
    "for key in beverages:\n",
    "    print(key, \": \", str(beverages[key]), sep=\"\")"
   ]
  },
  {
   "cell_type": "markdown",
   "metadata": {},
   "source": [
    "And values can absolutely be repeated. No problem."
   ]
  },
  {
   "cell_type": "code",
   "execution_count": null,
   "metadata": {},
   "outputs": [],
   "source": [
    "# doubling up on values\n",
    "dinner = { \"starch\" : \"rice\",\n",
    "           \"protein\" : \"beans\",\n",
    "           \"vegetable\" : \"beans\",\n",
    "           \"dairy\" : \"cheese\"\n",
    "         }\n",
    "\n",
    "print(dinner)"
   ]
  },
  {
   "cell_type": "markdown",
   "metadata": {},
   "source": [
    "Printing a more complicated dictionary like this is actually a little bit involved. This won't be necessary for today's homework. I just want you to have seen it once, before you go on to Python 2:"
   ]
  },
  {
   "cell_type": "code",
   "execution_count": null,
   "metadata": {},
   "outputs": [],
   "source": [
    "# New tool: isinstance(item, type), returns a Boolean\n",
    "\n",
    "for key in beverages:\n",
    "    # if we're looking at a list (like for key=\"coffee\")\n",
    "    if isinstance(beverages[key], list):\n",
    "        # print the key and a separator\n",
    "        print(key + \": \", end=\"\")\n",
    "        # loop through the items in the list that is our value\n",
    "        # (standard loop for pretty-printing a list)\n",
    "        for item in beverages[key]:\n",
    "            print(item + \"; \", end=\"\")\n",
    "        print(\"\") # just to get the endline we need\n",
    "    # if we're looking at a dictionary (like for key=\"carbonated\")\n",
    "    elif isinstance(beverages[key], dict):\n",
    "        # print the key, the separator, and a newline character\n",
    "        print(key + \": \")\n",
    "        # now we're one level down, looping through a dictionary\n",
    "        for sub_key in beverages[key]:\n",
    "            print(\"\\t\" + sub_key + \": \" + beverages[key][sub_key])\n",
    "    # for _this_ dictionary, if it isn't a list or a dictionary, it's a string\n",
    "    else: \n",
    "        print(key + \": \" + beverages[key])"
   ]
  },
  {
   "cell_type": "markdown",
   "metadata": {},
   "source": [
    "Just one more note, because it's worth saying explicitly: you can use constants to define dictionaries, like we've been doing, but you can also define dictionaries using variables!"
   ]
  },
  {
   "cell_type": "code",
   "execution_count": null,
   "metadata": {},
   "outputs": [],
   "source": [
    "key1 = \"parrots\"\n",
    "key2 = \"corvids\"\n",
    "key3 = \"waterfowl (Anatidae)\"\n",
    "\n",
    "value1 = \"macaws\"\n",
    "value2 = [\"crows\", \"ravens\", \"magpies\", \"jays\"]\n",
    "value3 = [\"ducks\", \"geese\", \"swans\"]\n",
    "\n",
    "bird_dictionary = { key1 : value1,\n",
    "                    key2 : value2,\n",
    "                    key3 : value3\n",
    "                  }\n",
    "\n",
    "for key in bird_dictionary:\n",
    "    print(key, \": \", bird_dictionary[key], sep=\"\")"
   ]
  },
  {
   "cell_type": "markdown",
   "metadata": {},
   "source": [
    "## A little practice\n",
    "\n",
    "Make a dictionary of some of your favorite things. Be as specific as you want -- so it could literally be a whole bunch of unrelated favorite things, or it could be specific types of favorite things. \n",
    "\n",
    "Pretty-print your dictionary.\n",
    "\n",
    "Give me a thumbs up when you've got it working."
   ]
  },
  {
   "cell_type": "markdown",
   "metadata": {},
   "source": [
    "## Dictionary methods\n",
    "\n",
    "### `len()`\n",
    "\n",
    "Gives us the number of keys in our dictionary."
   ]
  },
  {
   "cell_type": "code",
   "execution_count": null,
   "metadata": {},
   "outputs": [],
   "source": [
    "# an old favorite\n",
    "length = len(pet_dictionary)\n",
    "print(length)\n",
    "print(pet_dictionary)"
   ]
  },
  {
   "cell_type": "markdown",
   "metadata": {},
   "source": [
    "### `.items()`\n",
    "\n",
    "Gives you a list of tuples (sort of); each has the key in the first spot and the value in the second spot."
   ]
  },
  {
   "cell_type": "code",
   "execution_count": null,
   "metadata": {},
   "outputs": [],
   "source": [
    "items = pet_dictionary.items()\n",
    "\n",
    "# let's see what's in this\n",
    "print(items, \"\\n\")\n",
    "\n",
    "# # really? what type is that?\n",
    "print(\"Type:\", type(items), \"\\n\")\n",
    "\n",
    "items = list(items)\n",
    "print(items)"
   ]
  },
  {
   "cell_type": "code",
   "execution_count": null,
   "metadata": {},
   "outputs": [],
   "source": [
    "# can we make it an actual list by type casting?\n",
    "items = list(items)\n",
    "print(\"Type:\", type(items), \"\\n\")\n",
    "print(items, \"\\n\")\n",
    "# just a reminder of what those parentheses mean\n",
    "print(\"Type:\", type(items[0]))"
   ]
  },
  {
   "cell_type": "code",
   "execution_count": null,
   "metadata": {},
   "outputs": [],
   "source": [
    "# and what would we type to get it to print \"Phoebe\"?\n"
   ]
  },
  {
   "cell_type": "markdown",
   "metadata": {},
   "source": [
    "There's one place where `.items()` is used a lot, and that is the other syntax for looping through a dictionary:"
   ]
  },
  {
   "cell_type": "code",
   "execution_count": null,
   "metadata": {},
   "outputs": [],
   "source": [
    "# yep, this is legal\n",
    "# you DO NOT HAVE TO DO THIS EVER\n",
    "# but it's a tool if you want it\n",
    "for key, value in pet_dictionary.items():\n",
    "    print(key, \": \", value, sep=\"\")"
   ]
  },
  {
   "cell_type": "markdown",
   "metadata": {},
   "source": [
    "### `.keys()` and `.values()`\n",
    "\n",
    "Useful when you need a list of keys, or a list of values.\n",
    "\n",
    "You can use this to get your keys in alphabetical order, with a little bit of trickery."
   ]
  },
  {
   "cell_type": "code",
   "execution_count": null,
   "metadata": {},
   "outputs": [],
   "source": [
    "keys = pet_dictionary.keys()\n",
    "values = pet_dictionary.values()\n",
    "\n",
    "print(\"Keys:\", keys)\n",
    "print(\"Values:\", values)"
   ]
  },
  {
   "cell_type": "code",
   "execution_count": null,
   "metadata": {},
   "outputs": [],
   "source": [
    "#same deal, though: we can make it into a list if we want\n",
    "keys = list(keys)\n",
    "values = list(values)\n",
    "\n",
    "print(\"Keys:\", keys)\n",
    "print(\"Values:\", values)\n",
    "print(type(keys))"
   ]
  },
  {
   "cell_type": "markdown",
   "metadata": {},
   "source": [
    "One useful thing you can do with `.keys()` is to ensure that you're **printing your dictionary in a sorted order** (assuming all of your keys are the same type and are set up to be sortable in a meaningful way)."
   ]
  },
  {
   "cell_type": "code",
   "execution_count": null,
   "metadata": {},
   "outputs": [],
   "source": [
    "# get our list of keys\n",
    "keys = list(pet_dictionary.keys())\n",
    "# put it in alphabetical order\n",
    "keys.sort()\n",
    "\n",
    "# now we loop through the SORTED LIST of keys\n",
    "# and we access our dictionary with them\n",
    "for thing in keys:\n",
    "    print(thing, \": \", pet_dictionary[thing], sep=\"\")"
   ]
  },
  {
   "cell_type": "markdown",
   "metadata": {},
   "source": [
    "### `in` and `not in`\n",
    "\n",
    "More old friends! They test on keys."
   ]
  },
  {
   "cell_type": "code",
   "execution_count": null,
   "metadata": {},
   "outputs": [],
   "source": [
    "print(pet_dictionary)\n"
   ]
  },
  {
   "cell_type": "code",
   "execution_count": null,
   "metadata": {},
   "outputs": [],
   "source": [
    "# probably the most common usages of in and not in\n",
    "\n",
    "# make sure you don't get a key error\n",
    "if \"name\" in pet_dictionary and \"age\" in pet_dictionary:\n",
    "    print(pet_dictionary[\"name\"], \"'s Age: \", str(pet_dictionary[\"age\"]), sep=\"\")\n",
    "\n",
    "# see if you need to add something or not\n",
    "if \"favorite_toy\" not in pet_dictionary:\n",
    "    pet_dictionary.update({\"favorite_toy\": \"bell\"})\n",
    "    print(\"added!\")\n",
    "\n",
    "print()\n",
    "for key in pet_dictionary:\n",
    "    print(key + \": \" + str(pet_dictionary[key]))  "
   ]
  },
  {
   "cell_type": "markdown",
   "metadata": {},
   "source": [
    "## Sets\n",
    "\n",
    "Sets probably make a lot of intuitive sense to those of you who learned about them in math and who remember that part of your math education. You'll find uses for them.\n",
    "\n",
    "For folks who don't remember or haven't been taught about mathematical sets, that part of the chapter was probably a lot to take in. The good news is that you can always look up the meaning of \"union\" or \"intersection\" or \"symmetric difference\" when you need to use them; they're the same in Python as they are in mathematical sets.\n",
    "\n",
    "Python sets aren't something you'll use every day. But it's good to remember that they exist, because having a type that holds a bunch of items, with the rule \"there can be exactly one of each item\" is powerful. \n",
    "\n",
    "Things to remember about sets:\n",
    "* They are unordered\n",
    "* They are mutable\n",
    "* They are iterable (you can loop over them)\n",
    "* Every item in the set must be unique\n",
    "\n",
    "### Building an empty set and adding items"
   ]
  },
  {
   "cell_type": "code",
   "execution_count": null,
   "metadata": {},
   "outputs": [],
   "source": [
    "alpha_set = set()\n",
    "\n",
    "alpha_set.add(\"a\")\n",
    "alpha_set.add(\"b\")\n",
    "alpha_set.add(\"c\")\n",
    "\n",
    "print(alpha_set)"
   ]
  },
  {
   "cell_type": "markdown",
   "metadata": {},
   "source": [
    "This is one way sets differ from everything else we've looked at this semester. When you want to instantiate an empty list, you use \\[\\]. When you want to instantiate an empty string, you use \"\".\n",
    "```python\n",
    "my_list = []\n",
    "my_string = \"\"\n",
    "```\n",
    "\n",
    "Not so with sets, which as you can see above, use curly braces. Or do they?"
   ]
  },
  {
   "cell_type": "code",
   "execution_count": null,
   "metadata": {},
   "outputs": [],
   "source": [
    "my_set = {}\n",
    "print(type(my_set)) #hmm\n",
    "\n",
    "my_set.add(\"a\") #nope\n",
    "print(my_set)"
   ]
  },
  {
   "cell_type": "markdown",
   "metadata": {},
   "source": [
    "OK, you can't use braces to declare an empty set (you have to use `set()`), but you can still use braces to declare a set with items in it."
   ]
  },
  {
   "cell_type": "code",
   "execution_count": null,
   "metadata": {},
   "outputs": [],
   "source": [
    "my_set = {\"apples\", \"oranges\", \"cauliflowers\", \"potatoes\"}\n",
    "print(my_set)\n",
    "\n",
    "my_set.add(\"strawberries\")\n",
    "print(my_set)"
   ]
  },
  {
   "cell_type": "markdown",
   "metadata": {},
   "source": [
    "We can try to add duplicate items to our hearts' content, but it won't do anything. That's what makes a set a set!"
   ]
  },
  {
   "cell_type": "code",
   "execution_count": null,
   "metadata": {},
   "outputs": [],
   "source": [
    "print(alpha_set)\n",
    "\n",
    "alpha_set.add(\"c\")\n",
    "alpha_set.add(\"b\")\n",
    "\n",
    "print(alpha_set)"
   ]
  },
  {
   "cell_type": "markdown",
   "metadata": {},
   "source": [
    "We can do interesting things with lists, using this property."
   ]
  },
  {
   "cell_type": "code",
   "execution_count": null,
   "metadata": {},
   "outputs": [],
   "source": [
    "# let's make a list\n",
    "more_letters = [\"d\", \"e\", \"f\", \"g\", \"f\", \"e\", \"d\"]\n",
    "print(more_letters)\n",
    "\n",
    "# and let's cast it to a set\n",
    "more_letters = set(more_letters)\n",
    "print(more_letters)\n",
    "\n",
    "# now, if we need a list with no duplicates, here we go:\n",
    "no_duplicate_letters_list = list(more_letters)\n",
    "print(no_duplicate_letters_list)"
   ]
  },
  {
   "cell_type": "markdown",
   "metadata": {},
   "source": [
    "We can also combine our sets with `.update()`"
   ]
  },
  {
   "cell_type": "code",
   "execution_count": null,
   "metadata": {},
   "outputs": [],
   "source": [
    "print(alpha_set)\n",
    "\n",
    "alpha_set.update(more_letters)\n",
    "print(alpha_set)"
   ]
  },
  {
   "cell_type": "markdown",
   "metadata": {},
   "source": [
    "And there are two ways to remove items from a set:\n",
    "\n",
    "### `.remove()` and `.discard()`"
   ]
  },
  {
   "cell_type": "code",
   "execution_count": null,
   "metadata": {},
   "outputs": [],
   "source": [
    "alpha_set.remove(\"g\")\n",
    "print(alpha_set)\n",
    "\n",
    "alpha_set.discard(\"f\")\n",
    "print(alpha_set)"
   ]
  },
  {
   "cell_type": "markdown",
   "metadata": {},
   "source": [
    "Here's the difference:"
   ]
  },
  {
   "cell_type": "code",
   "execution_count": null,
   "metadata": {},
   "outputs": [],
   "source": [
    "alpha_set.discard(\"g\")\n",
    "print(\"discarded\")\n",
    "alpha_set.remove(\"g\")\n",
    "print(\"removed\")"
   ]
  },
  {
   "cell_type": "markdown",
   "metadata": {},
   "source": [
    "You don't have to remember the difference, though, since `in` and `not in` are also available for sets:"
   ]
  },
  {
   "cell_type": "code",
   "execution_count": null,
   "metadata": {},
   "outputs": [],
   "source": [
    "if \"e\" in alpha_set:\n",
    "    alpha_set.remove(\"e\")\n",
    "    \n",
    "print(alpha_set)"
   ]
  },
  {
   "cell_type": "code",
   "execution_count": null,
   "metadata": {},
   "outputs": [],
   "source": []
  }
 ],
 "metadata": {
  "kernelspec": {
   "display_name": "Python 3",
   "language": "python",
   "name": "python3"
  },
  "language_info": {
   "codemirror_mode": {
    "name": "ipython",
    "version": 3
   },
   "file_extension": ".py",
   "mimetype": "text/x-python",
   "name": "python",
   "nbconvert_exporter": "python",
   "pygments_lexer": "ipython3",
   "version": "3.7.9"
  }
 },
 "nbformat": 4,
 "nbformat_minor": 2
}
